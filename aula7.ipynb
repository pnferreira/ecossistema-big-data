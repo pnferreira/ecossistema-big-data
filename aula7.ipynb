{
 "cells": [
  {
   "cell_type": "code",
   "execution_count": 1,
   "id": "ae0acc7b-b8dc-43be-9561-3d2e144fc9d4",
   "metadata": {},
   "outputs": [
    {
     "data": {
      "text/plain": [
       "'/Users/pnferreira-m1/anaconda3/envs/koru/lib/python3.11/site-packages/pyspark'"
      ]
     },
     "execution_count": 1,
     "metadata": {},
     "output_type": "execute_result"
    }
   ],
   "source": [
    "import findspark\n",
    "findspark.init()\n",
    "findspark.find()"
   ]
  },
  {
   "cell_type": "code",
   "execution_count": 2,
   "id": "bff3fd1d-345f-4cd3-902e-166f51836813",
   "metadata": {},
   "outputs": [
    {
     "name": "stderr",
     "output_type": "stream",
     "text": [
      "Setting default log level to \"WARN\".\n",
      "To adjust logging level use sc.setLogLevel(newLevel). For SparkR, use setLogLevel(newLevel).\n",
      "24/05/07 20:09:09 WARN NativeCodeLoader: Unable to load native-hadoop library for your platform... using builtin-java classes where applicable\n"
     ]
    }
   ],
   "source": [
    "from pyspark.sql import SparkSession\n",
    "\n",
    "spark = SparkSession.builder.master('local[1]').appName('koru').getOrCreate()"
   ]
  },
  {
   "cell_type": "code",
   "execution_count": 3,
   "id": "972c214b-84c7-48c7-83df-7e70f968c88f",
   "metadata": {},
   "outputs": [
    {
     "data": {
      "text/html": [
       "\n",
       "            <div>\n",
       "                <p><b>SparkSession - in-memory</b></p>\n",
       "                \n",
       "        <div>\n",
       "            <p><b>SparkContext</b></p>\n",
       "\n",
       "            <p><a href=\"http://192.168.100.53:4040\">Spark UI</a></p>\n",
       "\n",
       "            <dl>\n",
       "              <dt>Version</dt>\n",
       "                <dd><code>v3.5.1</code></dd>\n",
       "              <dt>Master</dt>\n",
       "                <dd><code>local[1]</code></dd>\n",
       "              <dt>AppName</dt>\n",
       "                <dd><code>koru</code></dd>\n",
       "            </dl>\n",
       "        </div>\n",
       "        \n",
       "            </div>\n",
       "        "
      ],
      "text/plain": [
       "<pyspark.sql.session.SparkSession at 0x10c3aef10>"
      ]
     },
     "execution_count": 3,
     "metadata": {},
     "output_type": "execute_result"
    }
   ],
   "source": [
    "spark"
   ]
  },
  {
   "cell_type": "markdown",
   "id": "957e6745-cfd3-4665-b64f-b669b254414e",
   "metadata": {},
   "source": [
    "## Voltamos as 20:23"
   ]
  },
  {
   "cell_type": "code",
   "execution_count": 6,
   "id": "29ef8ad2-bcf3-41d1-8418-40157216d44a",
   "metadata": {},
   "outputs": [],
   "source": [
    "dados = [('maca', 30), ('banana', 20), ('cereja', 8)]\n",
    "rdd1 = spark.sparkContext.parallelize(dados)"
   ]
  },
  {
   "cell_type": "code",
   "execution_count": 7,
   "id": "623240f1-0a83-4689-b3b5-7bfbdf6e049e",
   "metadata": {},
   "outputs": [
    {
     "data": {
      "text/plain": [
       "ParallelCollectionRDD[0] at readRDDFromFile at PythonRDD.scala:289"
      ]
     },
     "execution_count": 7,
     "metadata": {},
     "output_type": "execute_result"
    }
   ],
   "source": [
    "rdd1"
   ]
  },
  {
   "cell_type": "code",
   "execution_count": 8,
   "id": "55c2accd-135f-4068-b717-c53c818a26d2",
   "metadata": {},
   "outputs": [
    {
     "name": "stderr",
     "output_type": "stream",
     "text": [
      "                                                                                \r"
     ]
    },
    {
     "data": {
      "text/plain": [
       "[('maca', 30), ('banana', 20), ('cereja', 8)]"
      ]
     },
     "execution_count": 8,
     "metadata": {},
     "output_type": "execute_result"
    }
   ],
   "source": [
    "# importar os dados\n",
    "rdd1.collect()"
   ]
  },
  {
   "cell_type": "code",
   "execution_count": 9,
   "id": "43bce53a-569a-41da-bd8a-3191c38f8c64",
   "metadata": {},
   "outputs": [
    {
     "data": {
      "text/plain": [
       "1"
      ]
     },
     "execution_count": 9,
     "metadata": {},
     "output_type": "execute_result"
    }
   ],
   "source": [
    "rdd1.getNumPartitions()"
   ]
  },
  {
   "cell_type": "code",
   "execution_count": 12,
   "id": "3754e402-64d4-4768-b7c3-df3ac8551631",
   "metadata": {},
   "outputs": [],
   "source": [
    "rddArquivo = spark.sparkContext.textFile('test.txt')"
   ]
  },
  {
   "cell_type": "code",
   "execution_count": 15,
   "id": "9a75d837-6358-4847-affa-f7bfbff41f20",
   "metadata": {},
   "outputs": [],
   "source": [
    "rddArquivo.collect()[0] = 'outra coisa'"
   ]
  },
  {
   "cell_type": "code",
   "execution_count": 16,
   "id": "31c406a6-4145-4f13-a305-5ffc9cc76591",
   "metadata": {},
   "outputs": [
    {
     "data": {
      "text/plain": [
       "'Project Gutenberg’s'"
      ]
     },
     "execution_count": 16,
     "metadata": {},
     "output_type": "execute_result"
    }
   ],
   "source": [
    "rddArquivo.collect()[0]"
   ]
  },
  {
   "cell_type": "code",
   "execution_count": 20,
   "id": "b1a2ec34-de68-40c0-8e23-2b5906ddce28",
   "metadata": {},
   "outputs": [
    {
     "data": {
      "text/plain": [
       "1"
      ]
     },
     "execution_count": 20,
     "metadata": {},
     "output_type": "execute_result"
    }
   ],
   "source": [
    "rddArquivo.getNumPartitions()"
   ]
  },
  {
   "cell_type": "markdown",
   "id": "c891fb41-9f68-4000-bdc6-f6352bfb9f79",
   "metadata": {},
   "source": [
    "## Transformações"
   ]
  },
  {
   "cell_type": "code",
   "execution_count": 21,
   "id": "5dfec6e1-2bde-42ef-876a-1a306077a483",
   "metadata": {},
   "outputs": [],
   "source": [
    "dados = [1,2,3,4]\n",
    "rdd = spark.sparkContext.parallelize(dados)"
   ]
  },
  {
   "cell_type": "code",
   "execution_count": 24,
   "id": "4c93c63d-0963-4227-9c09-658fdb0c7f4d",
   "metadata": {},
   "outputs": [],
   "source": [
    "# aplicando uma função a cada item do rdd\n",
    "def ao_quadrado(x):\n",
    "    return x**2\n",
    "\n",
    "rdd_map = rdd.map(ao_quadrado)"
   ]
  },
  {
   "cell_type": "code",
   "execution_count": 25,
   "id": "63a211aa-04a2-4f14-8de3-875bdcf7376e",
   "metadata": {},
   "outputs": [
    {
     "name": "stderr",
     "output_type": "stream",
     "text": [
      "                                                                                \r"
     ]
    },
    {
     "data": {
      "text/plain": [
       "[1, 4, 9, 16]"
      ]
     },
     "execution_count": 25,
     "metadata": {},
     "output_type": "execute_result"
    }
   ],
   "source": [
    "rdd_map.collect()"
   ]
  },
  {
   "cell_type": "code",
   "execution_count": 27,
   "id": "29e56e4d-9f41-400f-8e44-21756f72beef",
   "metadata": {},
   "outputs": [
    {
     "data": {
      "text/plain": [
       "[2, 4]"
      ]
     },
     "execution_count": 27,
     "metadata": {},
     "output_type": "execute_result"
    }
   ],
   "source": [
    "# filter\n",
    "def e_par(x):\n",
    "    return x%2 == 0\n",
    "    \n",
    "rdd_filtro = rdd.filter(e_par)\n",
    "rdd_filtro.collect()"
   ]
  },
  {
   "cell_type": "code",
   "execution_count": null,
   "id": "fcfe6060-a8cb-48c5-bf12-155802b8c4f7",
   "metadata": {},
   "outputs": [],
   "source": [
    "list(range(4, 4+3))"
   ]
  },
  {
   "cell_type": "code",
   "execution_count": 32,
   "id": "a92f07db-5681-4f7d-bb1c-441a54b11d9c",
   "metadata": {},
   "outputs": [
    {
     "data": {
      "text/plain": [
       "[1, 2, 3, 2, 3, 4, 3, 4, 5, 4, 5, 6]"
      ]
     },
     "execution_count": 32,
     "metadata": {},
     "output_type": "execute_result"
    }
   ],
   "source": [
    "# flatMap - cada entrada pode ser mapeada para múltiplas saídas\n",
    "def valor_mais_tres(x):\n",
    "    return range(x, x+3)\n",
    "    \n",
    "rdd_flatmap = rdd.flatMap(valor_mais_tres)\n",
    "rdd_flatmap.collect()"
   ]
  },
  {
   "cell_type": "code",
   "execution_count": 33,
   "id": "46a89560-0540-4b2c-a43a-4363806f86fa",
   "metadata": {},
   "outputs": [
    {
     "data": {
      "text/plain": [
       "[1, 2, 3, 4, 1, 4, 9, 16]"
      ]
     },
     "execution_count": 33,
     "metadata": {},
     "output_type": "execute_result"
    }
   ],
   "source": [
    "# union - juntar dois rdds\n",
    "rdd_union = rdd.union(rdd_map)\n",
    "rdd_union.collect()"
   ]
  },
  {
   "cell_type": "markdown",
   "id": "d9fd3e4f-18c9-4966-9505-e6286cbd3c95",
   "metadata": {},
   "source": [
    "## Ações"
   ]
  },
  {
   "cell_type": "code",
   "execution_count": 34,
   "id": "e276b091-2956-42ee-b71e-c9cfe8108d39",
   "metadata": {},
   "outputs": [
    {
     "data": {
      "text/plain": [
       "[1, 2, 3, 4]"
      ]
     },
     "execution_count": 34,
     "metadata": {},
     "output_type": "execute_result"
    }
   ],
   "source": [
    "# collect - retornar todos os elementos\n",
    "rdd.collect()"
   ]
  },
  {
   "cell_type": "code",
   "execution_count": 35,
   "id": "7062a0d8-f50c-4424-9397-04d52c6eb4c2",
   "metadata": {},
   "outputs": [
    {
     "data": {
      "text/plain": [
       "4"
      ]
     },
     "execution_count": 35,
     "metadata": {},
     "output_type": "execute_result"
    }
   ],
   "source": [
    "# contagem de quantos elementos tem\n",
    "rdd.count()"
   ]
  },
  {
   "cell_type": "code",
   "execution_count": 36,
   "id": "6138108b-e3e5-49a6-9cbd-62a8764c210b",
   "metadata": {},
   "outputs": [
    {
     "data": {
      "text/plain": [
       "1"
      ]
     },
     "execution_count": 36,
     "metadata": {},
     "output_type": "execute_result"
    }
   ],
   "source": [
    "# primeiro elemntos\n",
    "rdd.first()"
   ]
  },
  {
   "cell_type": "code",
   "execution_count": 37,
   "id": "3b2447eb-ce29-4e5b-a5f7-633efcf52381",
   "metadata": {},
   "outputs": [
    {
     "data": {
      "text/plain": [
       "[1, 2, 3]"
      ]
     },
     "execution_count": 37,
     "metadata": {},
     "output_type": "execute_result"
    }
   ],
   "source": [
    "# take - os n primeiros elementos\n",
    "rdd.take(3)"
   ]
  },
  {
   "cell_type": "code",
   "execution_count": 38,
   "id": "8aa8296d-4920-459d-a551-7143f11f3056",
   "metadata": {},
   "outputs": [
    {
     "data": {
      "text/plain": [
       "10"
      ]
     },
     "execution_count": 38,
     "metadata": {},
     "output_type": "execute_result"
    }
   ],
   "source": [
    "# reduce - agregando elementos usando alguma função\n",
    "def soma(a, b):\n",
    "    return a+b\n",
    "soma = rdd.reduce(soma)\n",
    "soma"
   ]
  },
  {
   "cell_type": "code",
   "execution_count": null,
   "id": "60c3cb2c-22d8-4a3d-b74c-3f0e991babe3",
   "metadata": {},
   "outputs": [],
   "source": []
  }
 ],
 "metadata": {
  "kernelspec": {
   "display_name": "Python 3 (ipykernel)",
   "language": "python",
   "name": "python3"
  },
  "language_info": {
   "codemirror_mode": {
    "name": "ipython",
    "version": 3
   },
   "file_extension": ".py",
   "mimetype": "text/x-python",
   "name": "python",
   "nbconvert_exporter": "python",
   "pygments_lexer": "ipython3",
   "version": "3.11.5"
  }
 },
 "nbformat": 4,
 "nbformat_minor": 5
}
