{
 "cells": [
  {
   "cell_type": "code",
   "execution_count": 2,
   "id": "9d917da1-9b10-4531-a203-463390a92ce1",
   "metadata": {},
   "outputs": [
    {
     "data": {
      "text/plain": [
       "'/Users/pnferreira-m1/anaconda3/envs/koru/lib/python3.11/site-packages/pyspark'"
      ]
     },
     "execution_count": 2,
     "metadata": {},
     "output_type": "execute_result"
    }
   ],
   "source": [
    "import findspark\n",
    "findspark.init()\n",
    "findspark.find()"
   ]
  },
  {
   "cell_type": "code",
   "execution_count": 3,
   "id": "1e20b4ff-e0b2-4ac6-a410-f397cd422670",
   "metadata": {},
   "outputs": [
    {
     "name": "stderr",
     "output_type": "stream",
     "text": [
      "24/06/19 12:59:14 WARN Utils: Your hostname, pnferreira-m1.local resolves to a loopback address: 127.0.0.1; using 192.168.0.102 instead (on interface en0)\n",
      "24/06/19 12:59:14 WARN Utils: Set SPARK_LOCAL_IP if you need to bind to another address\n",
      "Setting default log level to \"WARN\".\n",
      "To adjust logging level use sc.setLogLevel(newLevel). For SparkR, use setLogLevel(newLevel).\n",
      "24/06/19 12:59:14 WARN NativeCodeLoader: Unable to load native-hadoop library for your platform... using builtin-java classes where applicable\n"
     ]
    }
   ],
   "source": [
    "from pyspark.sql import SparkSession\n",
    "spark = SparkSession.builder.master(\"local[1]\").appName(\"Koru\").getOrCreate()"
   ]
  },
  {
   "cell_type": "code",
   "execution_count": 4,
   "id": "f2e75283-d1a1-4039-9026-dac9c344c30b",
   "metadata": {},
   "outputs": [
    {
     "data": {
      "text/html": [
       "\n",
       "            <div>\n",
       "                <p><b>SparkSession - in-memory</b></p>\n",
       "                \n",
       "        <div>\n",
       "            <p><b>SparkContext</b></p>\n",
       "\n",
       "            <p><a href=\"http://192.168.0.102:4040\">Spark UI</a></p>\n",
       "\n",
       "            <dl>\n",
       "              <dt>Version</dt>\n",
       "                <dd><code>v3.5.1</code></dd>\n",
       "              <dt>Master</dt>\n",
       "                <dd><code>local[1]</code></dd>\n",
       "              <dt>AppName</dt>\n",
       "                <dd><code>Koru</code></dd>\n",
       "            </dl>\n",
       "        </div>\n",
       "        \n",
       "            </div>\n",
       "        "
      ],
      "text/plain": [
       "<pyspark.sql.session.SparkSession at 0x1403ce810>"
      ]
     },
     "execution_count": 4,
     "metadata": {},
     "output_type": "execute_result"
    }
   ],
   "source": [
    "spark"
   ]
  },
  {
   "cell_type": "code",
   "execution_count": 5,
   "id": "3e54723c-ef08-473b-ab6d-a41db0cf4917",
   "metadata": {},
   "outputs": [
    {
     "data": {
      "text/plain": [
       "[Row(nome='Poliana', idade=25), Row(nome='Alberto', idade=56)]"
      ]
     },
     "execution_count": 5,
     "metadata": {},
     "output_type": "execute_result"
    },
    {
     "name": "stderr",
     "output_type": "stream",
     "text": [
      "24/06/19 12:59:30 WARN GarbageCollectionMetrics: To enable non-built-in garbage collector(s) List(G1 Concurrent GC), users should configure it(them) to spark.eventLog.gcMetrics.youngGenerationGarbageCollectors or spark.eventLog.gcMetrics.oldGenerationGarbageCollectors\n"
     ]
    }
   ],
   "source": [
    "from pyspark.sql import Row\n",
    "rdd = spark.sparkContext.parallelize([Row(nome='Poliana', idade=25), Row(nome='Alberto', idade=56)])\n",
    "rdd.collect()"
   ]
  },
  {
   "cell_type": "code",
   "execution_count": 9,
   "id": "255a907e-d8e7-414c-a3e9-e8b32163f669",
   "metadata": {},
   "outputs": [
    {
     "name": "stdout",
     "output_type": "stream",
     "text": [
      "+-------+-----+\n",
      "|   nome|idade|\n",
      "+-------+-----+\n",
      "|Poliana|   25|\n",
      "|Alberto|   56|\n",
      "+-------+-----+\n",
      "\n"
     ]
    }
   ],
   "source": [
    "df = spark.createDataFrame(rdd)\n",
    "df.show(2)"
   ]
  },
  {
   "cell_type": "code",
   "execution_count": 10,
   "id": "45303532-276d-49a3-ac31-050dbf74c5b6",
   "metadata": {},
   "outputs": [
    {
     "name": "stdout",
     "output_type": "stream",
     "text": [
      "+--------+-----+\n",
      "|    nome|idade|\n",
      "+--------+-----+\n",
      "|Polianaa|   25|\n",
      "| Alberto|   56|\n",
      "+--------+-----+\n",
      "\n"
     ]
    }
   ],
   "source": [
    "dados = [('Polianaa', 25), ('Alberto', 56)]\n",
    "df = spark.createDataFrame(dados, ['nome', 'idade'])\n",
    "df.show()"
   ]
  },
  {
   "cell_type": "code",
   "execution_count": 11,
   "id": "a189eadc-b584-428b-b62b-ae6a19efd1ef",
   "metadata": {},
   "outputs": [
    {
     "name": "stdout",
     "output_type": "stream",
     "text": [
      "root\n",
      " |-- nome: string (nullable = true)\n",
      " |-- idade: long (nullable = true)\n",
      "\n"
     ]
    }
   ],
   "source": [
    "df.printSchema()"
   ]
  },
  {
   "cell_type": "code",
   "execution_count": 12,
   "id": "bd26d825-3cd8-4fba-b0da-829dd3fa8eda",
   "metadata": {},
   "outputs": [
    {
     "name": "stdout",
     "output_type": "stream",
     "text": [
      "+----+-----+-------+------+----------+\n",
      "|year|state|  month|number|      date|\n",
      "+----+-----+-------+------+----------+\n",
      "|1998| Acre|Janeiro|   0.0|1998-01-01|\n",
      "|1999| Acre|Janeiro|   0.0|1999-01-01|\n",
      "|2000| Acre|Janeiro|   0.0|2000-01-01|\n",
      "+----+-----+-------+------+----------+\n",
      "only showing top 3 rows\n",
      "\n"
     ]
    }
   ],
   "source": [
    "df = spark.read.csv('amazon-forest.csv', header=True, inferSchema=True)\n",
    "df.show(3)"
   ]
  },
  {
   "cell_type": "code",
   "execution_count": 13,
   "id": "4eeaaed1-202e-45d0-9fab-b8bf08edc3c0",
   "metadata": {},
   "outputs": [
    {
     "name": "stdout",
     "output_type": "stream",
     "text": [
      "root\n",
      " |-- year: integer (nullable = true)\n",
      " |-- state: string (nullable = true)\n",
      " |-- month: string (nullable = true)\n",
      " |-- number: double (nullable = true)\n",
      " |-- date: date (nullable = true)\n",
      "\n"
     ]
    }
   ],
   "source": [
    "df.printSchema()"
   ]
  },
  {
   "cell_type": "markdown",
   "id": "79ef7dac-374f-40e6-88b1-ebc0dbbfdbdc",
   "metadata": {},
   "source": [
    "## Operações em df"
   ]
  },
  {
   "cell_type": "code",
   "execution_count": 14,
   "id": "7988a174-2648-4435-8af3-9351225ad099",
   "metadata": {},
   "outputs": [
    {
     "name": "stdout",
     "output_type": "stream",
     "text": [
      "+----+\n",
      "|year|\n",
      "+----+\n",
      "|1998|\n",
      "|1999|\n",
      "|2000|\n",
      "|2001|\n",
      "|2002|\n",
      "|2003|\n",
      "|2004|\n",
      "|2005|\n",
      "|2006|\n",
      "|2007|\n",
      "|2008|\n",
      "|2009|\n",
      "|2010|\n",
      "|2011|\n",
      "|2012|\n",
      "|2013|\n",
      "|2014|\n",
      "|2015|\n",
      "|2016|\n",
      "|2017|\n",
      "+----+\n",
      "only showing top 20 rows\n",
      "\n"
     ]
    }
   ],
   "source": [
    "df.select(\"year\").show()"
   ]
  },
  {
   "cell_type": "code",
   "execution_count": 15,
   "id": "87ecae16-042f-43d6-95f5-20f5eb0bfecc",
   "metadata": {},
   "outputs": [
    {
     "name": "stdout",
     "output_type": "stream",
     "text": [
      "+----+-----+---------+------+----------+\n",
      "|year|state|    month|number|      date|\n",
      "+----+-----+---------+------+----------+\n",
      "|2016| Acre|  Janeiro|  12.0|2016-01-01|\n",
      "|2017| Acre|  Janeiro|   0.0|2017-01-01|\n",
      "|2016| Acre|Fevereiro|   5.0|2016-01-01|\n",
      "|2017| Acre|Fevereiro|   1.0|2017-01-01|\n",
      "|2016| Acre|    Mar�o|   0.0|2016-01-01|\n",
      "|2017| Acre|    Mar�o|   0.0|2017-01-01|\n",
      "|2016| Acre|    Abril|   0.0|2016-01-01|\n",
      "|2017| Acre|    Abril|   1.0|2017-01-01|\n",
      "|2016| Acre|     Maio|  21.0|2016-01-01|\n",
      "|2017| Acre|     Maio|  10.0|2017-01-01|\n",
      "|2016| Acre|    Junho|  87.0|2016-01-01|\n",
      "|2017| Acre|    Junho|  45.0|2017-01-01|\n",
      "|2016| Acre|    Julho| 533.0|2016-01-01|\n",
      "|2017| Acre|    Julho| 457.0|2017-01-01|\n",
      "|2016| Acre|   Agosto| 2.188|2016-01-01|\n",
      "|2017| Acre|   Agosto| 1.493|2017-01-01|\n",
      "|2016| Acre| Setembro| 3.586|2016-01-01|\n",
      "|2017| Acre| Setembro| 3.429|2017-01-01|\n",
      "|2016| Acre|  Outubro| 509.0|2016-01-01|\n",
      "|2017| Acre|  Outubro| 1.508|2017-01-01|\n",
      "+----+-----+---------+------+----------+\n",
      "only showing top 20 rows\n",
      "\n"
     ]
    }
   ],
   "source": [
    "# fitlragens\n",
    "df.filter(df.year > 2015).show()"
   ]
  },
  {
   "cell_type": "code",
   "execution_count": 16,
   "id": "4fd683fa-f81b-4a42-8698-932edc22b3c6",
   "metadata": {},
   "outputs": [
    {
     "name": "stdout",
     "output_type": "stream",
     "text": [
      "+----------------+------------------+\n",
      "|           state|       sum(number)|\n",
      "+----------------+------------------+\n",
      "|  Santa Catarina|         24359.852|\n",
      "|     Mato Grosso| 96246.02799999995|\n",
      "|         Paraiba| 52435.91800000001|\n",
      "|        Rondonia|         20285.429|\n",
      "|            Par�| 24512.14400000002|\n",
      "|         Alagoas|            4644.0|\n",
      "|           Bahia| 44746.22599999999|\n",
      "|         Roraima|         24385.074|\n",
      "|Distrito Federal|            3561.0|\n",
      "|  Espirito Santo|            6546.0|\n",
      "|      Pernambuco|           24498.0|\n",
      "|       Sao Paulo|51121.198000000004|\n",
      "|        Amazonas|30650.129000000008|\n",
      "|            Acre|          18464.03|\n",
      "|           Goias|37695.520000000004|\n",
      "|           Amapa|21831.575999999997|\n",
      "|         Sergipe|            3237.0|\n",
      "|           Ceara|         30428.063|\n",
      "|            Piau|37803.746999999996|\n",
      "|             Rio|         45160.865|\n",
      "+----------------+------------------+\n",
      "only showing top 20 rows\n",
      "\n"
     ]
    }
   ],
   "source": [
    "df.groupBy('state').sum('number').show()"
   ]
  },
  {
   "cell_type": "code",
   "execution_count": 17,
   "id": "5d8a5d2c-56b1-4a13-b6bf-4c4d5c39da69",
   "metadata": {},
   "outputs": [
    {
     "data": {
      "text/plain": [
       "<Axes: xlabel='sum(number)', ylabel='state'>"
      ]
     },
     "execution_count": 17,
     "metadata": {},
     "output_type": "execute_result"
    },
    {
     "data": {
      "image/png": "[encoded data removed]",
      "text/plain": [
       "<Figure size 640x480 with 1 Axes>"
      ]
     },
     "metadata": {},
     "output_type": "display_data"
    }
   ],
   "source": [
    "algo = df.groupBy('state').sum('number').toPandas()\n",
    "\n",
    "import matplotlib.pyplot as plt\n",
    "import seaborn as sns\n",
    "\n",
    "sns.barplot(algo, x='sum(number)', y='state')"
   ]
  },
  {
   "cell_type": "code",
   "execution_count": 18,
   "id": "258ce299-965d-4cca-9903-5114aab390eb",
   "metadata": {},
   "outputs": [
    {
     "name": "stdout",
     "output_type": "stream",
     "text": [
      "+----+-----+-------+------+----------+-----------+\n",
      "|year|state|  month|number|      date|numbermais1|\n",
      "+----+-----+-------+------+----------+-----------+\n",
      "|1998| Acre|Janeiro|   0.0|1998-01-01|        1.0|\n",
      "|1999| Acre|Janeiro|   0.0|1999-01-01|        1.0|\n",
      "|2000| Acre|Janeiro|   0.0|2000-01-01|        1.0|\n",
      "|2001| Acre|Janeiro|   0.0|2001-01-01|        1.0|\n",
      "|2002| Acre|Janeiro|   0.0|2002-01-01|        1.0|\n",
      "|2003| Acre|Janeiro|  10.0|2003-01-01|       11.0|\n",
      "|2004| Acre|Janeiro|   0.0|2004-01-01|        1.0|\n",
      "|2005| Acre|Janeiro|  12.0|2005-01-01|       13.0|\n",
      "|2006| Acre|Janeiro|   4.0|2006-01-01|        5.0|\n",
      "|2007| Acre|Janeiro|   0.0|2007-01-01|        1.0|\n",
      "|2008| Acre|Janeiro|   0.0|2008-01-01|        1.0|\n",
      "|2009| Acre|Janeiro|   0.0|2009-01-01|        1.0|\n",
      "|2010| Acre|Janeiro|   1.0|2010-01-01|        2.0|\n",
      "|2011| Acre|Janeiro|   0.0|2011-01-01|        1.0|\n",
      "|2012| Acre|Janeiro|   0.0|2012-01-01|        1.0|\n",
      "|2013| Acre|Janeiro|   0.0|2013-01-01|        1.0|\n",
      "|2014| Acre|Janeiro|   0.0|2014-01-01|        1.0|\n",
      "|2015| Acre|Janeiro|   1.0|2015-01-01|        2.0|\n",
      "|2016| Acre|Janeiro|  12.0|2016-01-01|       13.0|\n",
      "|2017| Acre|Janeiro|   0.0|2017-01-01|        1.0|\n",
      "+----+-----+-------+------+----------+-----------+\n",
      "only showing top 20 rows\n",
      "\n"
     ]
    }
   ],
   "source": [
    "# não faz serntido para a aplicação\n",
    "from pyspark.sql import functions as F\n",
    "df = df.withColumn('numbermais1', F.col('number') + 1)\n",
    "df.show()"
   ]
  },
  {
   "cell_type": "code",
   "execution_count": 19,
   "id": "c1de9665-5d5c-44f0-931f-d046ea5a0a5a",
   "metadata": {},
   "outputs": [],
   "source": [
    "df.createOrReplaceTempView('incendios')"
   ]
  },
  {
   "cell_type": "code",
   "execution_count": 20,
   "id": "4301ffe9-d73f-42f5-bfc8-fe1588527134",
   "metadata": {},
   "outputs": [
    {
     "name": "stdout",
     "output_type": "stream",
     "text": [
      "+----+-----+-------+------+----------+-----------+\n",
      "|year|state|  month|number|      date|numbermais1|\n",
      "+----+-----+-------+------+----------+-----------+\n",
      "|1998| Acre|Janeiro|   0.0|1998-01-01|        1.0|\n",
      "|1999| Acre|Janeiro|   0.0|1999-01-01|        1.0|\n",
      "|2000| Acre|Janeiro|   0.0|2000-01-01|        1.0|\n",
      "|2001| Acre|Janeiro|   0.0|2001-01-01|        1.0|\n",
      "|2002| Acre|Janeiro|   0.0|2002-01-01|        1.0|\n",
      "|2003| Acre|Janeiro|  10.0|2003-01-01|       11.0|\n",
      "|2004| Acre|Janeiro|   0.0|2004-01-01|        1.0|\n",
      "|2005| Acre|Janeiro|  12.0|2005-01-01|       13.0|\n",
      "|2006| Acre|Janeiro|   4.0|2006-01-01|        5.0|\n",
      "|2007| Acre|Janeiro|   0.0|2007-01-01|        1.0|\n",
      "|2008| Acre|Janeiro|   0.0|2008-01-01|        1.0|\n",
      "|2009| Acre|Janeiro|   0.0|2009-01-01|        1.0|\n",
      "|2010| Acre|Janeiro|   1.0|2010-01-01|        2.0|\n",
      "|2011| Acre|Janeiro|   0.0|2011-01-01|        1.0|\n",
      "|2012| Acre|Janeiro|   0.0|2012-01-01|        1.0|\n",
      "|2013| Acre|Janeiro|   0.0|2013-01-01|        1.0|\n",
      "|2014| Acre|Janeiro|   0.0|2014-01-01|        1.0|\n",
      "|2015| Acre|Janeiro|   1.0|2015-01-01|        2.0|\n",
      "|2016| Acre|Janeiro|  12.0|2016-01-01|       13.0|\n",
      "|2017| Acre|Janeiro|   0.0|2017-01-01|        1.0|\n",
      "+----+-----+-------+------+----------+-----------+\n",
      "only showing top 20 rows\n",
      "\n"
     ]
    }
   ],
   "source": [
    "spark.sql('SELECT * FROM incendios WHERE state = \"Acre\"').show()"
   ]
  },
  {
   "cell_type": "code",
   "execution_count": 21,
   "id": "468679e0-69b5-420f-ba1b-78e9a44cb8b9",
   "metadata": {},
   "outputs": [
    {
     "name": "stdout",
     "output_type": "stream",
     "text": [
      "+----------------+------------------+\n",
      "|           state|    soma_incendios|\n",
      "+----------------+------------------+\n",
      "|  Santa Catarina|         24359.852|\n",
      "|     Mato Grosso| 96246.02799999995|\n",
      "|         Paraiba| 52435.91800000001|\n",
      "|        Rondonia|         20285.429|\n",
      "|            Par�| 24512.14400000002|\n",
      "|         Alagoas|            4644.0|\n",
      "|           Bahia| 44746.22599999999|\n",
      "|         Roraima|         24385.074|\n",
      "|Distrito Federal|            3561.0|\n",
      "|  Espirito Santo|            6546.0|\n",
      "|      Pernambuco|           24498.0|\n",
      "|       Sao Paulo|51121.198000000004|\n",
      "|        Amazonas|30650.129000000008|\n",
      "|            Acre|          18464.03|\n",
      "|           Goias|37695.520000000004|\n",
      "|           Amapa|21831.575999999997|\n",
      "|         Sergipe|            3237.0|\n",
      "|           Ceara|         30428.063|\n",
      "|            Piau|37803.746999999996|\n",
      "|             Rio|         45160.865|\n",
      "+----------------+------------------+\n",
      "only showing top 20 rows\n",
      "\n"
     ]
    }
   ],
   "source": [
    "# query\n",
    "spark.sql(\"SELECT state, SUM(number) as soma_incendios FROM incendios GROUP BY state\").show()"
   ]
  },
  {
   "cell_type": "code",
   "execution_count": 22,
   "id": "7d2de613-603a-45be-897b-7f3735e1946f",
   "metadata": {},
   "outputs": [
    {
     "name": "stdout",
     "output_type": "stream",
     "text": [
      "+----+-----+---------+------+----------+-----------+\n",
      "|year|state|    month|number|      date|numbermais1|\n",
      "+----+-----+---------+------+----------+-----------+\n",
      "|2003| Acre|  Janeiro|  10.0|2003-01-01|       11.0|\n",
      "|2005| Acre|  Janeiro|  12.0|2005-01-01|       13.0|\n",
      "|2006| Acre|  Janeiro|   4.0|2006-01-01|        5.0|\n",
      "|2010| Acre|  Janeiro|   1.0|2010-01-01|        2.0|\n",
      "|2015| Acre|  Janeiro|   1.0|2015-01-01|        2.0|\n",
      "|2016| Acre|  Janeiro|  12.0|2016-01-01|       13.0|\n",
      "|2002| Acre|Fevereiro|   1.0|2002-01-01|        2.0|\n",
      "|2004| Acre|Fevereiro|   3.0|2004-01-01|        4.0|\n",
      "|2007| Acre|Fevereiro|   5.0|2007-01-01|        6.0|\n",
      "|2009| Acre|Fevereiro|   2.0|2009-01-01|        3.0|\n",
      "|2015| Acre|Fevereiro|   2.0|2015-01-01|        3.0|\n",
      "|2016| Acre|Fevereiro|   5.0|2016-01-01|        6.0|\n",
      "|2017| Acre|Fevereiro|   1.0|2017-01-01|        2.0|\n",
      "|2000| Acre|    Mar�o|  11.0|2000-01-01|       12.0|\n",
      "|2005| Acre|    Mar�o|   3.0|2005-01-01|        4.0|\n",
      "|2007| Acre|    Mar�o|   2.0|2007-01-01|        3.0|\n",
      "|2009| Acre|    Mar�o|   1.0|2009-01-01|        2.0|\n",
      "|2012| Acre|    Mar�o|   1.0|2012-01-01|        2.0|\n",
      "|2013| Acre|    Mar�o|   2.0|2013-01-01|        3.0|\n",
      "|2014| Acre|    Mar�o|   1.0|2014-01-01|        2.0|\n",
      "+----+-----+---------+------+----------+-----------+\n",
      "only showing top 20 rows\n",
      "\n"
     ]
    }
   ],
   "source": [
    "# filtragem\n",
    "spark.sql(\"SELECT * FROM incendios WHERE number > 0\").show()"
   ]
  },
  {
   "cell_type": "code",
   "execution_count": 23,
   "id": "b98eaedd-3d09-4671-b07d-5d32acd4a8a2",
   "metadata": {},
   "outputs": [
    {
     "name": "stdout",
     "output_type": "stream",
     "text": [
      "+-----+-------------+\n",
      "|state|mes_maiusculo|\n",
      "+-----+-------------+\n",
      "| Acre|      JANEIRO|\n",
      "| Acre|      JANEIRO|\n",
      "| Acre|      JANEIRO|\n",
      "| Acre|      JANEIRO|\n",
      "| Acre|      JANEIRO|\n",
      "| Acre|      JANEIRO|\n",
      "| Acre|      JANEIRO|\n",
      "| Acre|      JANEIRO|\n",
      "| Acre|      JANEIRO|\n",
      "| Acre|      JANEIRO|\n",
      "| Acre|      JANEIRO|\n",
      "| Acre|      JANEIRO|\n",
      "| Acre|      JANEIRO|\n",
      "| Acre|      JANEIRO|\n",
      "| Acre|      JANEIRO|\n",
      "| Acre|      JANEIRO|\n",
      "| Acre|      JANEIRO|\n",
      "| Acre|      JANEIRO|\n",
      "| Acre|      JANEIRO|\n",
      "| Acre|      JANEIRO|\n",
      "+-----+-------------+\n",
      "only showing top 20 rows\n",
      "\n"
     ]
    }
   ],
   "source": [
    "spark.sql(\"SELECT state, upper(month) as mes_maiusculo FROM incendios\").show()"
   ]
  },
  {
   "cell_type": "code",
   "execution_count": 24,
   "id": "e6776ac2-04de-44d8-992b-b927d4274394",
   "metadata": {},
   "outputs": [
    {
     "name": "stdout",
     "output_type": "stream",
     "text": [
      "+----+-----------+--------+------+----------+-----------+\n",
      "|year|      state|   month|number|      date|numbermais1|\n",
      "+----+-----------+--------+------+----------+-----------+\n",
      "|2008|   Amazonas|Setembro| 998.0|2008-01-01|      999.0|\n",
      "|2006|      Bahia|  Agosto| 995.0|2006-01-01|      996.0|\n",
      "|2012|      Ceara|Novembro| 995.0|2012-01-01|      996.0|\n",
      "|2009|  Tocantins|   Julho| 989.0|2009-01-01|      990.0|\n",
      "|2017|    Paraiba|  Agosto| 987.0|2017-01-01|      988.0|\n",
      "|1999|       Par�|   Julho| 982.0|1999-01-01|      983.0|\n",
      "|2007|  Tocantins|   Julho| 982.0|2007-01-01|      983.0|\n",
      "|2017|  Sao Paulo|  Agosto| 981.0|2017-01-01|      982.0|\n",
      "|2001|      Bahia|  Agosto| 979.0|2001-01-01|      980.0|\n",
      "|2009|Mato Grosso|   Junho| 979.0|2009-01-01|      980.0|\n",
      "|2003|  Sao Paulo|Setembro| 977.0|2003-01-01|      978.0|\n",
      "|2002|  Tocantins|   Julho| 976.0|2002-01-01|      977.0|\n",
      "|2011|Mato Grosso|   Junho| 974.0|2011-01-01|      975.0|\n",
      "|2009|   Amazonas|Novembro| 973.0|2009-01-01|      974.0|\n",
      "|2009|   Maranhao|   Julho| 972.0|2009-01-01|      973.0|\n",
      "|2008|       Par�|   Julho| 971.0|2008-01-01|      972.0|\n",
      "|2012|      Amapa|Novembro| 969.0|2012-01-01|      970.0|\n",
      "|2016|   Rondonia|   Julho| 969.0|2016-01-01|      970.0|\n",
      "|2007|      Ceara| Outubro| 964.0|2007-01-01|      965.0|\n",
      "|2007|       Acre|  Agosto| 960.0|2007-01-01|      961.0|\n",
      "+----+-----------+--------+------+----------+-----------+\n",
      "only showing top 20 rows\n",
      "\n"
     ]
    }
   ],
   "source": [
    "# ordenacao\n",
    "spark.sql(\"SELECT * FROM incendios ORDER BY number DESC\").show()"
   ]
  },
  {
   "cell_type": "code",
   "execution_count": 25,
   "id": "5962d6ad-6937-48f2-9677-f75b329a919e",
   "metadata": {},
   "outputs": [
    {
     "name": "stdout",
     "output_type": "stream",
     "text": [
      "+----+-----------+--------+------+----------+-----------+\n",
      "|year|      state|   month|number|      date|numbermais1|\n",
      "+----+-----------+--------+------+----------+-----------+\n",
      "|2008|   Amazonas|Setembro| 998.0|2008-01-01|      999.0|\n",
      "|2006|      Bahia|  Agosto| 995.0|2006-01-01|      996.0|\n",
      "|2012|      Ceara|Novembro| 995.0|2012-01-01|      996.0|\n",
      "|2009|  Tocantins|   Julho| 989.0|2009-01-01|      990.0|\n",
      "|2017|    Paraiba|  Agosto| 987.0|2017-01-01|      988.0|\n",
      "|1999|       Par�|   Julho| 982.0|1999-01-01|      983.0|\n",
      "|2007|  Tocantins|   Julho| 982.0|2007-01-01|      983.0|\n",
      "|2017|  Sao Paulo|  Agosto| 981.0|2017-01-01|      982.0|\n",
      "|2001|      Bahia|  Agosto| 979.0|2001-01-01|      980.0|\n",
      "|2009|Mato Grosso|   Junho| 979.0|2009-01-01|      980.0|\n",
      "|2003|  Sao Paulo|Setembro| 977.0|2003-01-01|      978.0|\n",
      "|2002|  Tocantins|   Julho| 976.0|2002-01-01|      977.0|\n",
      "|2011|Mato Grosso|   Junho| 974.0|2011-01-01|      975.0|\n",
      "|2009|   Amazonas|Novembro| 973.0|2009-01-01|      974.0|\n",
      "|2009|   Maranhao|   Julho| 972.0|2009-01-01|      973.0|\n",
      "|2008|       Par�|   Julho| 971.0|2008-01-01|      972.0|\n",
      "|2012|      Amapa|Novembro| 969.0|2012-01-01|      970.0|\n",
      "|2016|   Rondonia|   Julho| 969.0|2016-01-01|      970.0|\n",
      "|2007|      Ceara| Outubro| 964.0|2007-01-01|      965.0|\n",
      "|2007|       Acre|  Agosto| 960.0|2007-01-01|      961.0|\n",
      "+----+-----------+--------+------+----------+-----------+\n",
      "only showing top 20 rows\n",
      "\n"
     ]
    }
   ],
   "source": [
    "df.orderBy('number', ascending=False).show()"
   ]
  },
  {
   "cell_type": "code",
   "execution_count": 26,
   "id": "edabca11-079e-49ae-8218-c41b75155937",
   "metadata": {},
   "outputs": [],
   "source": [
    "dados_complementares = [(\"Amazonas\", \"AM\"), (\"Bahia\", \"BA\"), (\"Ceara\", \"CE\")]\n",
    "df_complem = spark.createDataFrame(dados_complementares, [\"state\", \"apelido\"])\n",
    "df_complem.createTempView(\"estados\")"
   ]
  },
  {
   "cell_type": "code",
   "execution_count": 27,
   "id": "01d01a74-9cdc-44ca-9997-bdda7de0868f",
   "metadata": {},
   "outputs": [
    {
     "name": "stdout",
     "output_type": "stream",
     "text": [
      "+--------+------+----------+-------+\n",
      "|   state|number|      date|apelido|\n",
      "+--------+------+----------+-------+\n",
      "|Amazonas| 133.0|2016-01-01|     AM|\n",
      "|Amazonas| 565.0|2015-01-01|     AM|\n",
      "|Amazonas| 293.0|2014-01-01|     AM|\n",
      "|Amazonas| 236.0|2013-01-01|     AM|\n",
      "|Amazonas|  80.0|2012-01-01|     AM|\n",
      "|Amazonas| 121.0|2011-01-01|     AM|\n",
      "|Amazonas| 123.0|2010-01-01|     AM|\n",
      "|Amazonas| 102.0|2009-01-01|     AM|\n",
      "|Amazonas|   0.0|2008-01-01|     AM|\n",
      "|Amazonas|   7.0|2007-01-01|     AM|\n",
      "|Amazonas|  23.0|2006-01-01|     AM|\n",
      "|Amazonas|  17.0|2005-01-01|     AM|\n",
      "|Amazonas|  53.0|2004-01-01|     AM|\n",
      "|Amazonas| 147.0|2003-01-01|     AM|\n",
      "|Amazonas|  44.0|2002-01-01|     AM|\n",
      "|Amazonas|  22.0|2001-01-01|     AM|\n",
      "|Amazonas|  60.0|2000-01-01|     AM|\n",
      "|Amazonas|   2.0|1999-01-01|     AM|\n",
      "|Amazonas| 196.0|1998-01-01|     AM|\n",
      "|Amazonas| 552.0|2017-01-01|     AM|\n",
      "+--------+------+----------+-------+\n",
      "only showing top 20 rows\n",
      "\n"
     ]
    }
   ],
   "source": [
    "spark.sql(\"SELECT i.state, i.number, i.date, e.apelido FROM incendios i JOIN estados e ON i.state = e.state\").show()"
   ]
  },
  {
   "cell_type": "code",
   "execution_count": 28,
   "id": "2edd0838-088d-49fa-bdcd-264c37a1a6d0",
   "metadata": {},
   "outputs": [
    {
     "name": "stdout",
     "output_type": "stream",
     "text": [
      "+--------+------+----------+-------+\n",
      "|   state|number|      date|apelido|\n",
      "+--------+------+----------+-------+\n",
      "|Amazonas| 133.0|2016-01-01|     AM|\n",
      "|Amazonas| 565.0|2015-01-01|     AM|\n",
      "|Amazonas| 293.0|2014-01-01|     AM|\n",
      "|Amazonas| 236.0|2013-01-01|     AM|\n",
      "|Amazonas|  80.0|2012-01-01|     AM|\n",
      "|Amazonas| 121.0|2011-01-01|     AM|\n",
      "|Amazonas| 123.0|2010-01-01|     AM|\n",
      "|Amazonas| 102.0|2009-01-01|     AM|\n",
      "|Amazonas|   0.0|2008-01-01|     AM|\n",
      "|Amazonas|   7.0|2007-01-01|     AM|\n",
      "|Amazonas|  23.0|2006-01-01|     AM|\n",
      "|Amazonas|  17.0|2005-01-01|     AM|\n",
      "|Amazonas|  53.0|2004-01-01|     AM|\n",
      "|Amazonas| 147.0|2003-01-01|     AM|\n",
      "|Amazonas|  44.0|2002-01-01|     AM|\n",
      "|Amazonas|  22.0|2001-01-01|     AM|\n",
      "|Amazonas|  60.0|2000-01-01|     AM|\n",
      "|Amazonas|   2.0|1999-01-01|     AM|\n",
      "|Amazonas| 196.0|1998-01-01|     AM|\n",
      "|Amazonas| 552.0|2017-01-01|     AM|\n",
      "+--------+------+----------+-------+\n",
      "only showing top 20 rows\n",
      "\n"
     ]
    },
    {
     "name": "stderr",
     "output_type": "stream",
     "text": [
      "24/05/22 16:01:55 WARN GarbageCollectionMetrics: To enable non-built-in garbage collector(s) List(G1 Concurrent GC), users should configure it(them) to spark.eventLog.gcMetrics.youngGenerationGarbageCollectors or spark.eventLog.gcMetrics.oldGenerationGarbageCollectors\n"
     ]
    }
   ],
   "source": [
    "df.join(df_complem, df.state == df_complem.state, 'inner').select(df.state, df.number, df.date, df_complem.apelido).show()"
   ]
  },
  {
   "cell_type": "code",
   "execution_count": null,
   "id": "d9565198-4a22-4c9d-bad7-a637e1564005",
   "metadata": {},
   "outputs": [],
   "source": []
  },
  {
   "cell_type": "code",
   "execution_count": null,
   "id": "b56d3bc6-0ebb-43ba-9038-011f5fee61ec",
   "metadata": {},
   "outputs": [],
   "source": []
  },
  {
   "cell_type": "markdown",
   "id": "321cfbd6-3e88-48ad-b526-b054c83c32d3",
   "metadata": {},
   "source": [
    "## Perguntas\n",
    "\n",
    "1. Dentre as pessoas que tem doenças mentais, quantas buscaram tratamento?\n",
    "2. Quais grupos de idade estão mais conscientes sobre sua saúde mental?\n",
    "3. Qual a associação entre gênero e tratamento?\n",
    "4. Como o histórico familiar é relaciona a presença de doenças mentais e tratamento?\n",
    "5. Qual é o nível de interferiencia no trabalho que essas doenças causam?\n",
    "6. Os funcionário acreditamque discutir a saúde mental ou a saúde física com seus chefes pode trazer consequências negativas?"
   ]
  },
  {
   "cell_type": "markdown",
   "id": "81200884-55e1-4d79-ae62-a4c17d173bd9",
   "metadata": {},
   "source": [
    "## Voltamos 20:15"
   ]
  },
  {
   "cell_type": "code",
   "execution_count": 6,
   "id": "2b9dfdcb-6a30-4c57-959b-14ff052c82c7",
   "metadata": {},
   "outputs": [],
   "source": [
    "import pandas as pd"
   ]
  },
  {
   "cell_type": "code",
   "execution_count": 7,
   "id": "e88d6780-672e-463f-8b44-f2b79f7e4bd8",
   "metadata": {},
   "outputs": [],
   "source": [
    "df_pandas = pd.read_csv('survey.csv')"
   ]
  },
  {
   "cell_type": "code",
   "execution_count": 8,
   "id": "4ad27f60-e5e7-4d51-9cc0-7cfa84874176",
   "metadata": {},
   "outputs": [],
   "source": [
    "df_spark = spark.read.csv('survey.csv', header=True, inferSchema=True)"
   ]
  },
  {
   "cell_type": "code",
   "execution_count": null,
   "id": "31f71185-f64f-4298-a945-7b2ccc62867f",
   "metadata": {},
   "outputs": [],
   "source": []
  },
  {
   "cell_type": "code",
   "execution_count": 9,
   "id": "f1da0be4-c520-4dbc-83ad-f0177deb6d1b",
   "metadata": {},
   "outputs": [
    {
     "data": {
      "text/html": [
       "<div>\n",
       "<style scoped>\n",
       "    .dataframe tbody tr th:only-of-type {\n",
       "        vertical-align: middle;\n",
       "    }\n",
       "\n",
       "    .dataframe tbody tr th {\n",
       "        vertical-align: top;\n",
       "    }\n",
       "\n",
       "    .dataframe thead th {\n",
       "        text-align: right;\n",
       "    }\n",
       "</style>\n",
       "<table border=\"1\" class=\"dataframe\">\n",
       "  <thead>\n",
       "    <tr style=\"text-align: right;\">\n",
       "      <th></th>\n",
       "      <th>Timestamp</th>\n",
       "      <th>Age</th>\n",
       "      <th>Gender</th>\n",
       "      <th>Country</th>\n",
       "      <th>state</th>\n",
       "      <th>self_employed</th>\n",
       "      <th>family_history</th>\n",
       "      <th>treatment</th>\n",
       "      <th>work_interfere</th>\n",
       "      <th>no_employees</th>\n",
       "      <th>...</th>\n",
       "      <th>leave</th>\n",
       "      <th>mental_health_consequence</th>\n",
       "      <th>phys_health_consequence</th>\n",
       "      <th>coworkers</th>\n",
       "      <th>supervisor</th>\n",
       "      <th>mental_health_interview</th>\n",
       "      <th>phys_health_interview</th>\n",
       "      <th>mental_vs_physical</th>\n",
       "      <th>obs_consequence</th>\n",
       "      <th>comments</th>\n",
       "    </tr>\n",
       "  </thead>\n",
       "  <tbody>\n",
       "    <tr>\n",
       "      <th>0</th>\n",
       "      <td>2014-08-27 11:29:31</td>\n",
       "      <td>37</td>\n",
       "      <td>Female</td>\n",
       "      <td>United States</td>\n",
       "      <td>IL</td>\n",
       "      <td>NaN</td>\n",
       "      <td>No</td>\n",
       "      <td>Yes</td>\n",
       "      <td>Often</td>\n",
       "      <td>6-25</td>\n",
       "      <td>...</td>\n",
       "      <td>Somewhat easy</td>\n",
       "      <td>No</td>\n",
       "      <td>No</td>\n",
       "      <td>Some of them</td>\n",
       "      <td>Yes</td>\n",
       "      <td>No</td>\n",
       "      <td>Maybe</td>\n",
       "      <td>Yes</td>\n",
       "      <td>No</td>\n",
       "      <td>NaN</td>\n",
       "    </tr>\n",
       "    <tr>\n",
       "      <th>1</th>\n",
       "      <td>2014-08-27 11:29:37</td>\n",
       "      <td>44</td>\n",
       "      <td>M</td>\n",
       "      <td>United States</td>\n",
       "      <td>IN</td>\n",
       "      <td>NaN</td>\n",
       "      <td>No</td>\n",
       "      <td>No</td>\n",
       "      <td>Rarely</td>\n",
       "      <td>More than 1000</td>\n",
       "      <td>...</td>\n",
       "      <td>Don't know</td>\n",
       "      <td>Maybe</td>\n",
       "      <td>No</td>\n",
       "      <td>No</td>\n",
       "      <td>No</td>\n",
       "      <td>No</td>\n",
       "      <td>No</td>\n",
       "      <td>Don't know</td>\n",
       "      <td>No</td>\n",
       "      <td>NaN</td>\n",
       "    </tr>\n",
       "    <tr>\n",
       "      <th>2</th>\n",
       "      <td>2014-08-27 11:29:44</td>\n",
       "      <td>32</td>\n",
       "      <td>Male</td>\n",
       "      <td>Canada</td>\n",
       "      <td>NaN</td>\n",
       "      <td>NaN</td>\n",
       "      <td>No</td>\n",
       "      <td>No</td>\n",
       "      <td>Rarely</td>\n",
       "      <td>6-25</td>\n",
       "      <td>...</td>\n",
       "      <td>Somewhat difficult</td>\n",
       "      <td>No</td>\n",
       "      <td>No</td>\n",
       "      <td>Yes</td>\n",
       "      <td>Yes</td>\n",
       "      <td>Yes</td>\n",
       "      <td>Yes</td>\n",
       "      <td>No</td>\n",
       "      <td>No</td>\n",
       "      <td>NaN</td>\n",
       "    </tr>\n",
       "    <tr>\n",
       "      <th>3</th>\n",
       "      <td>2014-08-27 11:29:46</td>\n",
       "      <td>31</td>\n",
       "      <td>Male</td>\n",
       "      <td>United Kingdom</td>\n",
       "      <td>NaN</td>\n",
       "      <td>NaN</td>\n",
       "      <td>Yes</td>\n",
       "      <td>Yes</td>\n",
       "      <td>Often</td>\n",
       "      <td>26-100</td>\n",
       "      <td>...</td>\n",
       "      <td>Somewhat difficult</td>\n",
       "      <td>Yes</td>\n",
       "      <td>Yes</td>\n",
       "      <td>Some of them</td>\n",
       "      <td>No</td>\n",
       "      <td>Maybe</td>\n",
       "      <td>Maybe</td>\n",
       "      <td>No</td>\n",
       "      <td>Yes</td>\n",
       "      <td>NaN</td>\n",
       "    </tr>\n",
       "    <tr>\n",
       "      <th>4</th>\n",
       "      <td>2014-08-27 11:30:22</td>\n",
       "      <td>31</td>\n",
       "      <td>Male</td>\n",
       "      <td>United States</td>\n",
       "      <td>TX</td>\n",
       "      <td>NaN</td>\n",
       "      <td>No</td>\n",
       "      <td>No</td>\n",
       "      <td>Never</td>\n",
       "      <td>100-500</td>\n",
       "      <td>...</td>\n",
       "      <td>Don't know</td>\n",
       "      <td>No</td>\n",
       "      <td>No</td>\n",
       "      <td>Some of them</td>\n",
       "      <td>Yes</td>\n",
       "      <td>Yes</td>\n",
       "      <td>Yes</td>\n",
       "      <td>Don't know</td>\n",
       "      <td>No</td>\n",
       "      <td>NaN</td>\n",
       "    </tr>\n",
       "  </tbody>\n",
       "</table>\n",
       "<p>5 rows × 27 columns</p>\n",
       "</div>"
      ],
      "text/plain": [
       "             Timestamp  Age  Gender         Country state self_employed  \\\n",
       "0  2014-08-27 11:29:31   37  Female   United States    IL           NaN   \n",
       "1  2014-08-27 11:29:37   44       M   United States    IN           NaN   \n",
       "2  2014-08-27 11:29:44   32    Male          Canada   NaN           NaN   \n",
       "3  2014-08-27 11:29:46   31    Male  United Kingdom   NaN           NaN   \n",
       "4  2014-08-27 11:30:22   31    Male   United States    TX           NaN   \n",
       "\n",
       "  family_history treatment work_interfere    no_employees  ...  \\\n",
       "0             No       Yes          Often            6-25  ...   \n",
       "1             No        No         Rarely  More than 1000  ...   \n",
       "2             No        No         Rarely            6-25  ...   \n",
       "3            Yes       Yes          Often          26-100  ...   \n",
       "4             No        No          Never         100-500  ...   \n",
       "\n",
       "                leave mental_health_consequence phys_health_consequence  \\\n",
       "0       Somewhat easy                        No                      No   \n",
       "1          Don't know                     Maybe                      No   \n",
       "2  Somewhat difficult                        No                      No   \n",
       "3  Somewhat difficult                       Yes                     Yes   \n",
       "4          Don't know                        No                      No   \n",
       "\n",
       "      coworkers supervisor mental_health_interview phys_health_interview  \\\n",
       "0  Some of them        Yes                      No                 Maybe   \n",
       "1            No         No                      No                    No   \n",
       "2           Yes        Yes                     Yes                   Yes   \n",
       "3  Some of them         No                   Maybe                 Maybe   \n",
       "4  Some of them        Yes                     Yes                   Yes   \n",
       "\n",
       "  mental_vs_physical obs_consequence comments  \n",
       "0                Yes              No      NaN  \n",
       "1         Don't know              No      NaN  \n",
       "2                 No              No      NaN  \n",
       "3                 No             Yes      NaN  \n",
       "4         Don't know              No      NaN  \n",
       "\n",
       "[5 rows x 27 columns]"
      ]
     },
     "execution_count": 9,
     "metadata": {},
     "output_type": "execute_result"
    }
   ],
   "source": [
    "df_pandas.head()"
   ]
  },
  {
   "cell_type": "code",
   "execution_count": 10,
   "id": "6809ce4d-8445-4cb3-912a-510e584d31a9",
   "metadata": {},
   "outputs": [
    {
     "name": "stderr",
     "output_type": "stream",
     "text": [
      "24/06/19 12:59:50 WARN SparkStringUtils: Truncated the string representation of a plan since it was too large. This behavior can be adjusted by setting 'spark.sql.debug.maxToStringFields'.\n"
     ]
    },
    {
     "data": {
      "text/html": [
       "<div>\n",
       "<style scoped>\n",
       "    .dataframe tbody tr th:only-of-type {\n",
       "        vertical-align: middle;\n",
       "    }\n",
       "\n",
       "    .dataframe tbody tr th {\n",
       "        vertical-align: top;\n",
       "    }\n",
       "\n",
       "    .dataframe thead th {\n",
       "        text-align: right;\n",
       "    }\n",
       "</style>\n",
       "<table border=\"1\" class=\"dataframe\">\n",
       "  <thead>\n",
       "    <tr style=\"text-align: right;\">\n",
       "      <th></th>\n",
       "      <th>Timestamp</th>\n",
       "      <th>Age</th>\n",
       "      <th>Gender</th>\n",
       "      <th>Country</th>\n",
       "      <th>state</th>\n",
       "      <th>self_employed</th>\n",
       "      <th>family_history</th>\n",
       "      <th>treatment</th>\n",
       "      <th>work_interfere</th>\n",
       "      <th>no_employees</th>\n",
       "      <th>...</th>\n",
       "      <th>leave</th>\n",
       "      <th>mental_health_consequence</th>\n",
       "      <th>phys_health_consequence</th>\n",
       "      <th>coworkers</th>\n",
       "      <th>supervisor</th>\n",
       "      <th>mental_health_interview</th>\n",
       "      <th>phys_health_interview</th>\n",
       "      <th>mental_vs_physical</th>\n",
       "      <th>obs_consequence</th>\n",
       "      <th>comments</th>\n",
       "    </tr>\n",
       "  </thead>\n",
       "  <tbody>\n",
       "    <tr>\n",
       "      <th>0</th>\n",
       "      <td>2014-08-27 11:29:31</td>\n",
       "      <td>37</td>\n",
       "      <td>Female</td>\n",
       "      <td>United States</td>\n",
       "      <td>IL</td>\n",
       "      <td>NA</td>\n",
       "      <td>No</td>\n",
       "      <td>Yes</td>\n",
       "      <td>Often</td>\n",
       "      <td>6-25</td>\n",
       "      <td>...</td>\n",
       "      <td>Somewhat easy</td>\n",
       "      <td>No</td>\n",
       "      <td>No</td>\n",
       "      <td>Some of them</td>\n",
       "      <td>Yes</td>\n",
       "      <td>No</td>\n",
       "      <td>Maybe</td>\n",
       "      <td>Yes</td>\n",
       "      <td>No</td>\n",
       "      <td>NA</td>\n",
       "    </tr>\n",
       "    <tr>\n",
       "      <th>1</th>\n",
       "      <td>2014-08-27 11:29:37</td>\n",
       "      <td>44</td>\n",
       "      <td>M</td>\n",
       "      <td>United States</td>\n",
       "      <td>IN</td>\n",
       "      <td>NA</td>\n",
       "      <td>No</td>\n",
       "      <td>No</td>\n",
       "      <td>Rarely</td>\n",
       "      <td>More than 1000</td>\n",
       "      <td>...</td>\n",
       "      <td>Don't know</td>\n",
       "      <td>Maybe</td>\n",
       "      <td>No</td>\n",
       "      <td>No</td>\n",
       "      <td>No</td>\n",
       "      <td>No</td>\n",
       "      <td>No</td>\n",
       "      <td>Don't know</td>\n",
       "      <td>No</td>\n",
       "      <td>NA</td>\n",
       "    </tr>\n",
       "    <tr>\n",
       "      <th>2</th>\n",
       "      <td>2014-08-27 11:29:44</td>\n",
       "      <td>32</td>\n",
       "      <td>Male</td>\n",
       "      <td>Canada</td>\n",
       "      <td>NA</td>\n",
       "      <td>NA</td>\n",
       "      <td>No</td>\n",
       "      <td>No</td>\n",
       "      <td>Rarely</td>\n",
       "      <td>6-25</td>\n",
       "      <td>...</td>\n",
       "      <td>Somewhat difficult</td>\n",
       "      <td>No</td>\n",
       "      <td>No</td>\n",
       "      <td>Yes</td>\n",
       "      <td>Yes</td>\n",
       "      <td>Yes</td>\n",
       "      <td>Yes</td>\n",
       "      <td>No</td>\n",
       "      <td>No</td>\n",
       "      <td>NA</td>\n",
       "    </tr>\n",
       "    <tr>\n",
       "      <th>3</th>\n",
       "      <td>2014-08-27 11:29:46</td>\n",
       "      <td>31</td>\n",
       "      <td>Male</td>\n",
       "      <td>United Kingdom</td>\n",
       "      <td>NA</td>\n",
       "      <td>NA</td>\n",
       "      <td>Yes</td>\n",
       "      <td>Yes</td>\n",
       "      <td>Often</td>\n",
       "      <td>26-100</td>\n",
       "      <td>...</td>\n",
       "      <td>Somewhat difficult</td>\n",
       "      <td>Yes</td>\n",
       "      <td>Yes</td>\n",
       "      <td>Some of them</td>\n",
       "      <td>No</td>\n",
       "      <td>Maybe</td>\n",
       "      <td>Maybe</td>\n",
       "      <td>No</td>\n",
       "      <td>Yes</td>\n",
       "      <td>NA</td>\n",
       "    </tr>\n",
       "    <tr>\n",
       "      <th>4</th>\n",
       "      <td>2014-08-27 11:30:22</td>\n",
       "      <td>31</td>\n",
       "      <td>Male</td>\n",
       "      <td>United States</td>\n",
       "      <td>TX</td>\n",
       "      <td>NA</td>\n",
       "      <td>No</td>\n",
       "      <td>No</td>\n",
       "      <td>Never</td>\n",
       "      <td>100-500</td>\n",
       "      <td>...</td>\n",
       "      <td>Don't know</td>\n",
       "      <td>No</td>\n",
       "      <td>No</td>\n",
       "      <td>Some of them</td>\n",
       "      <td>Yes</td>\n",
       "      <td>Yes</td>\n",
       "      <td>Yes</td>\n",
       "      <td>Don't know</td>\n",
       "      <td>No</td>\n",
       "      <td>NA</td>\n",
       "    </tr>\n",
       "  </tbody>\n",
       "</table>\n",
       "<p>5 rows × 27 columns</p>\n",
       "</div>"
      ],
      "text/plain": [
       "            Timestamp  Age  Gender         Country state self_employed  \\\n",
       "0 2014-08-27 11:29:31   37  Female   United States    IL            NA   \n",
       "1 2014-08-27 11:29:37   44       M   United States    IN            NA   \n",
       "2 2014-08-27 11:29:44   32    Male          Canada    NA            NA   \n",
       "3 2014-08-27 11:29:46   31    Male  United Kingdom    NA            NA   \n",
       "4 2014-08-27 11:30:22   31    Male   United States    TX            NA   \n",
       "\n",
       "  family_history treatment work_interfere    no_employees  ...  \\\n",
       "0             No       Yes          Often            6-25  ...   \n",
       "1             No        No         Rarely  More than 1000  ...   \n",
       "2             No        No         Rarely            6-25  ...   \n",
       "3            Yes       Yes          Often          26-100  ...   \n",
       "4             No        No          Never         100-500  ...   \n",
       "\n",
       "                leave mental_health_consequence phys_health_consequence  \\\n",
       "0       Somewhat easy                        No                      No   \n",
       "1          Don't know                     Maybe                      No   \n",
       "2  Somewhat difficult                        No                      No   \n",
       "3  Somewhat difficult                       Yes                     Yes   \n",
       "4          Don't know                        No                      No   \n",
       "\n",
       "      coworkers supervisor mental_health_interview phys_health_interview  \\\n",
       "0  Some of them        Yes                      No                 Maybe   \n",
       "1            No         No                      No                    No   \n",
       "2           Yes        Yes                     Yes                   Yes   \n",
       "3  Some of them         No                   Maybe                 Maybe   \n",
       "4  Some of them        Yes                     Yes                   Yes   \n",
       "\n",
       "  mental_vs_physical obs_consequence comments  \n",
       "0                Yes              No       NA  \n",
       "1         Don't know              No       NA  \n",
       "2                 No              No       NA  \n",
       "3                 No             Yes       NA  \n",
       "4         Don't know              No       NA  \n",
       "\n",
       "[5 rows x 27 columns]"
      ]
     },
     "execution_count": 10,
     "metadata": {},
     "output_type": "execute_result"
    }
   ],
   "source": [
    "spark.createDataFrame(df_spark.take(5)).toPandas()\n",
    "#df_spark.show(5)"
   ]
  },
  {
   "cell_type": "code",
   "execution_count": 11,
   "id": "44defbf3-ab0a-42db-b65c-d6ea5feea545",
   "metadata": {},
   "outputs": [
    {
     "data": {
      "text/plain": [
       "Index(['Timestamp', 'Age', 'Gender', 'Country', 'state', 'self_employed',\n",
       "       'family_history', 'treatment', 'work_interfere', 'no_employees',\n",
       "       'remote_work', 'tech_company', 'benefits', 'care_options',\n",
       "       'wellness_program', 'seek_help', 'anonymity', 'leave',\n",
       "       'mental_health_consequence', 'phys_health_consequence', 'coworkers',\n",
       "       'supervisor', 'mental_health_interview', 'phys_health_interview',\n",
       "       'mental_vs_physical', 'obs_consequence', 'comments'],\n",
       "      dtype='object')"
      ]
     },
     "execution_count": 11,
     "metadata": {},
     "output_type": "execute_result"
    }
   ],
   "source": [
    "df_pandas.columns\n",
    "#df_spark.columns"
   ]
  },
  {
   "cell_type": "code",
   "execution_count": 12,
   "id": "d4adc54c-ba47-424c-8536-e15607e3732e",
   "metadata": {},
   "outputs": [],
   "source": [
    "colunas_irrelevantes = ['Timestamp', 'Country', 'self_employed', 'no_employees', 'remote_work', 'tech_company', 'benefits', 'wellness_program', 'seek_help', 'anonymity', 'leave', 'coworkers', 'obs_consequence', 'comments']"
   ]
  },
  {
   "cell_type": "code",
   "execution_count": 13,
   "id": "10a83754-3e66-4fff-a9b0-d1dfa6e59881",
   "metadata": {},
   "outputs": [],
   "source": [
    "df_pandas.drop(colunas_irrelevantes, axis=1, inplace=True)"
   ]
  },
  {
   "cell_type": "code",
   "execution_count": 14,
   "id": "6813a217-33f1-45aa-81ea-2abaa68ddeb5",
   "metadata": {},
   "outputs": [],
   "source": [
    "df_spark = df_spark.drop(*colunas_irrelevantes)"
   ]
  },
  {
   "cell_type": "code",
   "execution_count": null,
   "id": "5021ebe2-6ae5-4d18-a245-b75ca12455d8",
   "metadata": {},
   "outputs": [],
   "source": []
  },
  {
   "cell_type": "code",
   "execution_count": 15,
   "id": "82a6c0de-f021-4f12-9d34-16cfae02f2ea",
   "metadata": {},
   "outputs": [
    {
     "name": "stdout",
     "output_type": "stream",
     "text": [
      "<class 'pandas.core.frame.DataFrame'>\n",
      "RangeIndex: 1259 entries, 0 to 1258\n",
      "Data columns (total 13 columns):\n",
      " #   Column                     Non-Null Count  Dtype \n",
      "---  ------                     --------------  ----- \n",
      " 0   Age                        1259 non-null   int64 \n",
      " 1   Gender                     1259 non-null   object\n",
      " 2   state                      744 non-null    object\n",
      " 3   family_history             1259 non-null   object\n",
      " 4   treatment                  1259 non-null   object\n",
      " 5   work_interfere             995 non-null    object\n",
      " 6   care_options               1259 non-null   object\n",
      " 7   mental_health_consequence  1259 non-null   object\n",
      " 8   phys_health_consequence    1259 non-null   object\n",
      " 9   supervisor                 1259 non-null   object\n",
      " 10  mental_health_interview    1259 non-null   object\n",
      " 11  phys_health_interview      1259 non-null   object\n",
      " 12  mental_vs_physical         1259 non-null   object\n",
      "dtypes: int64(1), object(12)\n",
      "memory usage: 128.0+ KB\n"
     ]
    }
   ],
   "source": [
    "df_pandas.info()"
   ]
  },
  {
   "cell_type": "code",
   "execution_count": 16,
   "id": "9bdd41e8-9904-4bcf-a253-46a872816450",
   "metadata": {},
   "outputs": [
    {
     "name": "stdout",
     "output_type": "stream",
     "text": [
      "(1259, 13)\n",
      "Age                            0\n",
      "Gender                         0\n",
      "state                        515\n",
      "family_history                 0\n",
      "treatment                      0\n",
      "work_interfere               264\n",
      "care_options                   0\n",
      "mental_health_consequence      0\n",
      "phys_health_consequence        0\n",
      "supervisor                     0\n",
      "mental_health_interview        0\n",
      "phys_health_interview          0\n",
      "mental_vs_physical             0\n",
      "dtype: int64\n"
     ]
    }
   ],
   "source": [
    "print(df_pandas.shape)\n",
    "print(df_pandas.isnull().sum())\n"
   ]
  },
  {
   "cell_type": "code",
   "execution_count": 17,
   "id": "18aa67b1-e78a-4f9e-8153-71364a9beea9",
   "metadata": {},
   "outputs": [
    {
     "name": "stdout",
     "output_type": "stream",
     "text": [
      "root\n",
      " |-- Age: long (nullable = true)\n",
      " |-- Gender: string (nullable = true)\n",
      " |-- state: string (nullable = true)\n",
      " |-- family_history: string (nullable = true)\n",
      " |-- treatment: string (nullable = true)\n",
      " |-- work_interfere: string (nullable = true)\n",
      " |-- care_options: string (nullable = true)\n",
      " |-- mental_health_consequence: string (nullable = true)\n",
      " |-- phys_health_consequence: string (nullable = true)\n",
      " |-- supervisor: string (nullable = true)\n",
      " |-- mental_health_interview: string (nullable = true)\n",
      " |-- phys_health_interview: string (nullable = true)\n",
      " |-- mental_vs_physical: string (nullable = true)\n",
      "\n"
     ]
    }
   ],
   "source": [
    "df_spark.printSchema()"
   ]
  },
  {
   "cell_type": "code",
   "execution_count": 18,
   "id": "3596b8df-2fcb-4c98-b3a1-6a9fab23c934",
   "metadata": {},
   "outputs": [
    {
     "name": "stdout",
     "output_type": "stream",
     "text": [
      "linhas:  1259\n",
      "colunas:  13\n"
     ]
    }
   ],
   "source": [
    "print('linhas: ', df_spark.count())\n",
    "print('colunas: ', len(df_spark.columns))"
   ]
  },
  {
   "cell_type": "code",
   "execution_count": 20,
   "id": "0026e495-32b1-4b26-85a1-b6c495f40c4a",
   "metadata": {},
   "outputs": [
    {
     "data": {
      "text/plain": [
       "[('state', 515),\n",
       " ('work_interfere', 264),\n",
       " ('Age', 0),\n",
       " ('Gender', 0),\n",
       " ('family_history', 0),\n",
       " ('treatment', 0),\n",
       " ('care_options', 0),\n",
       " ('mental_health_consequence', 0),\n",
       " ('phys_health_consequence', 0),\n",
       " ('supervisor', 0),\n",
       " ('mental_health_interview', 0),\n",
       " ('phys_health_interview', 0),\n",
       " ('mental_vs_physical', 0)]"
      ]
     },
     "execution_count": 20,
     "metadata": {},
     "output_type": "execute_result"
    }
   ],
   "source": [
    "from pyspark.sql import functions as F\n",
    "df_spark = df_spark.replace(['NA'], None)\n",
    "\n",
    "nulos = df_spark.select(*[F.count(F.when(F.col(c).isNull(), c)).alias(c) for c in df_spark.columns])\n",
    "\n",
    "#processo para ordenação das colunas nulas\n",
    "nulos_lista = [(col, nulos.first()[col]) for col in nulos.columns]\n",
    "sorted(nulos_lista, key = lambda x: x[1], reverse=True)"
   ]
  },
  {
   "cell_type": "code",
   "execution_count": null,
   "id": "9c792a7e-aa30-47a5-9e43-b8c7c6ba8efb",
   "metadata": {},
   "outputs": [],
   "source": []
  },
  {
   "cell_type": "code",
   "execution_count": 21,
   "id": "28e29763-18e3-444c-a5f9-91771f78b33d",
   "metadata": {},
   "outputs": [],
   "source": [
    "df_spark = df_spark.drop('state')\n",
    "df_pandas.drop('state', axis=1, inplace=True)"
   ]
  },
  {
   "cell_type": "code",
   "execution_count": 22,
   "id": "29192e4c-2384-48fa-b6da-35ec4ee6d416",
   "metadata": {},
   "outputs": [],
   "source": [
    "df_pandas['work_interfere'] = df_pandas['work_interfere'].fillna(df_pandas['work_interfere'].mode([0]))"
   ]
  },
  {
   "cell_type": "code",
   "execution_count": 23,
   "id": "0381f672-3740-4d4b-9202-75fa5085fcca",
   "metadata": {},
   "outputs": [],
   "source": [
    "moda_df = df_spark.select(F.mode(F.col('work_interfere')).alias('moda'))\n",
    "moda = moda_df.collect()[0]['moda']\n",
    "\n",
    "df_spark = df_spark.fillna({'work_interfere': moda})"
   ]
  },
  {
   "cell_type": "code",
   "execution_count": null,
   "id": "4a52ba63-327d-4557-bd36-8b5285c27b8e",
   "metadata": {},
   "outputs": [],
   "source": []
  },
  {
   "cell_type": "code",
   "execution_count": 24,
   "id": "9e864421-5bf3-442e-b617-81b155750b7e",
   "metadata": {},
   "outputs": [
    {
     "data": {
      "text/html": [
       "<div>\n",
       "<style scoped>\n",
       "    .dataframe tbody tr th:only-of-type {\n",
       "        vertical-align: middle;\n",
       "    }\n",
       "\n",
       "    .dataframe tbody tr th {\n",
       "        vertical-align: top;\n",
       "    }\n",
       "\n",
       "    .dataframe thead th {\n",
       "        text-align: right;\n",
       "    }\n",
       "</style>\n",
       "<table border=\"1\" class=\"dataframe\">\n",
       "  <thead>\n",
       "    <tr style=\"text-align: right;\">\n",
       "      <th></th>\n",
       "      <th>Age</th>\n",
       "      <th>Gender</th>\n",
       "      <th>family_history</th>\n",
       "      <th>treatment</th>\n",
       "      <th>work_interfere</th>\n",
       "      <th>care_options</th>\n",
       "      <th>mental_health_consequence</th>\n",
       "      <th>phys_health_consequence</th>\n",
       "      <th>supervisor</th>\n",
       "      <th>mental_health_interview</th>\n",
       "      <th>phys_health_interview</th>\n",
       "      <th>mental_vs_physical</th>\n",
       "    </tr>\n",
       "  </thead>\n",
       "  <tbody>\n",
       "    <tr>\n",
       "      <th>count</th>\n",
       "      <td>1.259000e+03</td>\n",
       "      <td>1259</td>\n",
       "      <td>1259</td>\n",
       "      <td>1259</td>\n",
       "      <td>995</td>\n",
       "      <td>1259</td>\n",
       "      <td>1259</td>\n",
       "      <td>1259</td>\n",
       "      <td>1259</td>\n",
       "      <td>1259</td>\n",
       "      <td>1259</td>\n",
       "      <td>1259</td>\n",
       "    </tr>\n",
       "    <tr>\n",
       "      <th>unique</th>\n",
       "      <td>NaN</td>\n",
       "      <td>49</td>\n",
       "      <td>2</td>\n",
       "      <td>2</td>\n",
       "      <td>4</td>\n",
       "      <td>3</td>\n",
       "      <td>3</td>\n",
       "      <td>3</td>\n",
       "      <td>3</td>\n",
       "      <td>3</td>\n",
       "      <td>3</td>\n",
       "      <td>3</td>\n",
       "    </tr>\n",
       "    <tr>\n",
       "      <th>top</th>\n",
       "      <td>NaN</td>\n",
       "      <td>Male</td>\n",
       "      <td>No</td>\n",
       "      <td>Yes</td>\n",
       "      <td>Sometimes</td>\n",
       "      <td>No</td>\n",
       "      <td>No</td>\n",
       "      <td>No</td>\n",
       "      <td>Yes</td>\n",
       "      <td>No</td>\n",
       "      <td>Maybe</td>\n",
       "      <td>Don't know</td>\n",
       "    </tr>\n",
       "    <tr>\n",
       "      <th>freq</th>\n",
       "      <td>NaN</td>\n",
       "      <td>615</td>\n",
       "      <td>767</td>\n",
       "      <td>637</td>\n",
       "      <td>465</td>\n",
       "      <td>501</td>\n",
       "      <td>490</td>\n",
       "      <td>925</td>\n",
       "      <td>516</td>\n",
       "      <td>1008</td>\n",
       "      <td>557</td>\n",
       "      <td>576</td>\n",
       "    </tr>\n",
       "    <tr>\n",
       "      <th>mean</th>\n",
       "      <td>7.942815e+07</td>\n",
       "      <td>NaN</td>\n",
       "      <td>NaN</td>\n",
       "      <td>NaN</td>\n",
       "      <td>NaN</td>\n",
       "      <td>NaN</td>\n",
       "      <td>NaN</td>\n",
       "      <td>NaN</td>\n",
       "      <td>NaN</td>\n",
       "      <td>NaN</td>\n",
       "      <td>NaN</td>\n",
       "      <td>NaN</td>\n",
       "    </tr>\n",
       "    <tr>\n",
       "      <th>std</th>\n",
       "      <td>2.818299e+09</td>\n",
       "      <td>NaN</td>\n",
       "      <td>NaN</td>\n",
       "      <td>NaN</td>\n",
       "      <td>NaN</td>\n",
       "      <td>NaN</td>\n",
       "      <td>NaN</td>\n",
       "      <td>NaN</td>\n",
       "      <td>NaN</td>\n",
       "      <td>NaN</td>\n",
       "      <td>NaN</td>\n",
       "      <td>NaN</td>\n",
       "    </tr>\n",
       "    <tr>\n",
       "      <th>min</th>\n",
       "      <td>-1.726000e+03</td>\n",
       "      <td>NaN</td>\n",
       "      <td>NaN</td>\n",
       "      <td>NaN</td>\n",
       "      <td>NaN</td>\n",
       "      <td>NaN</td>\n",
       "      <td>NaN</td>\n",
       "      <td>NaN</td>\n",
       "      <td>NaN</td>\n",
       "      <td>NaN</td>\n",
       "      <td>NaN</td>\n",
       "      <td>NaN</td>\n",
       "    </tr>\n",
       "    <tr>\n",
       "      <th>25%</th>\n",
       "      <td>2.700000e+01</td>\n",
       "      <td>NaN</td>\n",
       "      <td>NaN</td>\n",
       "      <td>NaN</td>\n",
       "      <td>NaN</td>\n",
       "      <td>NaN</td>\n",
       "      <td>NaN</td>\n",
       "      <td>NaN</td>\n",
       "      <td>NaN</td>\n",
       "      <td>NaN</td>\n",
       "      <td>NaN</td>\n",
       "      <td>NaN</td>\n",
       "    </tr>\n",
       "    <tr>\n",
       "      <th>50%</th>\n",
       "      <td>3.100000e+01</td>\n",
       "      <td>NaN</td>\n",
       "      <td>NaN</td>\n",
       "      <td>NaN</td>\n",
       "      <td>NaN</td>\n",
       "      <td>NaN</td>\n",
       "      <td>NaN</td>\n",
       "      <td>NaN</td>\n",
       "      <td>NaN</td>\n",
       "      <td>NaN</td>\n",
       "      <td>NaN</td>\n",
       "      <td>NaN</td>\n",
       "    </tr>\n",
       "    <tr>\n",
       "      <th>75%</th>\n",
       "      <td>3.600000e+01</td>\n",
       "      <td>NaN</td>\n",
       "      <td>NaN</td>\n",
       "      <td>NaN</td>\n",
       "      <td>NaN</td>\n",
       "      <td>NaN</td>\n",
       "      <td>NaN</td>\n",
       "      <td>NaN</td>\n",
       "      <td>NaN</td>\n",
       "      <td>NaN</td>\n",
       "      <td>NaN</td>\n",
       "      <td>NaN</td>\n",
       "    </tr>\n",
       "    <tr>\n",
       "      <th>max</th>\n",
       "      <td>1.000000e+11</td>\n",
       "      <td>NaN</td>\n",
       "      <td>NaN</td>\n",
       "      <td>NaN</td>\n",
       "      <td>NaN</td>\n",
       "      <td>NaN</td>\n",
       "      <td>NaN</td>\n",
       "      <td>NaN</td>\n",
       "      <td>NaN</td>\n",
       "      <td>NaN</td>\n",
       "      <td>NaN</td>\n",
       "      <td>NaN</td>\n",
       "    </tr>\n",
       "  </tbody>\n",
       "</table>\n",
       "</div>"
      ],
      "text/plain": [
       "                 Age Gender family_history treatment work_interfere  \\\n",
       "count   1.259000e+03   1259           1259      1259            995   \n",
       "unique           NaN     49              2         2              4   \n",
       "top              NaN   Male             No       Yes      Sometimes   \n",
       "freq             NaN    615            767       637            465   \n",
       "mean    7.942815e+07    NaN            NaN       NaN            NaN   \n",
       "std     2.818299e+09    NaN            NaN       NaN            NaN   \n",
       "min    -1.726000e+03    NaN            NaN       NaN            NaN   \n",
       "25%     2.700000e+01    NaN            NaN       NaN            NaN   \n",
       "50%     3.100000e+01    NaN            NaN       NaN            NaN   \n",
       "75%     3.600000e+01    NaN            NaN       NaN            NaN   \n",
       "max     1.000000e+11    NaN            NaN       NaN            NaN   \n",
       "\n",
       "       care_options mental_health_consequence phys_health_consequence  \\\n",
       "count          1259                      1259                    1259   \n",
       "unique            3                         3                       3   \n",
       "top              No                        No                      No   \n",
       "freq            501                       490                     925   \n",
       "mean            NaN                       NaN                     NaN   \n",
       "std             NaN                       NaN                     NaN   \n",
       "min             NaN                       NaN                     NaN   \n",
       "25%             NaN                       NaN                     NaN   \n",
       "50%             NaN                       NaN                     NaN   \n",
       "75%             NaN                       NaN                     NaN   \n",
       "max             NaN                       NaN                     NaN   \n",
       "\n",
       "       supervisor mental_health_interview phys_health_interview  \\\n",
       "count        1259                    1259                  1259   \n",
       "unique          3                       3                     3   \n",
       "top           Yes                      No                 Maybe   \n",
       "freq          516                    1008                   557   \n",
       "mean          NaN                     NaN                   NaN   \n",
       "std           NaN                     NaN                   NaN   \n",
       "min           NaN                     NaN                   NaN   \n",
       "25%           NaN                     NaN                   NaN   \n",
       "50%           NaN                     NaN                   NaN   \n",
       "75%           NaN                     NaN                   NaN   \n",
       "max           NaN                     NaN                   NaN   \n",
       "\n",
       "       mental_vs_physical  \n",
       "count                1259  \n",
       "unique                  3  \n",
       "top            Don't know  \n",
       "freq                  576  \n",
       "mean                  NaN  \n",
       "std                   NaN  \n",
       "min                   NaN  \n",
       "25%                   NaN  \n",
       "50%                   NaN  \n",
       "75%                   NaN  \n",
       "max                   NaN  "
      ]
     },
     "execution_count": 24,
     "metadata": {},
     "output_type": "execute_result"
    }
   ],
   "source": [
    "df_pandas.describe(include='all')"
   ]
  },
  {
   "cell_type": "code",
   "execution_count": 25,
   "id": "276f6919-3cca-4f74-979a-66e177419336",
   "metadata": {},
   "outputs": [
    {
     "data": {
      "text/html": [
       "<div>\n",
       "<style scoped>\n",
       "    .dataframe tbody tr th:only-of-type {\n",
       "        vertical-align: middle;\n",
       "    }\n",
       "\n",
       "    .dataframe tbody tr th {\n",
       "        vertical-align: top;\n",
       "    }\n",
       "\n",
       "    .dataframe thead th {\n",
       "        text-align: right;\n",
       "    }\n",
       "</style>\n",
       "<table border=\"1\" class=\"dataframe\">\n",
       "  <thead>\n",
       "    <tr style=\"text-align: right;\">\n",
       "      <th></th>\n",
       "      <th>summary</th>\n",
       "      <th>Age</th>\n",
       "      <th>Gender</th>\n",
       "      <th>family_history</th>\n",
       "      <th>treatment</th>\n",
       "      <th>work_interfere</th>\n",
       "      <th>care_options</th>\n",
       "      <th>mental_health_consequence</th>\n",
       "      <th>phys_health_consequence</th>\n",
       "      <th>supervisor</th>\n",
       "      <th>mental_health_interview</th>\n",
       "      <th>phys_health_interview</th>\n",
       "      <th>mental_vs_physical</th>\n",
       "    </tr>\n",
       "  </thead>\n",
       "  <tbody>\n",
       "    <tr>\n",
       "      <th>0</th>\n",
       "      <td>count</td>\n",
       "      <td>1259</td>\n",
       "      <td>1259</td>\n",
       "      <td>1259</td>\n",
       "      <td>1259</td>\n",
       "      <td>1259</td>\n",
       "      <td>1259</td>\n",
       "      <td>1259</td>\n",
       "      <td>1259</td>\n",
       "      <td>1259</td>\n",
       "      <td>1259</td>\n",
       "      <td>1259</td>\n",
       "      <td>1259</td>\n",
       "    </tr>\n",
       "    <tr>\n",
       "      <th>1</th>\n",
       "      <td>mean</td>\n",
       "      <td>7.942814831135821E7</td>\n",
       "      <td>None</td>\n",
       "      <td>None</td>\n",
       "      <td>None</td>\n",
       "      <td>None</td>\n",
       "      <td>None</td>\n",
       "      <td>None</td>\n",
       "      <td>None</td>\n",
       "      <td>None</td>\n",
       "      <td>None</td>\n",
       "      <td>None</td>\n",
       "      <td>None</td>\n",
       "    </tr>\n",
       "    <tr>\n",
       "      <th>2</th>\n",
       "      <td>stddev</td>\n",
       "      <td>2.8182994429819684E9</td>\n",
       "      <td>None</td>\n",
       "      <td>None</td>\n",
       "      <td>None</td>\n",
       "      <td>None</td>\n",
       "      <td>None</td>\n",
       "      <td>None</td>\n",
       "      <td>None</td>\n",
       "      <td>None</td>\n",
       "      <td>None</td>\n",
       "      <td>None</td>\n",
       "      <td>None</td>\n",
       "    </tr>\n",
       "    <tr>\n",
       "      <th>3</th>\n",
       "      <td>min</td>\n",
       "      <td>-1726</td>\n",
       "      <td>A little about you</td>\n",
       "      <td>No</td>\n",
       "      <td>No</td>\n",
       "      <td>Never</td>\n",
       "      <td>No</td>\n",
       "      <td>Maybe</td>\n",
       "      <td>Maybe</td>\n",
       "      <td>No</td>\n",
       "      <td>Maybe</td>\n",
       "      <td>Maybe</td>\n",
       "      <td>Don't know</td>\n",
       "    </tr>\n",
       "    <tr>\n",
       "      <th>4</th>\n",
       "      <td>25%</td>\n",
       "      <td>27</td>\n",
       "      <td>None</td>\n",
       "      <td>None</td>\n",
       "      <td>None</td>\n",
       "      <td>None</td>\n",
       "      <td>None</td>\n",
       "      <td>None</td>\n",
       "      <td>None</td>\n",
       "      <td>None</td>\n",
       "      <td>None</td>\n",
       "      <td>None</td>\n",
       "      <td>None</td>\n",
       "    </tr>\n",
       "    <tr>\n",
       "      <th>5</th>\n",
       "      <td>50%</td>\n",
       "      <td>31</td>\n",
       "      <td>None</td>\n",
       "      <td>None</td>\n",
       "      <td>None</td>\n",
       "      <td>None</td>\n",
       "      <td>None</td>\n",
       "      <td>None</td>\n",
       "      <td>None</td>\n",
       "      <td>None</td>\n",
       "      <td>None</td>\n",
       "      <td>None</td>\n",
       "      <td>None</td>\n",
       "    </tr>\n",
       "    <tr>\n",
       "      <th>6</th>\n",
       "      <td>75%</td>\n",
       "      <td>36</td>\n",
       "      <td>None</td>\n",
       "      <td>None</td>\n",
       "      <td>None</td>\n",
       "      <td>None</td>\n",
       "      <td>None</td>\n",
       "      <td>None</td>\n",
       "      <td>None</td>\n",
       "      <td>None</td>\n",
       "      <td>None</td>\n",
       "      <td>None</td>\n",
       "      <td>None</td>\n",
       "    </tr>\n",
       "    <tr>\n",
       "      <th>7</th>\n",
       "      <td>max</td>\n",
       "      <td>99999999999</td>\n",
       "      <td>woman</td>\n",
       "      <td>Yes</td>\n",
       "      <td>Yes</td>\n",
       "      <td>Sometimes</td>\n",
       "      <td>Yes</td>\n",
       "      <td>Yes</td>\n",
       "      <td>Yes</td>\n",
       "      <td>Yes</td>\n",
       "      <td>Yes</td>\n",
       "      <td>Yes</td>\n",
       "      <td>Yes</td>\n",
       "    </tr>\n",
       "  </tbody>\n",
       "</table>\n",
       "</div>"
      ],
      "text/plain": [
       "  summary                   Age              Gender family_history treatment  \\\n",
       "0   count                  1259                1259           1259      1259   \n",
       "1    mean   7.942814831135821E7                None           None      None   \n",
       "2  stddev  2.8182994429819684E9                None           None      None   \n",
       "3     min                 -1726  A little about you             No        No   \n",
       "4     25%                    27                None           None      None   \n",
       "5     50%                    31                None           None      None   \n",
       "6     75%                    36                None           None      None   \n",
       "7     max           99999999999               woman            Yes       Yes   \n",
       "\n",
       "  work_interfere care_options mental_health_consequence  \\\n",
       "0           1259         1259                      1259   \n",
       "1           None         None                      None   \n",
       "2           None         None                      None   \n",
       "3          Never           No                     Maybe   \n",
       "4           None         None                      None   \n",
       "5           None         None                      None   \n",
       "6           None         None                      None   \n",
       "7      Sometimes          Yes                       Yes   \n",
       "\n",
       "  phys_health_consequence supervisor mental_health_interview  \\\n",
       "0                    1259       1259                    1259   \n",
       "1                    None       None                    None   \n",
       "2                    None       None                    None   \n",
       "3                   Maybe         No                   Maybe   \n",
       "4                    None       None                    None   \n",
       "5                    None       None                    None   \n",
       "6                    None       None                    None   \n",
       "7                     Yes        Yes                     Yes   \n",
       "\n",
       "  phys_health_interview mental_vs_physical  \n",
       "0                  1259               1259  \n",
       "1                  None               None  \n",
       "2                  None               None  \n",
       "3                 Maybe         Don't know  \n",
       "4                  None               None  \n",
       "5                  None               None  \n",
       "6                  None               None  \n",
       "7                   Yes                Yes  "
      ]
     },
     "execution_count": 25,
     "metadata": {},
     "output_type": "execute_result"
    }
   ],
   "source": [
    "df_spark.summary().toPandas()"
   ]
  },
  {
   "cell_type": "code",
   "execution_count": 26,
   "id": "1a8dc7de-e421-4818-9659-1a1d970dc686",
   "metadata": {},
   "outputs": [
    {
     "data": {
      "text/plain": [
       "'No'"
      ]
     },
     "execution_count": 26,
     "metadata": {},
     "output_type": "execute_result"
    }
   ],
   "source": [
    "def ver_moda(coluna):\n",
    "    moda_df = df_spark.select(F.mode(F.col(coluna)).alias('moda'))\n",
    "    moda = moda_df.collect()[0]['moda']\n",
    "    return moda\n",
    "\n",
    "ver_moda('family_history')"
   ]
  },
  {
   "cell_type": "code",
   "execution_count": null,
   "id": "f4d9eda2",
   "metadata": {},
   "outputs": [],
   "source": []
  },
  {
   "cell_type": "code",
   "execution_count": 27,
   "id": "b47f0a23-049a-4477-a388-35b85f204e07",
   "metadata": {},
   "outputs": [
    {
     "name": "stdout",
     "output_type": "stream",
     "text": [
      "+------------+\n",
      "|      Gender|\n",
      "+------------+\n",
      "|  non-binary|\n",
      "|        Make|\n",
      "|           F|\n",
      "| Genderqueer|\n",
      "|         Man|\n",
      "|  Male (CIS)|\n",
      "|           m|\n",
      "|     Female |\n",
      "|     Agender|\n",
      "|         Mal|\n",
      "|           f|\n",
      "|       maile|\n",
      "|Trans-female|\n",
      "|         Nah|\n",
      "|  Cis Female|\n",
      "|       woman|\n",
      "|      Female|\n",
      "|     Cis Man|\n",
      "|      female|\n",
      "|           M|\n",
      "+------------+\n",
      "only showing top 20 rows\n",
      "\n"
     ]
    }
   ],
   "source": [
    "coluna = 'Gender'\n",
    "df_spark.select(coluna).distinct().show()"
   ]
  },
  {
   "cell_type": "code",
   "execution_count": 28,
   "id": "fd45b31e",
   "metadata": {},
   "outputs": [
    {
     "data": {
      "text/plain": [
       "array(['Female', 'M', 'Male', 'male', 'female', 'm', 'Male-ish', 'maile',\n",
       "       'Trans-female', 'Cis Female', 'F', 'something kinda male?',\n",
       "       'Cis Male', 'Woman', 'f', 'Mal', 'Male (CIS)', 'queer/she/they',\n",
       "       'non-binary', 'Femake', 'woman', 'Make', 'Nah', 'All', 'Enby',\n",
       "       'fluid', 'Genderqueer', 'Female ', 'Androgyne', 'Agender',\n",
       "       'cis-female/femme', 'Guy (-ish) ^_^', 'male leaning androgynous',\n",
       "       'Male ', 'Man', 'Trans woman', 'msle', 'Neuter', 'Female (trans)',\n",
       "       'queer', 'Female (cis)', 'Mail', 'cis male', 'A little about you',\n",
       "       'Malr', 'p', 'femail', 'Cis Man',\n",
       "       'ostensibly male, unsure what that really means'], dtype=object)"
      ]
     },
     "execution_count": 28,
     "metadata": {},
     "output_type": "execute_result"
    }
   ],
   "source": [
    "df_pandas['Gender'].unique()"
   ]
  },
  {
   "cell_type": "code",
   "execution_count": null,
   "id": "19345dfc",
   "metadata": {},
   "outputs": [],
   "source": []
  },
  {
   "cell_type": "code",
   "execution_count": 29,
   "id": "91f3d68b-22dd-4de6-96c8-f5842ee1bd60",
   "metadata": {},
   "outputs": [],
   "source": [
    "df_spark = df_spark.filter(F.col(\"Age\") >= 18)\n",
    "df_spark = df_spark.filter(F.col(\"Age\") < 100)"
   ]
  },
  {
   "cell_type": "code",
   "execution_count": 30,
   "id": "17762bb2-b839-4c46-bc72-153582142f2d",
   "metadata": {},
   "outputs": [],
   "source": [
    "m = ['m', 'male', 'maile', 'cis male', 'mal', 'male (cis)', 'make', 'male ', 'man', 'msle', 'mail', 'malr', 'cis man']\n",
    "f = ['female', 'trans-female', 'cis female', 'f', 'woman', 'femake', 'female ', 'cis-female/femme','trans woman', 'female (trans)', 'female (cis)', 'femail']\n",
    "\n",
    "def categorizar(genero):\n",
    "    genero = genero.lower() if genero else ''\n",
    "    if genero in m:\n",
    "        return 'm'\n",
    "    elif genero in f:\n",
    "        return 'f'\n",
    "    else:\n",
    "        return 'outros'\n",
    "\n",
    "udf = F.udf(categorizar)\n",
    "df_spark = df_spark.withColumn(\"Gender\", udf(F.col('Gender')))\n"
   ]
  },
  {
   "cell_type": "code",
   "execution_count": 31,
   "id": "2e331c91",
   "metadata": {},
   "outputs": [],
   "source": [
    "df_pandas = df_pandas[df_pandas['Age']>=18]\n",
    "df_pandas = df_pandas[df_pandas['Age']<110]"
   ]
  },
  {
   "cell_type": "code",
   "execution_count": 32,
   "id": "3d6d965a-55d9-41aa-9ddd-f15e2a5de6c5",
   "metadata": {},
   "outputs": [],
   "source": [
    "for (row, col) in df_pandas.iterrows():\n",
    "    if str.lower(col['Gender']) in m:\n",
    "       df_pandas['Gender'] = df_pandas['Gender'].replace(to_replace=col['Gender'], value='m')\n",
    "    elif str.lower(col['Gender']) in f:\n",
    "        df_pandas['Gender'] = df_pandas['Gender'].replace(to_replace=col['Gender'], value='f')\n",
    "    else:\n",
    "        df_pandas['Gender'] = df_pandas['Gender'].replace(to_replace=col['Gender'], value='other')"
   ]
  },
  {
   "cell_type": "code",
   "execution_count": null,
   "id": "3e94ce1f",
   "metadata": {},
   "outputs": [],
   "source": []
  },
  {
   "cell_type": "code",
   "execution_count": 33,
   "id": "54d60c45-a5df-45d0-b194-0bce51e5f29d",
   "metadata": {},
   "outputs": [
    {
     "name": "stdout",
     "output_type": "stream",
     "text": [
      "+---------+-----+-----+\n",
      "|treatment|Count| Porc|\n",
      "+---------+-----+-----+\n",
      "|       No|  619|49.48|\n",
      "|      Yes|  632|50.52|\n",
      "+---------+-----+-----+\n",
      "\n"
     ]
    }
   ],
   "source": [
    "# 1. Dentre as pessoas que tem doenças mentais, quantas buscaram tratamento?\n",
    "tratamento = (df_spark.groupBy('treatment').agg(F.count('treatment').alias('Count'), F.round((F.count('treatment') / df_spark.count())*100, 2).alias('Porc')))\n",
    "import seaborn as sns\n",
    "\n",
    "tratamento.show()\n",
    "#sns.barplot(x='treatment', y='Porc', data=tratamento.toPandas())"
   ]
  },
  {
   "cell_type": "code",
   "execution_count": 34,
   "id": "c392f25c-7be9-4d4f-832e-b090c1033826",
   "metadata": {},
   "outputs": [
    {
     "data": {
      "text/plain": [
       "treatment\n",
       "No     619\n",
       "Yes    632\n",
       "Name: Age, dtype: int64"
      ]
     },
     "execution_count": 34,
     "metadata": {},
     "output_type": "execute_result"
    }
   ],
   "source": [
    "df_pandas.groupby('treatment')['Age'].count()\n",
    "#sns.countplot(df_pandas, x='treatment')"
   ]
  },
  {
   "cell_type": "code",
   "execution_count": null,
   "id": "403bfb44-2969-4001-9081-b6b2fad19f5f",
   "metadata": {},
   "outputs": [],
   "source": []
  },
  {
   "cell_type": "code",
   "execution_count": null,
   "id": "99456657",
   "metadata": {},
   "outputs": [],
   "source": []
  },
  {
   "cell_type": "code",
   "execution_count": 53,
   "id": "814096d4-c429-411d-b42c-3e450b3e130b",
   "metadata": {},
   "outputs": [
    {
     "data": {
      "image/png": "[encoded data removed]",
      "text/plain": [
       "<Figure size 800x500 with 1 Axes>"
      ]
     },
     "metadata": {},
     "output_type": "display_data"
    }
   ],
   "source": [
    "# 2. Quais grupos de idade estão mais conscientes sobre sua saúde mental?\n",
    "# Definindo a consciência como aqueles que responderam 'Yes' em treatment\n",
    "consciousness_age_group = (\n",
    "    df_spark.withColumn('Age_Group', F.when((F.col('Age') < 20), '<20')\n",
    "        .when((F.col('Age') >= 20) & (F.col('Age') < 30), '20-29')\n",
    "        .when((F.col('Age') >= 30) & (F.col('Age') < 40), '30-39')\n",
    "        .when((F.col('Age') >= 40) & (F.col('Age') < 50), '40-49')\n",
    "        .when((F.col('Age') >= 50) & (F.col('Age') < 60), '50-59')\n",
    "        .otherwise('60+'))\n",
    "    .groupBy('Age_Group')\n",
    "    .agg(F.round(F.mean(F.when(F.col('treatment') == 'Yes', 1).otherwise(0)), 2).alias('Awareness_Level'))\n",
    "    .orderBy('Age_Group')\n",
    ")\n",
    "\n",
    "consciousness_age_group_pd = consciousness_age_group.toPandas()\n",
    "\n",
    "# 1. Histograma para a consciência de saúde mental por faixa etária\n",
    "plt.figure(figsize=(8, 5))\n",
    "sns.barplot(x='Age_Group', y='Awareness_Level', hue='Age_Group', data=consciousness_age_group_pd, palette='Blues_d')\n",
    "plt.title('Consciência sobre Saúde Mental por Faixa Etária')\n",
    "plt.ylabel('Nível de Consciência')\n",
    "plt.xlabel('Faixa Etária')\n",
    "plt.show()"
   ]
  },
  {
   "cell_type": "code",
   "execution_count": 38,
   "id": "bec818e7-4770-498e-8da7-0e74c26cbf91",
   "metadata": {},
   "outputs": [
    {
     "data": {
      "text/plain": [
       "<Axes: xlabel='Age', ylabel='Count'>"
      ]
     },
     "execution_count": 38,
     "metadata": {},
     "output_type": "execute_result"
    },
    {
     "data": {
      "image/png": "[encoded data removed]",
      "text/plain": [
       "<Figure size 640x480 with 1 Axes>"
      ]
     },
     "metadata": {},
     "output_type": "display_data"
    }
   ],
   "source": [
    "sns.histplot(data=df_pandas, x='Age')"
   ]
  },
  {
   "cell_type": "code",
   "execution_count": 47,
   "id": "84230796-e895-4579-9ad8-b9d85d9751a6",
   "metadata": {},
   "outputs": [
    {
     "data": {
      "image/png": "[encoded data removed]",
      "text/plain": [
       "<Figure size 1000x400 with 1 Axes>"
      ]
     },
     "metadata": {},
     "output_type": "display_data"
    }
   ],
   "source": [
    "import matplotlib.pyplot as plt\n",
    "filt = df_pandas[['Age', 'treatment']]\n",
    "filt.loc[:,['treatment_bool']] = filt['treatment'].map({'Yes':True, 'No':False})\n",
    "\n",
    "perc = filt.groupby('Age')['treatment_bool'].mean() * 100\n",
    "\n",
    "perc = perc.reset_index()\n",
    "\n",
    "plt.figure(figsize=(10,4))\n",
    "\n",
    "sns.barplot(x=perc['Age'], y=perc['treatment_bool'])\n",
    "\n",
    "sns.despine()"
   ]
  },
  {
   "cell_type": "code",
   "execution_count": null,
   "id": "e6fdcb6f-0dd3-4aeb-86c6-a30e9d3df5b5",
   "metadata": {},
   "outputs": [],
   "source": []
  },
  {
   "cell_type": "code",
   "execution_count": 55,
   "id": "d8931a7f-c90f-41f9-bb7c-f8eba71242dd",
   "metadata": {},
   "outputs": [
    {
     "data": {
      "image/png": "[encoded data removed]",
      "text/plain": [
       "<Figure size 800x500 with 1 Axes>"
      ]
     },
     "metadata": {},
     "output_type": "display_data"
    }
   ],
   "source": [
    "# 3. Qual a associação entre gênero e tratamento?\n",
    "gender_treatment = (\n",
    "    df_spark.groupBy('Gender')\n",
    "    .agg(\n",
    "        F.count(F.when(F.col('treatment') == 'Yes', 1)).alias('Yes'),\n",
    "        F.count(F.when(F.col('treatment') == 'No', 1)).alias('No')\n",
    "    )\n",
    ")\n",
    "\n",
    "gender_treatment_pd = gender_treatment.toPandas()\n",
    "\n",
    "# Gráfico de barras para a associação entre gênero e tratamento\n",
    "gender_treatment_pd_melted = gender_treatment_pd.melt(id_vars=['Gender'], value_vars=['Yes', 'No'], var_name='Treatment', value_name='Count')\n",
    "plt.figure(figsize=(8, 5))\n",
    "sns.barplot(x='Gender', y='Count', hue='Treatment', data=gender_treatment_pd_melted, palette='Set2')\n",
    "plt.title('Associação entre Gênero e Tratamento')\n",
    "plt.ylabel('Contagem')\n",
    "plt.xlabel('Gênero')\n",
    "plt.show()"
   ]
  },
  {
   "cell_type": "code",
   "execution_count": 57,
   "id": "4f9a1708-1b5b-4f25-b671-416f493583ab",
   "metadata": {},
   "outputs": [
    {
     "data": {
      "image/png": "[encoded data removed]",
      "text/plain": [
       "<Figure size 640x480 with 1 Axes>"
      ]
     },
     "metadata": {},
     "output_type": "display_data"
    }
   ],
   "source": [
    "sns.countplot(data=df_pandas, x='Gender', hue='treatment', palette='Set2')\n",
    "sns.despine()"
   ]
  },
  {
   "cell_type": "code",
   "execution_count": null,
   "id": "16a53894-5314-4b36-a31f-04c8d990343c",
   "metadata": {},
   "outputs": [],
   "source": []
  },
  {
   "cell_type": "code",
   "execution_count": 60,
   "id": "02722836-021c-4e6a-a457-5d0a1f9a8746",
   "metadata": {},
   "outputs": [
    {
     "data": {
      "image/png": "[encoded data removed]",
      "text/plain": [
       "<Figure size 800x500 with 1 Axes>"
      ]
     },
     "metadata": {},
     "output_type": "display_data"
    }
   ],
   "source": [
    "# 4. Como o histórico familiar é relaciona a presença de doenças mentais e tratamento?\n",
    "family_history_treatment = (\n",
    "    df_spark.groupBy('family_history')\n",
    "    .agg(\n",
    "        F.count(F.when(F.col('treatment') == 'Yes', 1)).alias('Yes'),\n",
    "        F.count(F.when(F.col('treatment') == 'No', 1)).alias('No')\n",
    "    )\n",
    ")\n",
    "\n",
    "family_history_treatment_pd = family_history_treatment.toPandas()\n",
    "\n",
    "# Gráfico de barras para histórico familiar e tratamento\n",
    "family_history_treatment_pd_melted = family_history_treatment_pd.melt(id_vars=['family_history'], value_vars=['Yes', 'No'], var_name='Treatment', value_name='Count')\n",
    "plt.figure(figsize=(8, 5))\n",
    "sns.barplot(x='family_history', y='Count', hue='Treatment', data=family_history_treatment_pd_melted, palette='Blues')\n",
    "plt.title('Associação entre Histórico Familiar e Tratamento')\n",
    "plt.ylabel('Contagem')\n",
    "plt.xlabel('Histórico Familiar')\n",
    "plt.show()"
   ]
  },
  {
   "cell_type": "code",
   "execution_count": 62,
   "id": "e98d233e-db90-460b-898c-0559fa0b9e5b",
   "metadata": {},
   "outputs": [
    {
     "data": {
      "image/png": "[encoded data removed]",
      "text/plain": [
       "<Figure size 640x480 with 1 Axes>"
      ]
     },
     "metadata": {},
     "output_type": "display_data"
    }
   ],
   "source": [
    "sns.countplot(data=df_pandas, x='family_history', hue='treatment', palette='Blues')\n",
    "sns.despine()"
   ]
  },
  {
   "cell_type": "code",
   "execution_count": 68,
   "id": "2512d1fe-a370-4fa6-be00-ba5d095fddef",
   "metadata": {},
   "outputs": [
    {
     "name": "stderr",
     "output_type": "stream",
     "text": [
      "/var/folders/ts/25xsg3cx09zgv15ygxc6krc00000gn/T/ipykernel_46987/372179633.py:1: FutureWarning: \n",
      "\n",
      "Passing `palette` without assigning `hue` is deprecated and will be removed in v0.14.0. Assign the `x` variable to `hue` and set `legend=False` for the same effect.\n",
      "\n",
      "  sns.countplot(data=df_pandas, x='family_history', palette='Blues')\n"
     ]
    },
    {
     "data": {
      "image/png": "[encoded data removed]",
      "text/plain": [
       "<Figure size 640x480 with 1 Axes>"
      ]
     },
     "metadata": {},
     "output_type": "display_data"
    }
   ],
   "source": [
    "sns.countplot(data=df_pandas, x='family_history', palette='Blues')\n",
    "sns.despine()"
   ]
  },
  {
   "cell_type": "code",
   "execution_count": null,
   "id": "25e94df0-04ed-4a11-865f-445d43be3154",
   "metadata": {},
   "outputs": [],
   "source": []
  },
  {
   "cell_type": "code",
   "execution_count": 66,
   "id": "63e4d89a-7085-47bb-a532-473ee8d1bc84",
   "metadata": {},
   "outputs": [
    {
     "data": {
      "image/png": "[encoded data removed]",
      "text/plain": [
       "<Figure size 800x500 with 1 Axes>"
      ]
     },
     "metadata": {},
     "output_type": "display_data"
    }
   ],
   "source": [
    "# 5. Qual é o nível de interferiencia no trabalho que essas doenças causam?\n",
    "work_interfere_levels = (\n",
    "    df_spark.groupBy('work_interfere')\n",
    "    .agg(\n",
    "        F.count('work_interfere').alias('Count'),\n",
    "        F.round((F.count('work_interfere') / df_spark.count()), 2).alias('Proportion')\n",
    "    )\n",
    ")\n",
    "\n",
    "work_interfere_levels_pd = work_interfere_levels.toPandas()\n",
    "\n",
    "# Gráfico para analisar o nível de interferência no trabalho\n",
    "plt.figure(figsize=(8, 5))\n",
    "sns.barplot(x='work_interfere', y='Count', hue='work_interfere', data=work_interfere_levels_pd, palette='viridis')\n",
    "plt.title('Nível de Interferência no Trabalho')\n",
    "plt.ylabel('Contagem')\n",
    "plt.xlabel('Nível de Interferência')\n",
    "plt.show()"
   ]
  },
  {
   "cell_type": "code",
   "execution_count": 70,
   "id": "1776f4ca-78ef-4c40-99ba-a082b2941d83",
   "metadata": {},
   "outputs": [
    {
     "data": {
      "text/plain": [
       "Text(0.5, 1.0, 'Os problemas de saúde mental interferem no trabalho?')"
      ]
     },
     "execution_count": 70,
     "metadata": {},
     "output_type": "execute_result"
    },
    {
     "data": {
      "image/png": "[encoded data removed]",
      "text/plain": [
       "<Figure size 600x300 with 1 Axes>"
      ]
     },
     "metadata": {},
     "output_type": "display_data"
    }
   ],
   "source": [
    "# gráfico bonitinho e clean\n",
    "plt.figure(figsize=(6,3))\n",
    "sns.countplot(data=df_pandas, x='work_interfere', width=0.8, order=['Never', 'Rarely', 'Sometimes', 'Often'])\n",
    "\n",
    "sns.despine()\n",
    "plt.gca().spines['left'].set_color('lightgray')\n",
    "plt.gca().spines['bottom'].set_color('lightgray')\n",
    "\n",
    "plt.tick_params(axis='both', labelsize='small', labelcolor='gray', color='gray')\n",
    "\n",
    "plt.xlabel('Interferência no trabalho', fontsize=11, color='gray')\n",
    "plt.ylabel('N de ocorrências', fontsize=11, color='gray')\n",
    "\n",
    "plt.title('Os problemas de saúde mental interferem no trabalho?', fontdict={'fontsize':16, 'color': 'gray', 'fontweight':'bold'})"
   ]
  },
  {
   "cell_type": "code",
   "execution_count": null,
   "id": "19ffc8ca-dad9-4a35-ae1d-114b560969b1",
   "metadata": {},
   "outputs": [],
   "source": []
  },
  {
   "cell_type": "code",
   "execution_count": 87,
   "id": "461fce7c-d4eb-4ff9-ac70-9db11f3f4b4a",
   "metadata": {},
   "outputs": [
    {
     "data": {
      "text/plain": [
       "<Figure size 800x500 with 0 Axes>"
      ]
     },
     "metadata": {},
     "output_type": "display_data"
    },
    {
     "data": {
      "image/png": "[encoded data removed]",
      "text/plain": [
       "<Figure size 640x480 with 2 Axes>"
      ]
     },
     "metadata": {},
     "output_type": "display_data"
    }
   ],
   "source": [
    "# 6. Os funcionário acreditamque discutir a saúde mental ou a saúde física com seus chefes pode trazer consequências negativas?\n",
    "mental_health_consequence = (\n",
    "    df_spark.groupBy('mental_health_consequence')\n",
    "    .agg(\n",
    "        F.count('mental_health_consequence').alias('Count')\n",
    "    )\n",
    ")\n",
    "\n",
    "phys_health_consequence = (\n",
    "    df_spark.groupBy('phys_health_consequence')\n",
    "    .agg(\n",
    "        F.count('phys_health_consequence').alias('Count')\n",
    "    )\n",
    ")\n",
    "\n",
    "mental_health_consequence_pd = mental_health_consequence.toPandas()\n",
    "phys_health_consequence_pd = phys_health_consequence.toPandas()\n",
    "\n",
    "# Gráficos para discutir as consequências negativas\n",
    "# Mental health\n",
    "\n",
    "plt.figure(figsize=(8,5))\n",
    "fig, axs = plt.subplots(1, 2, sharey=True)\n",
    "sns.barplot(x='mental_health_consequence', y='Count', hue='mental_health_consequence', data=mental_health_consequence_pd, palette='Greens', ax=axs[0])\n",
    "plt.subplot(1,2,2)\n",
    "\n",
    "# Physical health\n",
    "sns.barplot(x='phys_health_consequence', y='Count', hue='phys_health_consequence', data=phys_health_consequence_pd, palette='Greens', ax=axs[1])\n",
    "plt.show()"
   ]
  },
  {
   "cell_type": "code",
   "execution_count": 78,
   "id": "773ec2ae-644c-4ecc-a6e9-c93042575681",
   "metadata": {},
   "outputs": [
    {
     "data": {
      "text/plain": [
       "<Axes: xlabel='phys_health_consequence', ylabel='count'>"
      ]
     },
     "execution_count": 78,
     "metadata": {},
     "output_type": "execute_result"
    },
    {
     "data": {
      "text/plain": [
       "<Figure size 800x500 with 0 Axes>"
      ]
     },
     "metadata": {},
     "output_type": "display_data"
    },
    {
     "data": {
      "image/png": "[encoded data removed]",
      "text/plain": [
       "<Figure size 640x480 with 2 Axes>"
      ]
     },
     "metadata": {},
     "output_type": "display_data"
    }
   ],
   "source": [
    "plt.figure(figsize=(8,5))\n",
    "fig, axs = plt.subplots(1, 2, sharey=True)\n",
    "sns.countplot(x='mental_health_consequence', hue='mental_health_consequence', data=df_pandas, palette='Greens', ax=axs[0])\n",
    "\n",
    "plt.subplot(1,2,2)\n",
    "\n",
    "sns.countplot(x='phys_health_consequence', hue='phys_health_consequence', data=df_pandas, palette='Greens', order=['No', 'Maybe', 'Yes'], ax=axs[1])"
   ]
  },
  {
   "cell_type": "code",
   "execution_count": null,
   "id": "4e27b2c4-32f7-4785-8bf0-1fbde0e27ee3",
   "metadata": {},
   "outputs": [],
   "source": []
  }
 ],
 "metadata": {
  "kernelspec": {
   "display_name": "Python 3 (ipykernel)",
   "language": "python",
   "name": "python3"
  },
  "language_info": {
   "codemirror_mode": {
    "name": "ipython",
    "version": 3
   },
   "file_extension": ".py",
   "mimetype": "text/x-python",
   "name": "python",
   "nbconvert_exporter": "python",
   "pygments_lexer": "ipython3",
   "version": "3.11.5"
  }
 },
 "nbformat": 4,
 "nbformat_minor": 5
}
