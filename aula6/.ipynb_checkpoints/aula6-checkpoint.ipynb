{
 "cells": [
  {
   "cell_type": "code",
   "execution_count": 3,
   "id": "fcf644f8-e7a7-4d76-8706-472f180b33b1",
   "metadata": {},
   "outputs": [],
   "source": [
    "import pandas as pd\n",
    "import plotly.express as px\n",
    "\n",
    "df = pd.DataFrame({'Category': ['a', 'b', 'c', 'd'], 'Values':[23, 46, 56, 78]})\n"
   ]
  },
  {
   "cell_type": "code",
   "execution_count": 5,
   "id": "164b71cb-0f7f-4630-9c75-33ebd7fb491a",
   "metadata": {},
   "outputs": [
    {
     "data": {
      "application/vnd.plotly.v1+json": {
       "config": {
        "plotlyServerURL": "https://plot.ly"
       },
       "data": [
        {
         "alignmentgroup": "True",
         "hovertemplate": "Category=%{x}<br>Values=%{y}<extra></extra>",
         "legendgroup": "",
         "marker": {
          "color": "#636efa",
          "pattern": {
           "shape": ""
          }
         },
         "name": "",
         "offsetgroup": "",
         "orientation": "v",
         "showlegend": false,
         "textposition": "auto",
         "type": "bar",
         "x": [
          "a",
          "b",
          "c",
          "d"
         ],
         "xaxis": "x",
         "y": [
          23,
          46,
          56,
          78
         ],
         "yaxis": "y"
        }
       ],
       "layout": {
        "autosize": true,
        "barmode": "relative",
        "legend": {
         "tracegroupgap": 0
        },
        "margin": {
         "t": 60
        },
        "template": {
         "data": {
          "bar": [
           {
            "error_x": {
             "color": "#2a3f5f"
            },
            "error_y": {
             "color": "#2a3f5f"
            },
            "marker": {
             "line": {
              "color": "#E5ECF6",
              "width": 0.5
             },
             "pattern": {
              "fillmode": "overlay",
              "size": 10,
              "solidity": 0.2
             }
            },
            "type": "bar"
           }
          ],
          "barpolar": [
           {
            "marker": {
             "line": {
              "color": "#E5ECF6",
              "width": 0.5
             },
             "pattern": {
              "fillmode": "overlay",
              "size": 10,
              "solidity": 0.2
             }
            },
            "type": "barpolar"
           }
          ],
          "carpet": [
           {
            "aaxis": {
             "endlinecolor": "#2a3f5f",
             "gridcolor": "white",
             "linecolor": "white",
             "minorgridcolor": "white",
             "startlinecolor": "#2a3f5f"
            },
            "baxis": {
             "endlinecolor": "#2a3f5f",
             "gridcolor": "white",
             "linecolor": "white",
             "minorgridcolor": "white",
             "startlinecolor": "#2a3f5f"
            },
            "type": "carpet"
           }
          ],
          "choropleth": [
           {
            "colorbar": {
             "outlinewidth": 0,
             "ticks": ""
            },
            "type": "choropleth"
           }
          ],
          "contour": [
           {
            "colorbar": {
             "outlinewidth": 0,
             "ticks": ""
            },
            "colorscale": [
             [
              0,
              "#0d0887"
             ],
             [
              0.1111111111111111,
              "#46039f"
             ],
             [
              0.2222222222222222,
              "#7201a8"
             ],
             [
              0.3333333333333333,
              "#9c179e"
             ],
             [
              0.4444444444444444,
              "#bd3786"
             ],
             [
              0.5555555555555556,
              "#d8576b"
             ],
             [
              0.6666666666666666,
              "#ed7953"
             ],
             [
              0.7777777777777778,
              "#fb9f3a"
             ],
             [
              0.8888888888888888,
              "#fdca26"
             ],
             [
              1,
              "#f0f921"
             ]
            ],
            "type": "contour"
           }
          ],
          "contourcarpet": [
           {
            "colorbar": {
             "outlinewidth": 0,
             "ticks": ""
            },
            "type": "contourcarpet"
           }
          ],
          "heatmap": [
           {
            "colorbar": {
             "outlinewidth": 0,
             "ticks": ""
            },
            "colorscale": [
             [
              0,
              "#0d0887"
             ],
             [
              0.1111111111111111,
              "#46039f"
             ],
             [
              0.2222222222222222,
              "#7201a8"
             ],
             [
              0.3333333333333333,
              "#9c179e"
             ],
             [
              0.4444444444444444,
              "#bd3786"
             ],
             [
              0.5555555555555556,
              "#d8576b"
             ],
             [
              0.6666666666666666,
              "#ed7953"
             ],
             [
              0.7777777777777778,
              "#fb9f3a"
             ],
             [
              0.8888888888888888,
              "#fdca26"
             ],
             [
              1,
              "#f0f921"
             ]
            ],
            "type": "heatmap"
           }
          ],
          "heatmapgl": [
           {
            "colorbar": {
             "outlinewidth": 0,
             "ticks": ""
            },
            "colorscale": [
             [
              0,
              "#0d0887"
             ],
             [
              0.1111111111111111,
              "#46039f"
             ],
             [
              0.2222222222222222,
              "#7201a8"
             ],
             [
              0.3333333333333333,
              "#9c179e"
             ],
             [
              0.4444444444444444,
              "#bd3786"
             ],
             [
              0.5555555555555556,
              "#d8576b"
             ],
             [
              0.6666666666666666,
              "#ed7953"
             ],
             [
              0.7777777777777778,
              "#fb9f3a"
             ],
             [
              0.8888888888888888,
              "#fdca26"
             ],
             [
              1,
              "#f0f921"
             ]
            ],
            "type": "heatmapgl"
           }
          ],
          "histogram": [
           {
            "marker": {
             "pattern": {
              "fillmode": "overlay",
              "size": 10,
              "solidity": 0.2
             }
            },
            "type": "histogram"
           }
          ],
          "histogram2d": [
           {
            "colorbar": {
             "outlinewidth": 0,
             "ticks": ""
            },
            "colorscale": [
             [
              0,
              "#0d0887"
             ],
             [
              0.1111111111111111,
              "#46039f"
             ],
             [
              0.2222222222222222,
              "#7201a8"
             ],
             [
              0.3333333333333333,
              "#9c179e"
             ],
             [
              0.4444444444444444,
              "#bd3786"
             ],
             [
              0.5555555555555556,
              "#d8576b"
             ],
             [
              0.6666666666666666,
              "#ed7953"
             ],
             [
              0.7777777777777778,
              "#fb9f3a"
             ],
             [
              0.8888888888888888,
              "#fdca26"
             ],
             [
              1,
              "#f0f921"
             ]
            ],
            "type": "histogram2d"
           }
          ],
          "histogram2dcontour": [
           {
            "colorbar": {
             "outlinewidth": 0,
             "ticks": ""
            },
            "colorscale": [
             [
              0,
              "#0d0887"
             ],
             [
              0.1111111111111111,
              "#46039f"
             ],
             [
              0.2222222222222222,
              "#7201a8"
             ],
             [
              0.3333333333333333,
              "#9c179e"
             ],
             [
              0.4444444444444444,
              "#bd3786"
             ],
             [
              0.5555555555555556,
              "#d8576b"
             ],
             [
              0.6666666666666666,
              "#ed7953"
             ],
             [
              0.7777777777777778,
              "#fb9f3a"
             ],
             [
              0.8888888888888888,
              "#fdca26"
             ],
             [
              1,
              "#f0f921"
             ]
            ],
            "type": "histogram2dcontour"
           }
          ],
          "mesh3d": [
           {
            "colorbar": {
             "outlinewidth": 0,
             "ticks": ""
            },
            "type": "mesh3d"
           }
          ],
          "parcoords": [
           {
            "line": {
             "colorbar": {
              "outlinewidth": 0,
              "ticks": ""
             }
            },
            "type": "parcoords"
           }
          ],
          "pie": [
           {
            "automargin": true,
            "type": "pie"
           }
          ],
          "scatter": [
           {
            "fillpattern": {
             "fillmode": "overlay",
             "size": 10,
             "solidity": 0.2
            },
            "type": "scatter"
           }
          ],
          "scatter3d": [
           {
            "line": {
             "colorbar": {
              "outlinewidth": 0,
              "ticks": ""
             }
            },
            "marker": {
             "colorbar": {
              "outlinewidth": 0,
              "ticks": ""
             }
            },
            "type": "scatter3d"
           }
          ],
          "scattercarpet": [
           {
            "marker": {
             "colorbar": {
              "outlinewidth": 0,
              "ticks": ""
             }
            },
            "type": "scattercarpet"
           }
          ],
          "scattergeo": [
           {
            "marker": {
             "colorbar": {
              "outlinewidth": 0,
              "ticks": ""
             }
            },
            "type": "scattergeo"
           }
          ],
          "scattergl": [
           {
            "marker": {
             "colorbar": {
              "outlinewidth": 0,
              "ticks": ""
             }
            },
            "type": "scattergl"
           }
          ],
          "scattermapbox": [
           {
            "marker": {
             "colorbar": {
              "outlinewidth": 0,
              "ticks": ""
             }
            },
            "type": "scattermapbox"
           }
          ],
          "scatterpolar": [
           {
            "marker": {
             "colorbar": {
              "outlinewidth": 0,
              "ticks": ""
             }
            },
            "type": "scatterpolar"
           }
          ],
          "scatterpolargl": [
           {
            "marker": {
             "colorbar": {
              "outlinewidth": 0,
              "ticks": ""
             }
            },
            "type": "scatterpolargl"
           }
          ],
          "scatterternary": [
           {
            "marker": {
             "colorbar": {
              "outlinewidth": 0,
              "ticks": ""
             }
            },
            "type": "scatterternary"
           }
          ],
          "surface": [
           {
            "colorbar": {
             "outlinewidth": 0,
             "ticks": ""
            },
            "colorscale": [
             [
              0,
              "#0d0887"
             ],
             [
              0.1111111111111111,
              "#46039f"
             ],
             [
              0.2222222222222222,
              "#7201a8"
             ],
             [
              0.3333333333333333,
              "#9c179e"
             ],
             [
              0.4444444444444444,
              "#bd3786"
             ],
             [
              0.5555555555555556,
              "#d8576b"
             ],
             [
              0.6666666666666666,
              "#ed7953"
             ],
             [
              0.7777777777777778,
              "#fb9f3a"
             ],
             [
              0.8888888888888888,
              "#fdca26"
             ],
             [
              1,
              "#f0f921"
             ]
            ],
            "type": "surface"
           }
          ],
          "table": [
           {
            "cells": {
             "fill": {
              "color": "#EBF0F8"
             },
             "line": {
              "color": "white"
             }
            },
            "header": {
             "fill": {
              "color": "#C8D4E3"
             },
             "line": {
              "color": "white"
             }
            },
            "type": "table"
           }
          ]
         },
         "layout": {
          "annotationdefaults": {
           "arrowcolor": "#2a3f5f",
           "arrowhead": 0,
           "arrowwidth": 1
          },
          "autotypenumbers": "strict",
          "coloraxis": {
           "colorbar": {
            "outlinewidth": 0,
            "ticks": ""
           }
          },
          "colorscale": {
           "diverging": [
            [
             0,
             "#8e0152"
            ],
            [
             0.1,
             "#c51b7d"
            ],
            [
             0.2,
             "#de77ae"
            ],
            [
             0.3,
             "#f1b6da"
            ],
            [
             0.4,
             "#fde0ef"
            ],
            [
             0.5,
             "#f7f7f7"
            ],
            [
             0.6,
             "#e6f5d0"
            ],
            [
             0.7,
             "#b8e186"
            ],
            [
             0.8,
             "#7fbc41"
            ],
            [
             0.9,
             "#4d9221"
            ],
            [
             1,
             "#276419"
            ]
           ],
           "sequential": [
            [
             0,
             "#0d0887"
            ],
            [
             0.1111111111111111,
             "#46039f"
            ],
            [
             0.2222222222222222,
             "#7201a8"
            ],
            [
             0.3333333333333333,
             "#9c179e"
            ],
            [
             0.4444444444444444,
             "#bd3786"
            ],
            [
             0.5555555555555556,
             "#d8576b"
            ],
            [
             0.6666666666666666,
             "#ed7953"
            ],
            [
             0.7777777777777778,
             "#fb9f3a"
            ],
            [
             0.8888888888888888,
             "#fdca26"
            ],
            [
             1,
             "#f0f921"
            ]
           ],
           "sequentialminus": [
            [
             0,
             "#0d0887"
            ],
            [
             0.1111111111111111,
             "#46039f"
            ],
            [
             0.2222222222222222,
             "#7201a8"
            ],
            [
             0.3333333333333333,
             "#9c179e"
            ],
            [
             0.4444444444444444,
             "#bd3786"
            ],
            [
             0.5555555555555556,
             "#d8576b"
            ],
            [
             0.6666666666666666,
             "#ed7953"
            ],
            [
             0.7777777777777778,
             "#fb9f3a"
            ],
            [
             0.8888888888888888,
             "#fdca26"
            ],
            [
             1,
             "#f0f921"
            ]
           ]
          },
          "colorway": [
           "#636efa",
           "#EF553B",
           "#00cc96",
           "#ab63fa",
           "#FFA15A",
           "#19d3f3",
           "#FF6692",
           "#B6E880",
           "#FF97FF",
           "#FECB52"
          ],
          "font": {
           "color": "#2a3f5f"
          },
          "geo": {
           "bgcolor": "white",
           "lakecolor": "white",
           "landcolor": "#E5ECF6",
           "showlakes": true,
           "showland": true,
           "subunitcolor": "white"
          },
          "hoverlabel": {
           "align": "left"
          },
          "hovermode": "closest",
          "mapbox": {
           "style": "light"
          },
          "paper_bgcolor": "white",
          "plot_bgcolor": "#E5ECF6",
          "polar": {
           "angularaxis": {
            "gridcolor": "white",
            "linecolor": "white",
            "ticks": ""
           },
           "bgcolor": "#E5ECF6",
           "radialaxis": {
            "gridcolor": "white",
            "linecolor": "white",
            "ticks": ""
           }
          },
          "scene": {
           "xaxis": {
            "backgroundcolor": "#E5ECF6",
            "gridcolor": "white",
            "gridwidth": 2,
            "linecolor": "white",
            "showbackground": true,
            "ticks": "",
            "zerolinecolor": "white"
           },
           "yaxis": {
            "backgroundcolor": "#E5ECF6",
            "gridcolor": "white",
            "gridwidth": 2,
            "linecolor": "white",
            "showbackground": true,
            "ticks": "",
            "zerolinecolor": "white"
           },
           "zaxis": {
            "backgroundcolor": "#E5ECF6",
            "gridcolor": "white",
            "gridwidth": 2,
            "linecolor": "white",
            "showbackground": true,
            "ticks": "",
            "zerolinecolor": "white"
           }
          },
          "shapedefaults": {
           "line": {
            "color": "#2a3f5f"
           }
          },
          "ternary": {
           "aaxis": {
            "gridcolor": "white",
            "linecolor": "white",
            "ticks": ""
           },
           "baxis": {
            "gridcolor": "white",
            "linecolor": "white",
            "ticks": ""
           },
           "bgcolor": "#E5ECF6",
           "caxis": {
            "gridcolor": "white",
            "linecolor": "white",
            "ticks": ""
           }
          },
          "title": {
           "x": 0.05
          },
          "xaxis": {
           "automargin": true,
           "gridcolor": "white",
           "linecolor": "white",
           "ticks": "",
           "title": {
            "standoff": 15
           },
           "zerolinecolor": "white",
           "zerolinewidth": 2
          },
          "yaxis": {
           "automargin": true,
           "gridcolor": "white",
           "linecolor": "white",
           "ticks": "",
           "title": {
            "standoff": 15
           },
           "zerolinecolor": "white",
           "zerolinewidth": 2
          }
         }
        },
        "xaxis": {
         "anchor": "y",
         "autorange": true,
         "domain": [
          0,
          1
         ],
         "range": [
          -0.5,
          3.5
         ],
         "title": {
          "text": "Category"
         },
         "type": "category"
        },
        "yaxis": {
         "anchor": "x",
         "autorange": true,
         "domain": [
          0,
          1
         ],
         "range": [
          0,
          82.10526315789474
         ],
         "title": {
          "text": "Values"
         },
         "type": "linear"
        }
       }
      },
      "image/png": "[encoded data removed]",
      "text/html": [
       "<div>                            <div id=\"db518ae1-a085-4172-810f-9c01ad90936b\" class=\"plotly-graph-div\" style=\"height:525px; width:100%;\"></div>            <script type=\"text/javascript\">                require([\"plotly\"], function(Plotly) {                    window.PLOTLYENV=window.PLOTLYENV || {};                                    if (document.getElementById(\"db518ae1-a085-4172-810f-9c01ad90936b\")) {                    Plotly.newPlot(                        \"db518ae1-a085-4172-810f-9c01ad90936b\",                        [{\"alignmentgroup\":\"True\",\"hovertemplate\":\"Category=%{x}\\u003cbr\\u003eValues=%{y}\\u003cextra\\u003e\\u003c\\u002fextra\\u003e\",\"legendgroup\":\"\",\"marker\":{\"color\":\"#636efa\",\"pattern\":{\"shape\":\"\"}},\"name\":\"\",\"offsetgroup\":\"\",\"orientation\":\"v\",\"showlegend\":false,\"textposition\":\"auto\",\"x\":[\"a\",\"b\",\"c\",\"d\"],\"xaxis\":\"x\",\"y\":[23,46,56,78],\"yaxis\":\"y\",\"type\":\"bar\"}],                        {\"template\":{\"data\":{\"histogram2dcontour\":[{\"type\":\"histogram2dcontour\",\"colorbar\":{\"outlinewidth\":0,\"ticks\":\"\"},\"colorscale\":[[0.0,\"#0d0887\"],[0.1111111111111111,\"#46039f\"],[0.2222222222222222,\"#7201a8\"],[0.3333333333333333,\"#9c179e\"],[0.4444444444444444,\"#bd3786\"],[0.5555555555555556,\"#d8576b\"],[0.6666666666666666,\"#ed7953\"],[0.7777777777777778,\"#fb9f3a\"],[0.8888888888888888,\"#fdca26\"],[1.0,\"#f0f921\"]]}],\"choropleth\":[{\"type\":\"choropleth\",\"colorbar\":{\"outlinewidth\":0,\"ticks\":\"\"}}],\"histogram2d\":[{\"type\":\"histogram2d\",\"colorbar\":{\"outlinewidth\":0,\"ticks\":\"\"},\"colorscale\":[[0.0,\"#0d0887\"],[0.1111111111111111,\"#46039f\"],[0.2222222222222222,\"#7201a8\"],[0.3333333333333333,\"#9c179e\"],[0.4444444444444444,\"#bd3786\"],[0.5555555555555556,\"#d8576b\"],[0.6666666666666666,\"#ed7953\"],[0.7777777777777778,\"#fb9f3a\"],[0.8888888888888888,\"#fdca26\"],[1.0,\"#f0f921\"]]}],\"heatmap\":[{\"type\":\"heatmap\",\"colorbar\":{\"outlinewidth\":0,\"ticks\":\"\"},\"colorscale\":[[0.0,\"#0d0887\"],[0.1111111111111111,\"#46039f\"],[0.2222222222222222,\"#7201a8\"],[0.3333333333333333,\"#9c179e\"],[0.4444444444444444,\"#bd3786\"],[0.5555555555555556,\"#d8576b\"],[0.6666666666666666,\"#ed7953\"],[0.7777777777777778,\"#fb9f3a\"],[0.8888888888888888,\"#fdca26\"],[1.0,\"#f0f921\"]]}],\"heatmapgl\":[{\"type\":\"heatmapgl\",\"colorbar\":{\"outlinewidth\":0,\"ticks\":\"\"},\"colorscale\":[[0.0,\"#0d0887\"],[0.1111111111111111,\"#46039f\"],[0.2222222222222222,\"#7201a8\"],[0.3333333333333333,\"#9c179e\"],[0.4444444444444444,\"#bd3786\"],[0.5555555555555556,\"#d8576b\"],[0.6666666666666666,\"#ed7953\"],[0.7777777777777778,\"#fb9f3a\"],[0.8888888888888888,\"#fdca26\"],[1.0,\"#f0f921\"]]}],\"contourcarpet\":[{\"type\":\"contourcarpet\",\"colorbar\":{\"outlinewidth\":0,\"ticks\":\"\"}}],\"contour\":[{\"type\":\"contour\",\"colorbar\":{\"outlinewidth\":0,\"ticks\":\"\"},\"colorscale\":[[0.0,\"#0d0887\"],[0.1111111111111111,\"#46039f\"],[0.2222222222222222,\"#7201a8\"],[0.3333333333333333,\"#9c179e\"],[0.4444444444444444,\"#bd3786\"],[0.5555555555555556,\"#d8576b\"],[0.6666666666666666,\"#ed7953\"],[0.7777777777777778,\"#fb9f3a\"],[0.8888888888888888,\"#fdca26\"],[1.0,\"#f0f921\"]]}],\"surface\":[{\"type\":\"surface\",\"colorbar\":{\"outlinewidth\":0,\"ticks\":\"\"},\"colorscale\":[[0.0,\"#0d0887\"],[0.1111111111111111,\"#46039f\"],[0.2222222222222222,\"#7201a8\"],[0.3333333333333333,\"#9c179e\"],[0.4444444444444444,\"#bd3786\"],[0.5555555555555556,\"#d8576b\"],[0.6666666666666666,\"#ed7953\"],[0.7777777777777778,\"#fb9f3a\"],[0.8888888888888888,\"#fdca26\"],[1.0,\"#f0f921\"]]}],\"mesh3d\":[{\"type\":\"mesh3d\",\"colorbar\":{\"outlinewidth\":0,\"ticks\":\"\"}}],\"scatter\":[{\"fillpattern\":{\"fillmode\":\"overlay\",\"size\":10,\"solidity\":0.2},\"type\":\"scatter\"}],\"parcoords\":[{\"type\":\"parcoords\",\"line\":{\"colorbar\":{\"outlinewidth\":0,\"ticks\":\"\"}}}],\"scatterpolargl\":[{\"type\":\"scatterpolargl\",\"marker\":{\"colorbar\":{\"outlinewidth\":0,\"ticks\":\"\"}}}],\"bar\":[{\"error_x\":{\"color\":\"#2a3f5f\"},\"error_y\":{\"color\":\"#2a3f5f\"},\"marker\":{\"line\":{\"color\":\"#E5ECF6\",\"width\":0.5},\"pattern\":{\"fillmode\":\"overlay\",\"size\":10,\"solidity\":0.2}},\"type\":\"bar\"}],\"scattergeo\":[{\"type\":\"scattergeo\",\"marker\":{\"colorbar\":{\"outlinewidth\":0,\"ticks\":\"\"}}}],\"scatterpolar\":[{\"type\":\"scatterpolar\",\"marker\":{\"colorbar\":{\"outlinewidth\":0,\"ticks\":\"\"}}}],\"histogram\":[{\"marker\":{\"pattern\":{\"fillmode\":\"overlay\",\"size\":10,\"solidity\":0.2}},\"type\":\"histogram\"}],\"scattergl\":[{\"type\":\"scattergl\",\"marker\":{\"colorbar\":{\"outlinewidth\":0,\"ticks\":\"\"}}}],\"scatter3d\":[{\"type\":\"scatter3d\",\"line\":{\"colorbar\":{\"outlinewidth\":0,\"ticks\":\"\"}},\"marker\":{\"colorbar\":{\"outlinewidth\":0,\"ticks\":\"\"}}}],\"scattermapbox\":[{\"type\":\"scattermapbox\",\"marker\":{\"colorbar\":{\"outlinewidth\":0,\"ticks\":\"\"}}}],\"scatterternary\":[{\"type\":\"scatterternary\",\"marker\":{\"colorbar\":{\"outlinewidth\":0,\"ticks\":\"\"}}}],\"scattercarpet\":[{\"type\":\"scattercarpet\",\"marker\":{\"colorbar\":{\"outlinewidth\":0,\"ticks\":\"\"}}}],\"carpet\":[{\"aaxis\":{\"endlinecolor\":\"#2a3f5f\",\"gridcolor\":\"white\",\"linecolor\":\"white\",\"minorgridcolor\":\"white\",\"startlinecolor\":\"#2a3f5f\"},\"baxis\":{\"endlinecolor\":\"#2a3f5f\",\"gridcolor\":\"white\",\"linecolor\":\"white\",\"minorgridcolor\":\"white\",\"startlinecolor\":\"#2a3f5f\"},\"type\":\"carpet\"}],\"table\":[{\"cells\":{\"fill\":{\"color\":\"#EBF0F8\"},\"line\":{\"color\":\"white\"}},\"header\":{\"fill\":{\"color\":\"#C8D4E3\"},\"line\":{\"color\":\"white\"}},\"type\":\"table\"}],\"barpolar\":[{\"marker\":{\"line\":{\"color\":\"#E5ECF6\",\"width\":0.5},\"pattern\":{\"fillmode\":\"overlay\",\"size\":10,\"solidity\":0.2}},\"type\":\"barpolar\"}],\"pie\":[{\"automargin\":true,\"type\":\"pie\"}]},\"layout\":{\"autotypenumbers\":\"strict\",\"colorway\":[\"#636efa\",\"#EF553B\",\"#00cc96\",\"#ab63fa\",\"#FFA15A\",\"#19d3f3\",\"#FF6692\",\"#B6E880\",\"#FF97FF\",\"#FECB52\"],\"font\":{\"color\":\"#2a3f5f\"},\"hovermode\":\"closest\",\"hoverlabel\":{\"align\":\"left\"},\"paper_bgcolor\":\"white\",\"plot_bgcolor\":\"#E5ECF6\",\"polar\":{\"bgcolor\":\"#E5ECF6\",\"angularaxis\":{\"gridcolor\":\"white\",\"linecolor\":\"white\",\"ticks\":\"\"},\"radialaxis\":{\"gridcolor\":\"white\",\"linecolor\":\"white\",\"ticks\":\"\"}},\"ternary\":{\"bgcolor\":\"#E5ECF6\",\"aaxis\":{\"gridcolor\":\"white\",\"linecolor\":\"white\",\"ticks\":\"\"},\"baxis\":{\"gridcolor\":\"white\",\"linecolor\":\"white\",\"ticks\":\"\"},\"caxis\":{\"gridcolor\":\"white\",\"linecolor\":\"white\",\"ticks\":\"\"}},\"coloraxis\":{\"colorbar\":{\"outlinewidth\":0,\"ticks\":\"\"}},\"colorscale\":{\"sequential\":[[0.0,\"#0d0887\"],[0.1111111111111111,\"#46039f\"],[0.2222222222222222,\"#7201a8\"],[0.3333333333333333,\"#9c179e\"],[0.4444444444444444,\"#bd3786\"],[0.5555555555555556,\"#d8576b\"],[0.6666666666666666,\"#ed7953\"],[0.7777777777777778,\"#fb9f3a\"],[0.8888888888888888,\"#fdca26\"],[1.0,\"#f0f921\"]],\"sequentialminus\":[[0.0,\"#0d0887\"],[0.1111111111111111,\"#46039f\"],[0.2222222222222222,\"#7201a8\"],[0.3333333333333333,\"#9c179e\"],[0.4444444444444444,\"#bd3786\"],[0.5555555555555556,\"#d8576b\"],[0.6666666666666666,\"#ed7953\"],[0.7777777777777778,\"#fb9f3a\"],[0.8888888888888888,\"#fdca26\"],[1.0,\"#f0f921\"]],\"diverging\":[[0,\"#8e0152\"],[0.1,\"#c51b7d\"],[0.2,\"#de77ae\"],[0.3,\"#f1b6da\"],[0.4,\"#fde0ef\"],[0.5,\"#f7f7f7\"],[0.6,\"#e6f5d0\"],[0.7,\"#b8e186\"],[0.8,\"#7fbc41\"],[0.9,\"#4d9221\"],[1,\"#276419\"]]},\"xaxis\":{\"gridcolor\":\"white\",\"linecolor\":\"white\",\"ticks\":\"\",\"title\":{\"standoff\":15},\"zerolinecolor\":\"white\",\"automargin\":true,\"zerolinewidth\":2},\"yaxis\":{\"gridcolor\":\"white\",\"linecolor\":\"white\",\"ticks\":\"\",\"title\":{\"standoff\":15},\"zerolinecolor\":\"white\",\"automargin\":true,\"zerolinewidth\":2},\"scene\":{\"xaxis\":{\"backgroundcolor\":\"#E5ECF6\",\"gridcolor\":\"white\",\"linecolor\":\"white\",\"showbackground\":true,\"ticks\":\"\",\"zerolinecolor\":\"white\",\"gridwidth\":2},\"yaxis\":{\"backgroundcolor\":\"#E5ECF6\",\"gridcolor\":\"white\",\"linecolor\":\"white\",\"showbackground\":true,\"ticks\":\"\",\"zerolinecolor\":\"white\",\"gridwidth\":2},\"zaxis\":{\"backgroundcolor\":\"#E5ECF6\",\"gridcolor\":\"white\",\"linecolor\":\"white\",\"showbackground\":true,\"ticks\":\"\",\"zerolinecolor\":\"white\",\"gridwidth\":2}},\"shapedefaults\":{\"line\":{\"color\":\"#2a3f5f\"}},\"annotationdefaults\":{\"arrowcolor\":\"#2a3f5f\",\"arrowhead\":0,\"arrowwidth\":1},\"geo\":{\"bgcolor\":\"white\",\"landcolor\":\"#E5ECF6\",\"subunitcolor\":\"white\",\"showland\":true,\"showlakes\":true,\"lakecolor\":\"white\"},\"title\":{\"x\":0.05},\"mapbox\":{\"style\":\"light\"}}},\"xaxis\":{\"anchor\":\"y\",\"domain\":[0.0,1.0],\"title\":{\"text\":\"Category\"}},\"yaxis\":{\"anchor\":\"x\",\"domain\":[0.0,1.0],\"title\":{\"text\":\"Values\"}},\"legend\":{\"tracegroupgap\":0},\"margin\":{\"t\":60},\"barmode\":\"relative\"},                        {\"responsive\": true}                    ).then(function(){\n",
       "                            \n",
       "var gd = document.getElementById('db518ae1-a085-4172-810f-9c01ad90936b');\n",
       "var x = new MutationObserver(function (mutations, observer) {{\n",
       "        var display = window.getComputedStyle(gd).display;\n",
       "        if (!display || display === 'none') {{\n",
       "            console.log([gd, 'removed!']);\n",
       "            Plotly.purge(gd);\n",
       "            observer.disconnect();\n",
       "        }}\n",
       "}});\n",
       "\n",
       "// Listen for the removal of the full notebook cells\n",
       "var notebookContainer = gd.closest('#notebook-container');\n",
       "if (notebookContainer) {{\n",
       "    x.observe(notebookContainer, {childList: true});\n",
       "}}\n",
       "\n",
       "// Listen for the clearing of the current output cell\n",
       "var outputEl = gd.closest('.output');\n",
       "if (outputEl) {{\n",
       "    x.observe(outputEl, {childList: true});\n",
       "}}\n",
       "\n",
       "                        })                };                });            </script>        </div>"
      ]
     },
     "metadata": {},
     "output_type": "display_data"
    }
   ],
   "source": [
    "fig = px.bar(df, x='Category', y='Values')\n",
    "fig.show()"
   ]
  },
  {
   "cell_type": "code",
   "execution_count": null,
   "id": "75c25c38-79ad-43f2-bff6-415129bb7be9",
   "metadata": {},
   "outputs": [],
   "source": []
  },
  {
   "cell_type": "code",
   "execution_count": 6,
   "id": "e8661367-174e-45d9-8a3a-049afb7ef544",
   "metadata": {},
   "outputs": [
    {
     "name": "stdout",
     "output_type": "stream",
     "text": [
      "Untitled.ipynb  app1.py\n"
     ]
    }
   ],
   "source": [
    "ls"
   ]
  },
  {
   "cell_type": "code",
   "execution_count": 7,
   "id": "de603d21-37ed-499c-a461-d5f9b65725a5",
   "metadata": {},
   "outputs": [
    {
     "data": {
      "text/html": [
       "<div>\n",
       "<style scoped>\n",
       "    .dataframe tbody tr th:only-of-type {\n",
       "        vertical-align: middle;\n",
       "    }\n",
       "\n",
       "    .dataframe tbody tr th {\n",
       "        vertical-align: top;\n",
       "    }\n",
       "\n",
       "    .dataframe thead th {\n",
       "        text-align: right;\n",
       "    }\n",
       "</style>\n",
       "<table border=\"1\" class=\"dataframe\">\n",
       "  <thead>\n",
       "    <tr style=\"text-align: right;\">\n",
       "      <th></th>\n",
       "      <th>artist</th>\n",
       "      <th>song</th>\n",
       "      <th>duration_ms</th>\n",
       "      <th>explicit</th>\n",
       "      <th>year</th>\n",
       "      <th>popularity</th>\n",
       "      <th>danceability</th>\n",
       "      <th>energy</th>\n",
       "      <th>key</th>\n",
       "      <th>loudness</th>\n",
       "      <th>mode</th>\n",
       "      <th>speechiness</th>\n",
       "      <th>acousticness</th>\n",
       "      <th>instrumentalness</th>\n",
       "      <th>liveness</th>\n",
       "      <th>valence</th>\n",
       "      <th>tempo</th>\n",
       "      <th>genre</th>\n",
       "    </tr>\n",
       "  </thead>\n",
       "  <tbody>\n",
       "    <tr>\n",
       "      <th>0</th>\n",
       "      <td>Britney Spears</td>\n",
       "      <td>Oops!...I Did It Again</td>\n",
       "      <td>211160</td>\n",
       "      <td>False</td>\n",
       "      <td>2000</td>\n",
       "      <td>77</td>\n",
       "      <td>0.751</td>\n",
       "      <td>0.834</td>\n",
       "      <td>1</td>\n",
       "      <td>-5.444</td>\n",
       "      <td>0</td>\n",
       "      <td>0.0437</td>\n",
       "      <td>0.3000</td>\n",
       "      <td>0.000018</td>\n",
       "      <td>0.3550</td>\n",
       "      <td>0.894</td>\n",
       "      <td>95.053</td>\n",
       "      <td>pop</td>\n",
       "    </tr>\n",
       "    <tr>\n",
       "      <th>1</th>\n",
       "      <td>blink-182</td>\n",
       "      <td>All The Small Things</td>\n",
       "      <td>167066</td>\n",
       "      <td>False</td>\n",
       "      <td>1999</td>\n",
       "      <td>79</td>\n",
       "      <td>0.434</td>\n",
       "      <td>0.897</td>\n",
       "      <td>0</td>\n",
       "      <td>-4.918</td>\n",
       "      <td>1</td>\n",
       "      <td>0.0488</td>\n",
       "      <td>0.0103</td>\n",
       "      <td>0.000000</td>\n",
       "      <td>0.6120</td>\n",
       "      <td>0.684</td>\n",
       "      <td>148.726</td>\n",
       "      <td>rock, pop</td>\n",
       "    </tr>\n",
       "    <tr>\n",
       "      <th>2</th>\n",
       "      <td>Faith Hill</td>\n",
       "      <td>Breathe</td>\n",
       "      <td>250546</td>\n",
       "      <td>False</td>\n",
       "      <td>1999</td>\n",
       "      <td>66</td>\n",
       "      <td>0.529</td>\n",
       "      <td>0.496</td>\n",
       "      <td>7</td>\n",
       "      <td>-9.007</td>\n",
       "      <td>1</td>\n",
       "      <td>0.0290</td>\n",
       "      <td>0.1730</td>\n",
       "      <td>0.000000</td>\n",
       "      <td>0.2510</td>\n",
       "      <td>0.278</td>\n",
       "      <td>136.859</td>\n",
       "      <td>pop, country</td>\n",
       "    </tr>\n",
       "    <tr>\n",
       "      <th>3</th>\n",
       "      <td>Bon Jovi</td>\n",
       "      <td>It's My Life</td>\n",
       "      <td>224493</td>\n",
       "      <td>False</td>\n",
       "      <td>2000</td>\n",
       "      <td>78</td>\n",
       "      <td>0.551</td>\n",
       "      <td>0.913</td>\n",
       "      <td>0</td>\n",
       "      <td>-4.063</td>\n",
       "      <td>0</td>\n",
       "      <td>0.0466</td>\n",
       "      <td>0.0263</td>\n",
       "      <td>0.000013</td>\n",
       "      <td>0.3470</td>\n",
       "      <td>0.544</td>\n",
       "      <td>119.992</td>\n",
       "      <td>rock, metal</td>\n",
       "    </tr>\n",
       "    <tr>\n",
       "      <th>4</th>\n",
       "      <td>*NSYNC</td>\n",
       "      <td>Bye Bye Bye</td>\n",
       "      <td>200560</td>\n",
       "      <td>False</td>\n",
       "      <td>2000</td>\n",
       "      <td>65</td>\n",
       "      <td>0.614</td>\n",
       "      <td>0.928</td>\n",
       "      <td>8</td>\n",
       "      <td>-4.806</td>\n",
       "      <td>0</td>\n",
       "      <td>0.0516</td>\n",
       "      <td>0.0408</td>\n",
       "      <td>0.001040</td>\n",
       "      <td>0.0845</td>\n",
       "      <td>0.879</td>\n",
       "      <td>172.656</td>\n",
       "      <td>pop</td>\n",
       "    </tr>\n",
       "  </tbody>\n",
       "</table>\n",
       "</div>"
      ],
      "text/plain": [
       "           artist                    song  duration_ms  explicit  year  \\\n",
       "0  Britney Spears  Oops!...I Did It Again       211160     False  2000   \n",
       "1       blink-182    All The Small Things       167066     False  1999   \n",
       "2      Faith Hill                 Breathe       250546     False  1999   \n",
       "3        Bon Jovi            It's My Life       224493     False  2000   \n",
       "4          *NSYNC             Bye Bye Bye       200560     False  2000   \n",
       "\n",
       "   popularity  danceability  energy  key  loudness  mode  speechiness  \\\n",
       "0          77         0.751   0.834    1    -5.444     0       0.0437   \n",
       "1          79         0.434   0.897    0    -4.918     1       0.0488   \n",
       "2          66         0.529   0.496    7    -9.007     1       0.0290   \n",
       "3          78         0.551   0.913    0    -4.063     0       0.0466   \n",
       "4          65         0.614   0.928    8    -4.806     0       0.0516   \n",
       "\n",
       "   acousticness  instrumentalness  liveness  valence    tempo         genre  \n",
       "0        0.3000          0.000018    0.3550    0.894   95.053           pop  \n",
       "1        0.0103          0.000000    0.6120    0.684  148.726     rock, pop  \n",
       "2        0.1730          0.000000    0.2510    0.278  136.859  pop, country  \n",
       "3        0.0263          0.000013    0.3470    0.544  119.992   rock, metal  \n",
       "4        0.0408          0.001040    0.0845    0.879  172.656           pop  "
      ]
     },
     "execution_count": 7,
     "metadata": {},
     "output_type": "execute_result"
    }
   ],
   "source": [
    "df = pd.read_csv('songs_normalize.csv')\n",
    "df.head()"
   ]
  },
  {
   "cell_type": "code",
   "execution_count": 14,
   "id": "f0ad0595-8796-4418-88e1-e380f9d10183",
   "metadata": {},
   "outputs": [
    {
     "data": {
      "image/png": "[encoded data removed]",
      "text/plain": [
       "<Figure size 640x480 with 1 Axes>"
      ]
     },
     "metadata": {},
     "output_type": "display_data"
    }
   ],
   "source": [
    "# Como a popularidade média das músicas mudou de 2000 a 2019?\n",
    "\n",
    "pop_media = df.groupby('year')['popularity'].mean().reset_index()\n",
    "\n",
    "import seaborn as sns\n",
    "import matplotlib.pyplot as plt\n",
    "sns.lineplot(pop_media, x='year', y='popularity', marker='o')\n",
    "plt.grid()"
   ]
  },
  {
   "cell_type": "code",
   "execution_count": 15,
   "id": "d7d2765e-1f9a-4fad-b07d-957150dfd93e",
   "metadata": {},
   "outputs": [
    {
     "data": {
      "application/vnd.plotly.v1+json": {
       "config": {
        "plotlyServerURL": "https://plot.ly"
       },
       "data": [
        {
         "hovertemplate": "year=%{x}<br>popularity=%{y}<extra></extra>",
         "legendgroup": "",
         "line": {
          "color": "#636efa",
          "dash": "solid"
         },
         "marker": {
          "symbol": "circle"
         },
         "mode": "lines+markers",
         "name": "",
         "orientation": "v",
         "showlegend": false,
         "type": "scatter",
         "x": [
          1998,
          1999,
          2000,
          2001,
          2002,
          2003,
          2004,
          2005,
          2006,
          2007,
          2008,
          2009,
          2010,
          2011,
          2012,
          2013,
          2014,
          2015,
          2016,
          2017,
          2018,
          2019,
          2020
         ],
         "xaxis": "x",
         "y": [
          49,
          64.92105263157895,
          58.554054054054056,
          59.407407407407405,
          62.4,
          58.79381443298969,
          58.427083333333336,
          61.75961538461539,
          57.38947368421053,
          59.92553191489362,
          63.72164948453608,
          61.535714285714285,
          60.74766355140187,
          58.56565656565657,
          60.55652173913043,
          54.78651685393258,
          59.38461538461539,
          57.74747474747475,
          54.17171717171717,
          53.88288288288288,
          70.85046728971963,
          63.01123595505618,
          43.333333333333336
         ],
         "yaxis": "y"
        }
       ],
       "layout": {
        "autosize": true,
        "legend": {
         "tracegroupgap": 0
        },
        "margin": {
         "t": 60
        },
        "template": {
         "data": {
          "bar": [
           {
            "error_x": {
             "color": "#2a3f5f"
            },
            "error_y": {
             "color": "#2a3f5f"
            },
            "marker": {
             "line": {
              "color": "#E5ECF6",
              "width": 0.5
             },
             "pattern": {
              "fillmode": "overlay",
              "size": 10,
              "solidity": 0.2
             }
            },
            "type": "bar"
           }
          ],
          "barpolar": [
           {
            "marker": {
             "line": {
              "color": "#E5ECF6",
              "width": 0.5
             },
             "pattern": {
              "fillmode": "overlay",
              "size": 10,
              "solidity": 0.2
             }
            },
            "type": "barpolar"
           }
          ],
          "carpet": [
           {
            "aaxis": {
             "endlinecolor": "#2a3f5f",
             "gridcolor": "white",
             "linecolor": "white",
             "minorgridcolor": "white",
             "startlinecolor": "#2a3f5f"
            },
            "baxis": {
             "endlinecolor": "#2a3f5f",
             "gridcolor": "white",
             "linecolor": "white",
             "minorgridcolor": "white",
             "startlinecolor": "#2a3f5f"
            },
            "type": "carpet"
           }
          ],
          "choropleth": [
           {
            "colorbar": {
             "outlinewidth": 0,
             "ticks": ""
            },
            "type": "choropleth"
           }
          ],
          "contour": [
           {
            "colorbar": {
             "outlinewidth": 0,
             "ticks": ""
            },
            "colorscale": [
             [
              0,
              "#0d0887"
             ],
             [
              0.1111111111111111,
              "#46039f"
             ],
             [
              0.2222222222222222,
              "#7201a8"
             ],
             [
              0.3333333333333333,
              "#9c179e"
             ],
             [
              0.4444444444444444,
              "#bd3786"
             ],
             [
              0.5555555555555556,
              "#d8576b"
             ],
             [
              0.6666666666666666,
              "#ed7953"
             ],
             [
              0.7777777777777778,
              "#fb9f3a"
             ],
             [
              0.8888888888888888,
              "#fdca26"
             ],
             [
              1,
              "#f0f921"
             ]
            ],
            "type": "contour"
           }
          ],
          "contourcarpet": [
           {
            "colorbar": {
             "outlinewidth": 0,
             "ticks": ""
            },
            "type": "contourcarpet"
           }
          ],
          "heatmap": [
           {
            "colorbar": {
             "outlinewidth": 0,
             "ticks": ""
            },
            "colorscale": [
             [
              0,
              "#0d0887"
             ],
             [
              0.1111111111111111,
              "#46039f"
             ],
             [
              0.2222222222222222,
              "#7201a8"
             ],
             [
              0.3333333333333333,
              "#9c179e"
             ],
             [
              0.4444444444444444,
              "#bd3786"
             ],
             [
              0.5555555555555556,
              "#d8576b"
             ],
             [
              0.6666666666666666,
              "#ed7953"
             ],
             [
              0.7777777777777778,
              "#fb9f3a"
             ],
             [
              0.8888888888888888,
              "#fdca26"
             ],
             [
              1,
              "#f0f921"
             ]
            ],
            "type": "heatmap"
           }
          ],
          "heatmapgl": [
           {
            "colorbar": {
             "outlinewidth": 0,
             "ticks": ""
            },
            "colorscale": [
             [
              0,
              "#0d0887"
             ],
             [
              0.1111111111111111,
              "#46039f"
             ],
             [
              0.2222222222222222,
              "#7201a8"
             ],
             [
              0.3333333333333333,
              "#9c179e"
             ],
             [
              0.4444444444444444,
              "#bd3786"
             ],
             [
              0.5555555555555556,
              "#d8576b"
             ],
             [
              0.6666666666666666,
              "#ed7953"
             ],
             [
              0.7777777777777778,
              "#fb9f3a"
             ],
             [
              0.8888888888888888,
              "#fdca26"
             ],
             [
              1,
              "#f0f921"
             ]
            ],
            "type": "heatmapgl"
           }
          ],
          "histogram": [
           {
            "marker": {
             "pattern": {
              "fillmode": "overlay",
              "size": 10,
              "solidity": 0.2
             }
            },
            "type": "histogram"
           }
          ],
          "histogram2d": [
           {
            "colorbar": {
             "outlinewidth": 0,
             "ticks": ""
            },
            "colorscale": [
             [
              0,
              "#0d0887"
             ],
             [
              0.1111111111111111,
              "#46039f"
             ],
             [
              0.2222222222222222,
              "#7201a8"
             ],
             [
              0.3333333333333333,
              "#9c179e"
             ],
             [
              0.4444444444444444,
              "#bd3786"
             ],
             [
              0.5555555555555556,
              "#d8576b"
             ],
             [
              0.6666666666666666,
              "#ed7953"
             ],
             [
              0.7777777777777778,
              "#fb9f3a"
             ],
             [
              0.8888888888888888,
              "#fdca26"
             ],
             [
              1,
              "#f0f921"
             ]
            ],
            "type": "histogram2d"
           }
          ],
          "histogram2dcontour": [
           {
            "colorbar": {
             "outlinewidth": 0,
             "ticks": ""
            },
            "colorscale": [
             [
              0,
              "#0d0887"
             ],
             [
              0.1111111111111111,
              "#46039f"
             ],
             [
              0.2222222222222222,
              "#7201a8"
             ],
             [
              0.3333333333333333,
              "#9c179e"
             ],
             [
              0.4444444444444444,
              "#bd3786"
             ],
             [
              0.5555555555555556,
              "#d8576b"
             ],
             [
              0.6666666666666666,
              "#ed7953"
             ],
             [
              0.7777777777777778,
              "#fb9f3a"
             ],
             [
              0.8888888888888888,
              "#fdca26"
             ],
             [
              1,
              "#f0f921"
             ]
            ],
            "type": "histogram2dcontour"
           }
          ],
          "mesh3d": [
           {
            "colorbar": {
             "outlinewidth": 0,
             "ticks": ""
            },
            "type": "mesh3d"
           }
          ],
          "parcoords": [
           {
            "line": {
             "colorbar": {
              "outlinewidth": 0,
              "ticks": ""
             }
            },
            "type": "parcoords"
           }
          ],
          "pie": [
           {
            "automargin": true,
            "type": "pie"
           }
          ],
          "scatter": [
           {
            "fillpattern": {
             "fillmode": "overlay",
             "size": 10,
             "solidity": 0.2
            },
            "type": "scatter"
           }
          ],
          "scatter3d": [
           {
            "line": {
             "colorbar": {
              "outlinewidth": 0,
              "ticks": ""
             }
            },
            "marker": {
             "colorbar": {
              "outlinewidth": 0,
              "ticks": ""
             }
            },
            "type": "scatter3d"
           }
          ],
          "scattercarpet": [
           {
            "marker": {
             "colorbar": {
              "outlinewidth": 0,
              "ticks": ""
             }
            },
            "type": "scattercarpet"
           }
          ],
          "scattergeo": [
           {
            "marker": {
             "colorbar": {
              "outlinewidth": 0,
              "ticks": ""
             }
            },
            "type": "scattergeo"
           }
          ],
          "scattergl": [
           {
            "marker": {
             "colorbar": {
              "outlinewidth": 0,
              "ticks": ""
             }
            },
            "type": "scattergl"
           }
          ],
          "scattermapbox": [
           {
            "marker": {
             "colorbar": {
              "outlinewidth": 0,
              "ticks": ""
             }
            },
            "type": "scattermapbox"
           }
          ],
          "scatterpolar": [
           {
            "marker": {
             "colorbar": {
              "outlinewidth": 0,
              "ticks": ""
             }
            },
            "type": "scatterpolar"
           }
          ],
          "scatterpolargl": [
           {
            "marker": {
             "colorbar": {
              "outlinewidth": 0,
              "ticks": ""
             }
            },
            "type": "scatterpolargl"
           }
          ],
          "scatterternary": [
           {
            "marker": {
             "colorbar": {
              "outlinewidth": 0,
              "ticks": ""
             }
            },
            "type": "scatterternary"
           }
          ],
          "surface": [
           {
            "colorbar": {
             "outlinewidth": 0,
             "ticks": ""
            },
            "colorscale": [
             [
              0,
              "#0d0887"
             ],
             [
              0.1111111111111111,
              "#46039f"
             ],
             [
              0.2222222222222222,
              "#7201a8"
             ],
             [
              0.3333333333333333,
              "#9c179e"
             ],
             [
              0.4444444444444444,
              "#bd3786"
             ],
             [
              0.5555555555555556,
              "#d8576b"
             ],
             [
              0.6666666666666666,
              "#ed7953"
             ],
             [
              0.7777777777777778,
              "#fb9f3a"
             ],
             [
              0.8888888888888888,
              "#fdca26"
             ],
             [
              1,
              "#f0f921"
             ]
            ],
            "type": "surface"
           }
          ],
          "table": [
           {
            "cells": {
             "fill": {
              "color": "#EBF0F8"
             },
             "line": {
              "color": "white"
             }
            },
            "header": {
             "fill": {
              "color": "#C8D4E3"
             },
             "line": {
              "color": "white"
             }
            },
            "type": "table"
           }
          ]
         },
         "layout": {
          "annotationdefaults": {
           "arrowcolor": "#2a3f5f",
           "arrowhead": 0,
           "arrowwidth": 1
          },
          "autotypenumbers": "strict",
          "coloraxis": {
           "colorbar": {
            "outlinewidth": 0,
            "ticks": ""
           }
          },
          "colorscale": {
           "diverging": [
            [
             0,
             "#8e0152"
            ],
            [
             0.1,
             "#c51b7d"
            ],
            [
             0.2,
             "#de77ae"
            ],
            [
             0.3,
             "#f1b6da"
            ],
            [
             0.4,
             "#fde0ef"
            ],
            [
             0.5,
             "#f7f7f7"
            ],
            [
             0.6,
             "#e6f5d0"
            ],
            [
             0.7,
             "#b8e186"
            ],
            [
             0.8,
             "#7fbc41"
            ],
            [
             0.9,
             "#4d9221"
            ],
            [
             1,
             "#276419"
            ]
           ],
           "sequential": [
            [
             0,
             "#0d0887"
            ],
            [
             0.1111111111111111,
             "#46039f"
            ],
            [
             0.2222222222222222,
             "#7201a8"
            ],
            [
             0.3333333333333333,
             "#9c179e"
            ],
            [
             0.4444444444444444,
             "#bd3786"
            ],
            [
             0.5555555555555556,
             "#d8576b"
            ],
            [
             0.6666666666666666,
             "#ed7953"
            ],
            [
             0.7777777777777778,
             "#fb9f3a"
            ],
            [
             0.8888888888888888,
             "#fdca26"
            ],
            [
             1,
             "#f0f921"
            ]
           ],
           "sequentialminus": [
            [
             0,
             "#0d0887"
            ],
            [
             0.1111111111111111,
             "#46039f"
            ],
            [
             0.2222222222222222,
             "#7201a8"
            ],
            [
             0.3333333333333333,
             "#9c179e"
            ],
            [
             0.4444444444444444,
             "#bd3786"
            ],
            [
             0.5555555555555556,
             "#d8576b"
            ],
            [
             0.6666666666666666,
             "#ed7953"
            ],
            [
             0.7777777777777778,
             "#fb9f3a"
            ],
            [
             0.8888888888888888,
             "#fdca26"
            ],
            [
             1,
             "#f0f921"
            ]
           ]
          },
          "colorway": [
           "#636efa",
           "#EF553B",
           "#00cc96",
           "#ab63fa",
           "#FFA15A",
           "#19d3f3",
           "#FF6692",
           "#B6E880",
           "#FF97FF",
           "#FECB52"
          ],
          "font": {
           "color": "#2a3f5f"
          },
          "geo": {
           "bgcolor": "white",
           "lakecolor": "white",
           "landcolor": "#E5ECF6",
           "showlakes": true,
           "showland": true,
           "subunitcolor": "white"
          },
          "hoverlabel": {
           "align": "left"
          },
          "hovermode": "closest",
          "mapbox": {
           "style": "light"
          },
          "paper_bgcolor": "white",
          "plot_bgcolor": "#E5ECF6",
          "polar": {
           "angularaxis": {
            "gridcolor": "white",
            "linecolor": "white",
            "ticks": ""
           },
           "bgcolor": "#E5ECF6",
           "radialaxis": {
            "gridcolor": "white",
            "linecolor": "white",
            "ticks": ""
           }
          },
          "scene": {
           "xaxis": {
            "backgroundcolor": "#E5ECF6",
            "gridcolor": "white",
            "gridwidth": 2,
            "linecolor": "white",
            "showbackground": true,
            "ticks": "",
            "zerolinecolor": "white"
           },
           "yaxis": {
            "backgroundcolor": "#E5ECF6",
            "gridcolor": "white",
            "gridwidth": 2,
            "linecolor": "white",
            "showbackground": true,
            "ticks": "",
            "zerolinecolor": "white"
           },
           "zaxis": {
            "backgroundcolor": "#E5ECF6",
            "gridcolor": "white",
            "gridwidth": 2,
            "linecolor": "white",
            "showbackground": true,
            "ticks": "",
            "zerolinecolor": "white"
           }
          },
          "shapedefaults": {
           "line": {
            "color": "#2a3f5f"
           }
          },
          "ternary": {
           "aaxis": {
            "gridcolor": "white",
            "linecolor": "white",
            "ticks": ""
           },
           "baxis": {
            "gridcolor": "white",
            "linecolor": "white",
            "ticks": ""
           },
           "bgcolor": "#E5ECF6",
           "caxis": {
            "gridcolor": "white",
            "linecolor": "white",
            "ticks": ""
           }
          },
          "title": {
           "x": 0.05
          },
          "xaxis": {
           "automargin": true,
           "gridcolor": "white",
           "linecolor": "white",
           "ticks": "",
           "title": {
            "standoff": 15
           },
           "zerolinecolor": "white",
           "zerolinewidth": 2
          },
          "yaxis": {
           "automargin": true,
           "gridcolor": "white",
           "linecolor": "white",
           "ticks": "",
           "title": {
            "standoff": 15
           },
           "zerolinecolor": "white",
           "zerolinewidth": 2
          }
         }
        },
        "xaxis": {
         "anchor": "y",
         "autorange": true,
         "domain": [
          0,
          1
         ],
         "range": [
          1996.6705276705277,
          2021.3294723294723
         ],
         "title": {
          "text": "year"
         },
         "type": "linear"
        },
        "yaxis": {
         "anchor": "x",
         "autorange": true,
         "domain": [
          0,
          1
         ],
         "range": [
          41.20274159655277,
          72.98105902650019
         ],
         "title": {
          "text": "popularity"
         },
         "type": "linear"
        }
       }
      },
      "image/png": "[encoded data removed]",
      "text/html": [
       "<div>                            <div id=\"87ddb58f-0580-4deb-a373-1db5337522df\" class=\"plotly-graph-div\" style=\"height:525px; width:100%;\"></div>            <script type=\"text/javascript\">                require([\"plotly\"], function(Plotly) {                    window.PLOTLYENV=window.PLOTLYENV || {};                                    if (document.getElementById(\"87ddb58f-0580-4deb-a373-1db5337522df\")) {                    Plotly.newPlot(                        \"87ddb58f-0580-4deb-a373-1db5337522df\",                        [{\"hovertemplate\":\"year=%{x}\\u003cbr\\u003epopularity=%{y}\\u003cextra\\u003e\\u003c\\u002fextra\\u003e\",\"legendgroup\":\"\",\"line\":{\"color\":\"#636efa\",\"dash\":\"solid\"},\"marker\":{\"symbol\":\"circle\"},\"mode\":\"lines+markers\",\"name\":\"\",\"orientation\":\"v\",\"showlegend\":false,\"x\":[1998,1999,2000,2001,2002,2003,2004,2005,2006,2007,2008,2009,2010,2011,2012,2013,2014,2015,2016,2017,2018,2019,2020],\"xaxis\":\"x\",\"y\":[49.0,64.92105263157895,58.554054054054056,59.407407407407405,62.4,58.79381443298969,58.427083333333336,61.75961538461539,57.38947368421053,59.92553191489362,63.72164948453608,61.535714285714285,60.74766355140187,58.56565656565657,60.55652173913043,54.78651685393258,59.38461538461539,57.74747474747475,54.17171717171717,53.88288288288288,70.85046728971963,63.01123595505618,43.333333333333336],\"yaxis\":\"y\",\"type\":\"scatter\"}],                        {\"template\":{\"data\":{\"histogram2dcontour\":[{\"type\":\"histogram2dcontour\",\"colorbar\":{\"outlinewidth\":0,\"ticks\":\"\"},\"colorscale\":[[0.0,\"#0d0887\"],[0.1111111111111111,\"#46039f\"],[0.2222222222222222,\"#7201a8\"],[0.3333333333333333,\"#9c179e\"],[0.4444444444444444,\"#bd3786\"],[0.5555555555555556,\"#d8576b\"],[0.6666666666666666,\"#ed7953\"],[0.7777777777777778,\"#fb9f3a\"],[0.8888888888888888,\"#fdca26\"],[1.0,\"#f0f921\"]]}],\"choropleth\":[{\"type\":\"choropleth\",\"colorbar\":{\"outlinewidth\":0,\"ticks\":\"\"}}],\"histogram2d\":[{\"type\":\"histogram2d\",\"colorbar\":{\"outlinewidth\":0,\"ticks\":\"\"},\"colorscale\":[[0.0,\"#0d0887\"],[0.1111111111111111,\"#46039f\"],[0.2222222222222222,\"#7201a8\"],[0.3333333333333333,\"#9c179e\"],[0.4444444444444444,\"#bd3786\"],[0.5555555555555556,\"#d8576b\"],[0.6666666666666666,\"#ed7953\"],[0.7777777777777778,\"#fb9f3a\"],[0.8888888888888888,\"#fdca26\"],[1.0,\"#f0f921\"]]}],\"heatmap\":[{\"type\":\"heatmap\",\"colorbar\":{\"outlinewidth\":0,\"ticks\":\"\"},\"colorscale\":[[0.0,\"#0d0887\"],[0.1111111111111111,\"#46039f\"],[0.2222222222222222,\"#7201a8\"],[0.3333333333333333,\"#9c179e\"],[0.4444444444444444,\"#bd3786\"],[0.5555555555555556,\"#d8576b\"],[0.6666666666666666,\"#ed7953\"],[0.7777777777777778,\"#fb9f3a\"],[0.8888888888888888,\"#fdca26\"],[1.0,\"#f0f921\"]]}],\"heatmapgl\":[{\"type\":\"heatmapgl\",\"colorbar\":{\"outlinewidth\":0,\"ticks\":\"\"},\"colorscale\":[[0.0,\"#0d0887\"],[0.1111111111111111,\"#46039f\"],[0.2222222222222222,\"#7201a8\"],[0.3333333333333333,\"#9c179e\"],[0.4444444444444444,\"#bd3786\"],[0.5555555555555556,\"#d8576b\"],[0.6666666666666666,\"#ed7953\"],[0.7777777777777778,\"#fb9f3a\"],[0.8888888888888888,\"#fdca26\"],[1.0,\"#f0f921\"]]}],\"contourcarpet\":[{\"type\":\"contourcarpet\",\"colorbar\":{\"outlinewidth\":0,\"ticks\":\"\"}}],\"contour\":[{\"type\":\"contour\",\"colorbar\":{\"outlinewidth\":0,\"ticks\":\"\"},\"colorscale\":[[0.0,\"#0d0887\"],[0.1111111111111111,\"#46039f\"],[0.2222222222222222,\"#7201a8\"],[0.3333333333333333,\"#9c179e\"],[0.4444444444444444,\"#bd3786\"],[0.5555555555555556,\"#d8576b\"],[0.6666666666666666,\"#ed7953\"],[0.7777777777777778,\"#fb9f3a\"],[0.8888888888888888,\"#fdca26\"],[1.0,\"#f0f921\"]]}],\"surface\":[{\"type\":\"surface\",\"colorbar\":{\"outlinewidth\":0,\"ticks\":\"\"},\"colorscale\":[[0.0,\"#0d0887\"],[0.1111111111111111,\"#46039f\"],[0.2222222222222222,\"#7201a8\"],[0.3333333333333333,\"#9c179e\"],[0.4444444444444444,\"#bd3786\"],[0.5555555555555556,\"#d8576b\"],[0.6666666666666666,\"#ed7953\"],[0.7777777777777778,\"#fb9f3a\"],[0.8888888888888888,\"#fdca26\"],[1.0,\"#f0f921\"]]}],\"mesh3d\":[{\"type\":\"mesh3d\",\"colorbar\":{\"outlinewidth\":0,\"ticks\":\"\"}}],\"scatter\":[{\"fillpattern\":{\"fillmode\":\"overlay\",\"size\":10,\"solidity\":0.2},\"type\":\"scatter\"}],\"parcoords\":[{\"type\":\"parcoords\",\"line\":{\"colorbar\":{\"outlinewidth\":0,\"ticks\":\"\"}}}],\"scatterpolargl\":[{\"type\":\"scatterpolargl\",\"marker\":{\"colorbar\":{\"outlinewidth\":0,\"ticks\":\"\"}}}],\"bar\":[{\"error_x\":{\"color\":\"#2a3f5f\"},\"error_y\":{\"color\":\"#2a3f5f\"},\"marker\":{\"line\":{\"color\":\"#E5ECF6\",\"width\":0.5},\"pattern\":{\"fillmode\":\"overlay\",\"size\":10,\"solidity\":0.2}},\"type\":\"bar\"}],\"scattergeo\":[{\"type\":\"scattergeo\",\"marker\":{\"colorbar\":{\"outlinewidth\":0,\"ticks\":\"\"}}}],\"scatterpolar\":[{\"type\":\"scatterpolar\",\"marker\":{\"colorbar\":{\"outlinewidth\":0,\"ticks\":\"\"}}}],\"histogram\":[{\"marker\":{\"pattern\":{\"fillmode\":\"overlay\",\"size\":10,\"solidity\":0.2}},\"type\":\"histogram\"}],\"scattergl\":[{\"type\":\"scattergl\",\"marker\":{\"colorbar\":{\"outlinewidth\":0,\"ticks\":\"\"}}}],\"scatter3d\":[{\"type\":\"scatter3d\",\"line\":{\"colorbar\":{\"outlinewidth\":0,\"ticks\":\"\"}},\"marker\":{\"colorbar\":{\"outlinewidth\":0,\"ticks\":\"\"}}}],\"scattermapbox\":[{\"type\":\"scattermapbox\",\"marker\":{\"colorbar\":{\"outlinewidth\":0,\"ticks\":\"\"}}}],\"scatterternary\":[{\"type\":\"scatterternary\",\"marker\":{\"colorbar\":{\"outlinewidth\":0,\"ticks\":\"\"}}}],\"scattercarpet\":[{\"type\":\"scattercarpet\",\"marker\":{\"colorbar\":{\"outlinewidth\":0,\"ticks\":\"\"}}}],\"carpet\":[{\"aaxis\":{\"endlinecolor\":\"#2a3f5f\",\"gridcolor\":\"white\",\"linecolor\":\"white\",\"minorgridcolor\":\"white\",\"startlinecolor\":\"#2a3f5f\"},\"baxis\":{\"endlinecolor\":\"#2a3f5f\",\"gridcolor\":\"white\",\"linecolor\":\"white\",\"minorgridcolor\":\"white\",\"startlinecolor\":\"#2a3f5f\"},\"type\":\"carpet\"}],\"table\":[{\"cells\":{\"fill\":{\"color\":\"#EBF0F8\"},\"line\":{\"color\":\"white\"}},\"header\":{\"fill\":{\"color\":\"#C8D4E3\"},\"line\":{\"color\":\"white\"}},\"type\":\"table\"}],\"barpolar\":[{\"marker\":{\"line\":{\"color\":\"#E5ECF6\",\"width\":0.5},\"pattern\":{\"fillmode\":\"overlay\",\"size\":10,\"solidity\":0.2}},\"type\":\"barpolar\"}],\"pie\":[{\"automargin\":true,\"type\":\"pie\"}]},\"layout\":{\"autotypenumbers\":\"strict\",\"colorway\":[\"#636efa\",\"#EF553B\",\"#00cc96\",\"#ab63fa\",\"#FFA15A\",\"#19d3f3\",\"#FF6692\",\"#B6E880\",\"#FF97FF\",\"#FECB52\"],\"font\":{\"color\":\"#2a3f5f\"},\"hovermode\":\"closest\",\"hoverlabel\":{\"align\":\"left\"},\"paper_bgcolor\":\"white\",\"plot_bgcolor\":\"#E5ECF6\",\"polar\":{\"bgcolor\":\"#E5ECF6\",\"angularaxis\":{\"gridcolor\":\"white\",\"linecolor\":\"white\",\"ticks\":\"\"},\"radialaxis\":{\"gridcolor\":\"white\",\"linecolor\":\"white\",\"ticks\":\"\"}},\"ternary\":{\"bgcolor\":\"#E5ECF6\",\"aaxis\":{\"gridcolor\":\"white\",\"linecolor\":\"white\",\"ticks\":\"\"},\"baxis\":{\"gridcolor\":\"white\",\"linecolor\":\"white\",\"ticks\":\"\"},\"caxis\":{\"gridcolor\":\"white\",\"linecolor\":\"white\",\"ticks\":\"\"}},\"coloraxis\":{\"colorbar\":{\"outlinewidth\":0,\"ticks\":\"\"}},\"colorscale\":{\"sequential\":[[0.0,\"#0d0887\"],[0.1111111111111111,\"#46039f\"],[0.2222222222222222,\"#7201a8\"],[0.3333333333333333,\"#9c179e\"],[0.4444444444444444,\"#bd3786\"],[0.5555555555555556,\"#d8576b\"],[0.6666666666666666,\"#ed7953\"],[0.7777777777777778,\"#fb9f3a\"],[0.8888888888888888,\"#fdca26\"],[1.0,\"#f0f921\"]],\"sequentialminus\":[[0.0,\"#0d0887\"],[0.1111111111111111,\"#46039f\"],[0.2222222222222222,\"#7201a8\"],[0.3333333333333333,\"#9c179e\"],[0.4444444444444444,\"#bd3786\"],[0.5555555555555556,\"#d8576b\"],[0.6666666666666666,\"#ed7953\"],[0.7777777777777778,\"#fb9f3a\"],[0.8888888888888888,\"#fdca26\"],[1.0,\"#f0f921\"]],\"diverging\":[[0,\"#8e0152\"],[0.1,\"#c51b7d\"],[0.2,\"#de77ae\"],[0.3,\"#f1b6da\"],[0.4,\"#fde0ef\"],[0.5,\"#f7f7f7\"],[0.6,\"#e6f5d0\"],[0.7,\"#b8e186\"],[0.8,\"#7fbc41\"],[0.9,\"#4d9221\"],[1,\"#276419\"]]},\"xaxis\":{\"gridcolor\":\"white\",\"linecolor\":\"white\",\"ticks\":\"\",\"title\":{\"standoff\":15},\"zerolinecolor\":\"white\",\"automargin\":true,\"zerolinewidth\":2},\"yaxis\":{\"gridcolor\":\"white\",\"linecolor\":\"white\",\"ticks\":\"\",\"title\":{\"standoff\":15},\"zerolinecolor\":\"white\",\"automargin\":true,\"zerolinewidth\":2},\"scene\":{\"xaxis\":{\"backgroundcolor\":\"#E5ECF6\",\"gridcolor\":\"white\",\"linecolor\":\"white\",\"showbackground\":true,\"ticks\":\"\",\"zerolinecolor\":\"white\",\"gridwidth\":2},\"yaxis\":{\"backgroundcolor\":\"#E5ECF6\",\"gridcolor\":\"white\",\"linecolor\":\"white\",\"showbackground\":true,\"ticks\":\"\",\"zerolinecolor\":\"white\",\"gridwidth\":2},\"zaxis\":{\"backgroundcolor\":\"#E5ECF6\",\"gridcolor\":\"white\",\"linecolor\":\"white\",\"showbackground\":true,\"ticks\":\"\",\"zerolinecolor\":\"white\",\"gridwidth\":2}},\"shapedefaults\":{\"line\":{\"color\":\"#2a3f5f\"}},\"annotationdefaults\":{\"arrowcolor\":\"#2a3f5f\",\"arrowhead\":0,\"arrowwidth\":1},\"geo\":{\"bgcolor\":\"white\",\"landcolor\":\"#E5ECF6\",\"subunitcolor\":\"white\",\"showland\":true,\"showlakes\":true,\"lakecolor\":\"white\"},\"title\":{\"x\":0.05},\"mapbox\":{\"style\":\"light\"}}},\"xaxis\":{\"anchor\":\"y\",\"domain\":[0.0,1.0],\"title\":{\"text\":\"year\"}},\"yaxis\":{\"anchor\":\"x\",\"domain\":[0.0,1.0],\"title\":{\"text\":\"popularity\"}},\"legend\":{\"tracegroupgap\":0},\"margin\":{\"t\":60}},                        {\"responsive\": true}                    ).then(function(){\n",
       "                            \n",
       "var gd = document.getElementById('87ddb58f-0580-4deb-a373-1db5337522df');\n",
       "var x = new MutationObserver(function (mutations, observer) {{\n",
       "        var display = window.getComputedStyle(gd).display;\n",
       "        if (!display || display === 'none') {{\n",
       "            console.log([gd, 'removed!']);\n",
       "            Plotly.purge(gd);\n",
       "            observer.disconnect();\n",
       "        }}\n",
       "}});\n",
       "\n",
       "// Listen for the removal of the full notebook cells\n",
       "var notebookContainer = gd.closest('#notebook-container');\n",
       "if (notebookContainer) {{\n",
       "    x.observe(notebookContainer, {childList: true});\n",
       "}}\n",
       "\n",
       "// Listen for the clearing of the current output cell\n",
       "var outputEl = gd.closest('.output');\n",
       "if (outputEl) {{\n",
       "    x.observe(outputEl, {childList: true});\n",
       "}}\n",
       "\n",
       "                        })                };                });            </script>        </div>"
      ]
     },
     "metadata": {},
     "output_type": "display_data"
    }
   ],
   "source": [
    "pop_media = df.groupby('year')['popularity'].mean().reset_index()\n",
    "\n",
    "fig = px.line(pop_media, x='year', y='popularity', markers=True)\n",
    "fig.show()"
   ]
  },
  {
   "cell_type": "code",
   "execution_count": 24,
   "id": "c0158606-c1e3-4ac8-b199-3e301780e9c4",
   "metadata": {},
   "outputs": [
    {
     "data": {
      "text/plain": [
       "<Axes: xlabel='genre', ylabel='count'>"
      ]
     },
     "execution_count": 24,
     "metadata": {},
     "output_type": "execute_result"
    },
    {
     "data": {
      "image/png": "[encoded data removed]",
      "text/plain": [
       "<Figure size 640x480 with 1 Axes>"
      ]
     },
     "metadata": {},
     "output_type": "display_data"
    }
   ],
   "source": [
    "# Quais são os 5 gêneros mais comuns entre as principais faixas?\n",
    "df_novo = df.copy()\n",
    "df_novo['genre'] = df_novo['genre'].str.replace(' ', '').str.split(',')\n",
    "df_novo = df_novo.explode('genre')\n",
    "\n",
    "top_genres = df_novo['genre'].value_counts().head(5)\n",
    "\n",
    "sns.barplot(data=top_genres)"
   ]
  },
  {
   "cell_type": "code",
   "execution_count": 26,
   "id": "2059bd47-8616-476d-875f-1765e701e341",
   "metadata": {},
   "outputs": [
    {
     "data": {
      "application/vnd.plotly.v1+json": {
       "config": {
        "plotlyServerURL": "https://plot.ly"
       },
       "data": [
        {
         "alignmentgroup": "True",
         "hovertemplate": "variable=count<br>genre=%{x}<br>value=%{y}<extra></extra>",
         "legendgroup": "count",
         "marker": {
          "color": "#636efa",
          "pattern": {
           "shape": ""
          }
         },
         "name": "count",
         "offsetgroup": "count",
         "orientation": "v",
         "showlegend": true,
         "textposition": "auto",
         "type": "bar",
         "x": [
          "pop",
          "hiphop",
          "R&B",
          "Dance/Electronic",
          "rock"
         ],
         "xaxis": "x",
         "y": [
          1633,
          778,
          452,
          390,
          234
         ],
         "yaxis": "y"
        }
       ],
       "layout": {
        "autosize": true,
        "barmode": "relative",
        "legend": {
         "title": {
          "text": "variable"
         },
         "tracegroupgap": 0
        },
        "margin": {
         "t": 60
        },
        "template": {
         "data": {
          "bar": [
           {
            "error_x": {
             "color": "#2a3f5f"
            },
            "error_y": {
             "color": "#2a3f5f"
            },
            "marker": {
             "line": {
              "color": "#E5ECF6",
              "width": 0.5
             },
             "pattern": {
              "fillmode": "overlay",
              "size": 10,
              "solidity": 0.2
             }
            },
            "type": "bar"
           }
          ],
          "barpolar": [
           {
            "marker": {
             "line": {
              "color": "#E5ECF6",
              "width": 0.5
             },
             "pattern": {
              "fillmode": "overlay",
              "size": 10,
              "solidity": 0.2
             }
            },
            "type": "barpolar"
           }
          ],
          "carpet": [
           {
            "aaxis": {
             "endlinecolor": "#2a3f5f",
             "gridcolor": "white",
             "linecolor": "white",
             "minorgridcolor": "white",
             "startlinecolor": "#2a3f5f"
            },
            "baxis": {
             "endlinecolor": "#2a3f5f",
             "gridcolor": "white",
             "linecolor": "white",
             "minorgridcolor": "white",
             "startlinecolor": "#2a3f5f"
            },
            "type": "carpet"
           }
          ],
          "choropleth": [
           {
            "colorbar": {
             "outlinewidth": 0,
             "ticks": ""
            },
            "type": "choropleth"
           }
          ],
          "contour": [
           {
            "colorbar": {
             "outlinewidth": 0,
             "ticks": ""
            },
            "colorscale": [
             [
              0,
              "#0d0887"
             ],
             [
              0.1111111111111111,
              "#46039f"
             ],
             [
              0.2222222222222222,
              "#7201a8"
             ],
             [
              0.3333333333333333,
              "#9c179e"
             ],
             [
              0.4444444444444444,
              "#bd3786"
             ],
             [
              0.5555555555555556,
              "#d8576b"
             ],
             [
              0.6666666666666666,
              "#ed7953"
             ],
             [
              0.7777777777777778,
              "#fb9f3a"
             ],
             [
              0.8888888888888888,
              "#fdca26"
             ],
             [
              1,
              "#f0f921"
             ]
            ],
            "type": "contour"
           }
          ],
          "contourcarpet": [
           {
            "colorbar": {
             "outlinewidth": 0,
             "ticks": ""
            },
            "type": "contourcarpet"
           }
          ],
          "heatmap": [
           {
            "colorbar": {
             "outlinewidth": 0,
             "ticks": ""
            },
            "colorscale": [
             [
              0,
              "#0d0887"
             ],
             [
              0.1111111111111111,
              "#46039f"
             ],
             [
              0.2222222222222222,
              "#7201a8"
             ],
             [
              0.3333333333333333,
              "#9c179e"
             ],
             [
              0.4444444444444444,
              "#bd3786"
             ],
             [
              0.5555555555555556,
              "#d8576b"
             ],
             [
              0.6666666666666666,
              "#ed7953"
             ],
             [
              0.7777777777777778,
              "#fb9f3a"
             ],
             [
              0.8888888888888888,
              "#fdca26"
             ],
             [
              1,
              "#f0f921"
             ]
            ],
            "type": "heatmap"
           }
          ],
          "heatmapgl": [
           {
            "colorbar": {
             "outlinewidth": 0,
             "ticks": ""
            },
            "colorscale": [
             [
              0,
              "#0d0887"
             ],
             [
              0.1111111111111111,
              "#46039f"
             ],
             [
              0.2222222222222222,
              "#7201a8"
             ],
             [
              0.3333333333333333,
              "#9c179e"
             ],
             [
              0.4444444444444444,
              "#bd3786"
             ],
             [
              0.5555555555555556,
              "#d8576b"
             ],
             [
              0.6666666666666666,
              "#ed7953"
             ],
             [
              0.7777777777777778,
              "#fb9f3a"
             ],
             [
              0.8888888888888888,
              "#fdca26"
             ],
             [
              1,
              "#f0f921"
             ]
            ],
            "type": "heatmapgl"
           }
          ],
          "histogram": [
           {
            "marker": {
             "pattern": {
              "fillmode": "overlay",
              "size": 10,
              "solidity": 0.2
             }
            },
            "type": "histogram"
           }
          ],
          "histogram2d": [
           {
            "colorbar": {
             "outlinewidth": 0,
             "ticks": ""
            },
            "colorscale": [
             [
              0,
              "#0d0887"
             ],
             [
              0.1111111111111111,
              "#46039f"
             ],
             [
              0.2222222222222222,
              "#7201a8"
             ],
             [
              0.3333333333333333,
              "#9c179e"
             ],
             [
              0.4444444444444444,
              "#bd3786"
             ],
             [
              0.5555555555555556,
              "#d8576b"
             ],
             [
              0.6666666666666666,
              "#ed7953"
             ],
             [
              0.7777777777777778,
              "#fb9f3a"
             ],
             [
              0.8888888888888888,
              "#fdca26"
             ],
             [
              1,
              "#f0f921"
             ]
            ],
            "type": "histogram2d"
           }
          ],
          "histogram2dcontour": [
           {
            "colorbar": {
             "outlinewidth": 0,
             "ticks": ""
            },
            "colorscale": [
             [
              0,
              "#0d0887"
             ],
             [
              0.1111111111111111,
              "#46039f"
             ],
             [
              0.2222222222222222,
              "#7201a8"
             ],
             [
              0.3333333333333333,
              "#9c179e"
             ],
             [
              0.4444444444444444,
              "#bd3786"
             ],
             [
              0.5555555555555556,
              "#d8576b"
             ],
             [
              0.6666666666666666,
              "#ed7953"
             ],
             [
              0.7777777777777778,
              "#fb9f3a"
             ],
             [
              0.8888888888888888,
              "#fdca26"
             ],
             [
              1,
              "#f0f921"
             ]
            ],
            "type": "histogram2dcontour"
           }
          ],
          "mesh3d": [
           {
            "colorbar": {
             "outlinewidth": 0,
             "ticks": ""
            },
            "type": "mesh3d"
           }
          ],
          "parcoords": [
           {
            "line": {
             "colorbar": {
              "outlinewidth": 0,
              "ticks": ""
             }
            },
            "type": "parcoords"
           }
          ],
          "pie": [
           {
            "automargin": true,
            "type": "pie"
           }
          ],
          "scatter": [
           {
            "fillpattern": {
             "fillmode": "overlay",
             "size": 10,
             "solidity": 0.2
            },
            "type": "scatter"
           }
          ],
          "scatter3d": [
           {
            "line": {
             "colorbar": {
              "outlinewidth": 0,
              "ticks": ""
             }
            },
            "marker": {
             "colorbar": {
              "outlinewidth": 0,
              "ticks": ""
             }
            },
            "type": "scatter3d"
           }
          ],
          "scattercarpet": [
           {
            "marker": {
             "colorbar": {
              "outlinewidth": 0,
              "ticks": ""
             }
            },
            "type": "scattercarpet"
           }
          ],
          "scattergeo": [
           {
            "marker": {
             "colorbar": {
              "outlinewidth": 0,
              "ticks": ""
             }
            },
            "type": "scattergeo"
           }
          ],
          "scattergl": [
           {
            "marker": {
             "colorbar": {
              "outlinewidth": 0,
              "ticks": ""
             }
            },
            "type": "scattergl"
           }
          ],
          "scattermapbox": [
           {
            "marker": {
             "colorbar": {
              "outlinewidth": 0,
              "ticks": ""
             }
            },
            "type": "scattermapbox"
           }
          ],
          "scatterpolar": [
           {
            "marker": {
             "colorbar": {
              "outlinewidth": 0,
              "ticks": ""
             }
            },
            "type": "scatterpolar"
           }
          ],
          "scatterpolargl": [
           {
            "marker": {
             "colorbar": {
              "outlinewidth": 0,
              "ticks": ""
             }
            },
            "type": "scatterpolargl"
           }
          ],
          "scatterternary": [
           {
            "marker": {
             "colorbar": {
              "outlinewidth": 0,
              "ticks": ""
             }
            },
            "type": "scatterternary"
           }
          ],
          "surface": [
           {
            "colorbar": {
             "outlinewidth": 0,
             "ticks": ""
            },
            "colorscale": [
             [
              0,
              "#0d0887"
             ],
             [
              0.1111111111111111,
              "#46039f"
             ],
             [
              0.2222222222222222,
              "#7201a8"
             ],
             [
              0.3333333333333333,
              "#9c179e"
             ],
             [
              0.4444444444444444,
              "#bd3786"
             ],
             [
              0.5555555555555556,
              "#d8576b"
             ],
             [
              0.6666666666666666,
              "#ed7953"
             ],
             [
              0.7777777777777778,
              "#fb9f3a"
             ],
             [
              0.8888888888888888,
              "#fdca26"
             ],
             [
              1,
              "#f0f921"
             ]
            ],
            "type": "surface"
           }
          ],
          "table": [
           {
            "cells": {
             "fill": {
              "color": "#EBF0F8"
             },
             "line": {
              "color": "white"
             }
            },
            "header": {
             "fill": {
              "color": "#C8D4E3"
             },
             "line": {
              "color": "white"
             }
            },
            "type": "table"
           }
          ]
         },
         "layout": {
          "annotationdefaults": {
           "arrowcolor": "#2a3f5f",
           "arrowhead": 0,
           "arrowwidth": 1
          },
          "autotypenumbers": "strict",
          "coloraxis": {
           "colorbar": {
            "outlinewidth": 0,
            "ticks": ""
           }
          },
          "colorscale": {
           "diverging": [
            [
             0,
             "#8e0152"
            ],
            [
             0.1,
             "#c51b7d"
            ],
            [
             0.2,
             "#de77ae"
            ],
            [
             0.3,
             "#f1b6da"
            ],
            [
             0.4,
             "#fde0ef"
            ],
            [
             0.5,
             "#f7f7f7"
            ],
            [
             0.6,
             "#e6f5d0"
            ],
            [
             0.7,
             "#b8e186"
            ],
            [
             0.8,
             "#7fbc41"
            ],
            [
             0.9,
             "#4d9221"
            ],
            [
             1,
             "#276419"
            ]
           ],
           "sequential": [
            [
             0,
             "#0d0887"
            ],
            [
             0.1111111111111111,
             "#46039f"
            ],
            [
             0.2222222222222222,
             "#7201a8"
            ],
            [
             0.3333333333333333,
             "#9c179e"
            ],
            [
             0.4444444444444444,
             "#bd3786"
            ],
            [
             0.5555555555555556,
             "#d8576b"
            ],
            [
             0.6666666666666666,
             "#ed7953"
            ],
            [
             0.7777777777777778,
             "#fb9f3a"
            ],
            [
             0.8888888888888888,
             "#fdca26"
            ],
            [
             1,
             "#f0f921"
            ]
           ],
           "sequentialminus": [
            [
             0,
             "#0d0887"
            ],
            [
             0.1111111111111111,
             "#46039f"
            ],
            [
             0.2222222222222222,
             "#7201a8"
            ],
            [
             0.3333333333333333,
             "#9c179e"
            ],
            [
             0.4444444444444444,
             "#bd3786"
            ],
            [
             0.5555555555555556,
             "#d8576b"
            ],
            [
             0.6666666666666666,
             "#ed7953"
            ],
            [
             0.7777777777777778,
             "#fb9f3a"
            ],
            [
             0.8888888888888888,
             "#fdca26"
            ],
            [
             1,
             "#f0f921"
            ]
           ]
          },
          "colorway": [
           "#636efa",
           "#EF553B",
           "#00cc96",
           "#ab63fa",
           "#FFA15A",
           "#19d3f3",
           "#FF6692",
           "#B6E880",
           "#FF97FF",
           "#FECB52"
          ],
          "font": {
           "color": "#2a3f5f"
          },
          "geo": {
           "bgcolor": "white",
           "lakecolor": "white",
           "landcolor": "#E5ECF6",
           "showlakes": true,
           "showland": true,
           "subunitcolor": "white"
          },
          "hoverlabel": {
           "align": "left"
          },
          "hovermode": "closest",
          "mapbox": {
           "style": "light"
          },
          "paper_bgcolor": "white",
          "plot_bgcolor": "#E5ECF6",
          "polar": {
           "angularaxis": {
            "gridcolor": "white",
            "linecolor": "white",
            "ticks": ""
           },
           "bgcolor": "#E5ECF6",
           "radialaxis": {
            "gridcolor": "white",
            "linecolor": "white",
            "ticks": ""
           }
          },
          "scene": {
           "xaxis": {
            "backgroundcolor": "#E5ECF6",
            "gridcolor": "white",
            "gridwidth": 2,
            "linecolor": "white",
            "showbackground": true,
            "ticks": "",
            "zerolinecolor": "white"
           },
           "yaxis": {
            "backgroundcolor": "#E5ECF6",
            "gridcolor": "white",
            "gridwidth": 2,
            "linecolor": "white",
            "showbackground": true,
            "ticks": "",
            "zerolinecolor": "white"
           },
           "zaxis": {
            "backgroundcolor": "#E5ECF6",
            "gridcolor": "white",
            "gridwidth": 2,
            "linecolor": "white",
            "showbackground": true,
            "ticks": "",
            "zerolinecolor": "white"
           }
          },
          "shapedefaults": {
           "line": {
            "color": "#2a3f5f"
           }
          },
          "ternary": {
           "aaxis": {
            "gridcolor": "white",
            "linecolor": "white",
            "ticks": ""
           },
           "baxis": {
            "gridcolor": "white",
            "linecolor": "white",
            "ticks": ""
           },
           "bgcolor": "#E5ECF6",
           "caxis": {
            "gridcolor": "white",
            "linecolor": "white",
            "ticks": ""
           }
          },
          "title": {
           "x": 0.05
          },
          "xaxis": {
           "automargin": true,
           "gridcolor": "white",
           "linecolor": "white",
           "ticks": "",
           "title": {
            "standoff": 15
           },
           "zerolinecolor": "white",
           "zerolinewidth": 2
          },
          "yaxis": {
           "automargin": true,
           "gridcolor": "white",
           "linecolor": "white",
           "ticks": "",
           "title": {
            "standoff": 15
           },
           "zerolinecolor": "white",
           "zerolinewidth": 2
          }
         }
        },
        "xaxis": {
         "anchor": "y",
         "autorange": true,
         "domain": [
          0,
          1
         ],
         "range": [
          -0.5,
          4.5
         ],
         "title": {
          "text": "genre"
         },
         "type": "category"
        },
        "yaxis": {
         "anchor": "x",
         "autorange": true,
         "domain": [
          0,
          1
         ],
         "range": [
          0,
          1718.9473684210527
         ],
         "title": {
          "text": "value"
         },
         "type": "linear"
        }
       }
      },
      "image/png": "[encoded data removed]",
      "text/html": [
       "<div>                            <div id=\"217a4201-b461-4dbb-8e31-343b669ff236\" class=\"plotly-graph-div\" style=\"height:525px; width:100%;\"></div>            <script type=\"text/javascript\">                require([\"plotly\"], function(Plotly) {                    window.PLOTLYENV=window.PLOTLYENV || {};                                    if (document.getElementById(\"217a4201-b461-4dbb-8e31-343b669ff236\")) {                    Plotly.newPlot(                        \"217a4201-b461-4dbb-8e31-343b669ff236\",                        [{\"alignmentgroup\":\"True\",\"hovertemplate\":\"variable=count\\u003cbr\\u003egenre=%{x}\\u003cbr\\u003evalue=%{y}\\u003cextra\\u003e\\u003c\\u002fextra\\u003e\",\"legendgroup\":\"count\",\"marker\":{\"color\":\"#636efa\",\"pattern\":{\"shape\":\"\"}},\"name\":\"count\",\"offsetgroup\":\"count\",\"orientation\":\"v\",\"showlegend\":true,\"textposition\":\"auto\",\"x\":[\"pop\",\"hiphop\",\"R&B\",\"Dance\\u002fElectronic\",\"rock\"],\"xaxis\":\"x\",\"y\":[1633,778,452,390,234],\"yaxis\":\"y\",\"type\":\"bar\"}],                        {\"template\":{\"data\":{\"histogram2dcontour\":[{\"type\":\"histogram2dcontour\",\"colorbar\":{\"outlinewidth\":0,\"ticks\":\"\"},\"colorscale\":[[0.0,\"#0d0887\"],[0.1111111111111111,\"#46039f\"],[0.2222222222222222,\"#7201a8\"],[0.3333333333333333,\"#9c179e\"],[0.4444444444444444,\"#bd3786\"],[0.5555555555555556,\"#d8576b\"],[0.6666666666666666,\"#ed7953\"],[0.7777777777777778,\"#fb9f3a\"],[0.8888888888888888,\"#fdca26\"],[1.0,\"#f0f921\"]]}],\"choropleth\":[{\"type\":\"choropleth\",\"colorbar\":{\"outlinewidth\":0,\"ticks\":\"\"}}],\"histogram2d\":[{\"type\":\"histogram2d\",\"colorbar\":{\"outlinewidth\":0,\"ticks\":\"\"},\"colorscale\":[[0.0,\"#0d0887\"],[0.1111111111111111,\"#46039f\"],[0.2222222222222222,\"#7201a8\"],[0.3333333333333333,\"#9c179e\"],[0.4444444444444444,\"#bd3786\"],[0.5555555555555556,\"#d8576b\"],[0.6666666666666666,\"#ed7953\"],[0.7777777777777778,\"#fb9f3a\"],[0.8888888888888888,\"#fdca26\"],[1.0,\"#f0f921\"]]}],\"heatmap\":[{\"type\":\"heatmap\",\"colorbar\":{\"outlinewidth\":0,\"ticks\":\"\"},\"colorscale\":[[0.0,\"#0d0887\"],[0.1111111111111111,\"#46039f\"],[0.2222222222222222,\"#7201a8\"],[0.3333333333333333,\"#9c179e\"],[0.4444444444444444,\"#bd3786\"],[0.5555555555555556,\"#d8576b\"],[0.6666666666666666,\"#ed7953\"],[0.7777777777777778,\"#fb9f3a\"],[0.8888888888888888,\"#fdca26\"],[1.0,\"#f0f921\"]]}],\"heatmapgl\":[{\"type\":\"heatmapgl\",\"colorbar\":{\"outlinewidth\":0,\"ticks\":\"\"},\"colorscale\":[[0.0,\"#0d0887\"],[0.1111111111111111,\"#46039f\"],[0.2222222222222222,\"#7201a8\"],[0.3333333333333333,\"#9c179e\"],[0.4444444444444444,\"#bd3786\"],[0.5555555555555556,\"#d8576b\"],[0.6666666666666666,\"#ed7953\"],[0.7777777777777778,\"#fb9f3a\"],[0.8888888888888888,\"#fdca26\"],[1.0,\"#f0f921\"]]}],\"contourcarpet\":[{\"type\":\"contourcarpet\",\"colorbar\":{\"outlinewidth\":0,\"ticks\":\"\"}}],\"contour\":[{\"type\":\"contour\",\"colorbar\":{\"outlinewidth\":0,\"ticks\":\"\"},\"colorscale\":[[0.0,\"#0d0887\"],[0.1111111111111111,\"#46039f\"],[0.2222222222222222,\"#7201a8\"],[0.3333333333333333,\"#9c179e\"],[0.4444444444444444,\"#bd3786\"],[0.5555555555555556,\"#d8576b\"],[0.6666666666666666,\"#ed7953\"],[0.7777777777777778,\"#fb9f3a\"],[0.8888888888888888,\"#fdca26\"],[1.0,\"#f0f921\"]]}],\"surface\":[{\"type\":\"surface\",\"colorbar\":{\"outlinewidth\":0,\"ticks\":\"\"},\"colorscale\":[[0.0,\"#0d0887\"],[0.1111111111111111,\"#46039f\"],[0.2222222222222222,\"#7201a8\"],[0.3333333333333333,\"#9c179e\"],[0.4444444444444444,\"#bd3786\"],[0.5555555555555556,\"#d8576b\"],[0.6666666666666666,\"#ed7953\"],[0.7777777777777778,\"#fb9f3a\"],[0.8888888888888888,\"#fdca26\"],[1.0,\"#f0f921\"]]}],\"mesh3d\":[{\"type\":\"mesh3d\",\"colorbar\":{\"outlinewidth\":0,\"ticks\":\"\"}}],\"scatter\":[{\"fillpattern\":{\"fillmode\":\"overlay\",\"size\":10,\"solidity\":0.2},\"type\":\"scatter\"}],\"parcoords\":[{\"type\":\"parcoords\",\"line\":{\"colorbar\":{\"outlinewidth\":0,\"ticks\":\"\"}}}],\"scatterpolargl\":[{\"type\":\"scatterpolargl\",\"marker\":{\"colorbar\":{\"outlinewidth\":0,\"ticks\":\"\"}}}],\"bar\":[{\"error_x\":{\"color\":\"#2a3f5f\"},\"error_y\":{\"color\":\"#2a3f5f\"},\"marker\":{\"line\":{\"color\":\"#E5ECF6\",\"width\":0.5},\"pattern\":{\"fillmode\":\"overlay\",\"size\":10,\"solidity\":0.2}},\"type\":\"bar\"}],\"scattergeo\":[{\"type\":\"scattergeo\",\"marker\":{\"colorbar\":{\"outlinewidth\":0,\"ticks\":\"\"}}}],\"scatterpolar\":[{\"type\":\"scatterpolar\",\"marker\":{\"colorbar\":{\"outlinewidth\":0,\"ticks\":\"\"}}}],\"histogram\":[{\"marker\":{\"pattern\":{\"fillmode\":\"overlay\",\"size\":10,\"solidity\":0.2}},\"type\":\"histogram\"}],\"scattergl\":[{\"type\":\"scattergl\",\"marker\":{\"colorbar\":{\"outlinewidth\":0,\"ticks\":\"\"}}}],\"scatter3d\":[{\"type\":\"scatter3d\",\"line\":{\"colorbar\":{\"outlinewidth\":0,\"ticks\":\"\"}},\"marker\":{\"colorbar\":{\"outlinewidth\":0,\"ticks\":\"\"}}}],\"scattermapbox\":[{\"type\":\"scattermapbox\",\"marker\":{\"colorbar\":{\"outlinewidth\":0,\"ticks\":\"\"}}}],\"scatterternary\":[{\"type\":\"scatterternary\",\"marker\":{\"colorbar\":{\"outlinewidth\":0,\"ticks\":\"\"}}}],\"scattercarpet\":[{\"type\":\"scattercarpet\",\"marker\":{\"colorbar\":{\"outlinewidth\":0,\"ticks\":\"\"}}}],\"carpet\":[{\"aaxis\":{\"endlinecolor\":\"#2a3f5f\",\"gridcolor\":\"white\",\"linecolor\":\"white\",\"minorgridcolor\":\"white\",\"startlinecolor\":\"#2a3f5f\"},\"baxis\":{\"endlinecolor\":\"#2a3f5f\",\"gridcolor\":\"white\",\"linecolor\":\"white\",\"minorgridcolor\":\"white\",\"startlinecolor\":\"#2a3f5f\"},\"type\":\"carpet\"}],\"table\":[{\"cells\":{\"fill\":{\"color\":\"#EBF0F8\"},\"line\":{\"color\":\"white\"}},\"header\":{\"fill\":{\"color\":\"#C8D4E3\"},\"line\":{\"color\":\"white\"}},\"type\":\"table\"}],\"barpolar\":[{\"marker\":{\"line\":{\"color\":\"#E5ECF6\",\"width\":0.5},\"pattern\":{\"fillmode\":\"overlay\",\"size\":10,\"solidity\":0.2}},\"type\":\"barpolar\"}],\"pie\":[{\"automargin\":true,\"type\":\"pie\"}]},\"layout\":{\"autotypenumbers\":\"strict\",\"colorway\":[\"#636efa\",\"#EF553B\",\"#00cc96\",\"#ab63fa\",\"#FFA15A\",\"#19d3f3\",\"#FF6692\",\"#B6E880\",\"#FF97FF\",\"#FECB52\"],\"font\":{\"color\":\"#2a3f5f\"},\"hovermode\":\"closest\",\"hoverlabel\":{\"align\":\"left\"},\"paper_bgcolor\":\"white\",\"plot_bgcolor\":\"#E5ECF6\",\"polar\":{\"bgcolor\":\"#E5ECF6\",\"angularaxis\":{\"gridcolor\":\"white\",\"linecolor\":\"white\",\"ticks\":\"\"},\"radialaxis\":{\"gridcolor\":\"white\",\"linecolor\":\"white\",\"ticks\":\"\"}},\"ternary\":{\"bgcolor\":\"#E5ECF6\",\"aaxis\":{\"gridcolor\":\"white\",\"linecolor\":\"white\",\"ticks\":\"\"},\"baxis\":{\"gridcolor\":\"white\",\"linecolor\":\"white\",\"ticks\":\"\"},\"caxis\":{\"gridcolor\":\"white\",\"linecolor\":\"white\",\"ticks\":\"\"}},\"coloraxis\":{\"colorbar\":{\"outlinewidth\":0,\"ticks\":\"\"}},\"colorscale\":{\"sequential\":[[0.0,\"#0d0887\"],[0.1111111111111111,\"#46039f\"],[0.2222222222222222,\"#7201a8\"],[0.3333333333333333,\"#9c179e\"],[0.4444444444444444,\"#bd3786\"],[0.5555555555555556,\"#d8576b\"],[0.6666666666666666,\"#ed7953\"],[0.7777777777777778,\"#fb9f3a\"],[0.8888888888888888,\"#fdca26\"],[1.0,\"#f0f921\"]],\"sequentialminus\":[[0.0,\"#0d0887\"],[0.1111111111111111,\"#46039f\"],[0.2222222222222222,\"#7201a8\"],[0.3333333333333333,\"#9c179e\"],[0.4444444444444444,\"#bd3786\"],[0.5555555555555556,\"#d8576b\"],[0.6666666666666666,\"#ed7953\"],[0.7777777777777778,\"#fb9f3a\"],[0.8888888888888888,\"#fdca26\"],[1.0,\"#f0f921\"]],\"diverging\":[[0,\"#8e0152\"],[0.1,\"#c51b7d\"],[0.2,\"#de77ae\"],[0.3,\"#f1b6da\"],[0.4,\"#fde0ef\"],[0.5,\"#f7f7f7\"],[0.6,\"#e6f5d0\"],[0.7,\"#b8e186\"],[0.8,\"#7fbc41\"],[0.9,\"#4d9221\"],[1,\"#276419\"]]},\"xaxis\":{\"gridcolor\":\"white\",\"linecolor\":\"white\",\"ticks\":\"\",\"title\":{\"standoff\":15},\"zerolinecolor\":\"white\",\"automargin\":true,\"zerolinewidth\":2},\"yaxis\":{\"gridcolor\":\"white\",\"linecolor\":\"white\",\"ticks\":\"\",\"title\":{\"standoff\":15},\"zerolinecolor\":\"white\",\"automargin\":true,\"zerolinewidth\":2},\"scene\":{\"xaxis\":{\"backgroundcolor\":\"#E5ECF6\",\"gridcolor\":\"white\",\"linecolor\":\"white\",\"showbackground\":true,\"ticks\":\"\",\"zerolinecolor\":\"white\",\"gridwidth\":2},\"yaxis\":{\"backgroundcolor\":\"#E5ECF6\",\"gridcolor\":\"white\",\"linecolor\":\"white\",\"showbackground\":true,\"ticks\":\"\",\"zerolinecolor\":\"white\",\"gridwidth\":2},\"zaxis\":{\"backgroundcolor\":\"#E5ECF6\",\"gridcolor\":\"white\",\"linecolor\":\"white\",\"showbackground\":true,\"ticks\":\"\",\"zerolinecolor\":\"white\",\"gridwidth\":2}},\"shapedefaults\":{\"line\":{\"color\":\"#2a3f5f\"}},\"annotationdefaults\":{\"arrowcolor\":\"#2a3f5f\",\"arrowhead\":0,\"arrowwidth\":1},\"geo\":{\"bgcolor\":\"white\",\"landcolor\":\"#E5ECF6\",\"subunitcolor\":\"white\",\"showland\":true,\"showlakes\":true,\"lakecolor\":\"white\"},\"title\":{\"x\":0.05},\"mapbox\":{\"style\":\"light\"}}},\"xaxis\":{\"anchor\":\"y\",\"domain\":[0.0,1.0],\"title\":{\"text\":\"genre\"}},\"yaxis\":{\"anchor\":\"x\",\"domain\":[0.0,1.0],\"title\":{\"text\":\"value\"}},\"legend\":{\"title\":{\"text\":\"variable\"},\"tracegroupgap\":0},\"margin\":{\"t\":60},\"barmode\":\"relative\"},                        {\"responsive\": true}                    ).then(function(){\n",
       "                            \n",
       "var gd = document.getElementById('217a4201-b461-4dbb-8e31-343b669ff236');\n",
       "var x = new MutationObserver(function (mutations, observer) {{\n",
       "        var display = window.getComputedStyle(gd).display;\n",
       "        if (!display || display === 'none') {{\n",
       "            console.log([gd, 'removed!']);\n",
       "            Plotly.purge(gd);\n",
       "            observer.disconnect();\n",
       "        }}\n",
       "}});\n",
       "\n",
       "// Listen for the removal of the full notebook cells\n",
       "var notebookContainer = gd.closest('#notebook-container');\n",
       "if (notebookContainer) {{\n",
       "    x.observe(notebookContainer, {childList: true});\n",
       "}}\n",
       "\n",
       "// Listen for the clearing of the current output cell\n",
       "var outputEl = gd.closest('.output');\n",
       "if (outputEl) {{\n",
       "    x.observe(outputEl, {childList: true});\n",
       "}}\n",
       "\n",
       "                        })                };                });            </script>        </div>"
      ]
     },
     "metadata": {},
     "output_type": "display_data"
    }
   ],
   "source": [
    "df_novo = df.copy()\n",
    "df_novo['genre'] = df_novo['genre'].str.replace(' ', '').str.split(',')\n",
    "df_novo = df_novo.explode('genre')\n",
    "\n",
    "top_genres = df_novo['genre'].value_counts().head(5)\n",
    "\n",
    "fig_genres = px.bar(top_genres)\n",
    "fig_genres.show()"
   ]
  },
  {
   "cell_type": "code",
   "execution_count": 27,
   "id": "529bc492-d40b-4d5c-9da5-d5c9cbefa5e3",
   "metadata": {},
   "outputs": [
    {
     "data": {
      "text/plain": [
       "<Axes: xlabel='duration_min', ylabel='Count'>"
      ]
     },
     "execution_count": 27,
     "metadata": {},
     "output_type": "execute_result"
    },
    {
     "data": {
      "image/png": "[encoded data removed]",
      "text/plain": [
       "<Figure size 640x480 with 1 Axes>"
      ]
     },
     "metadata": {},
     "output_type": "display_data"
    }
   ],
   "source": [
    "# Qual é a distribuição das durações das músicas entre as principais faixas do Spotify?\n",
    "\n",
    "df['duration_min'] = df['duration_ms']/60000\n",
    "sns.histplot(df['duration_min'], bins=30)"
   ]
  },
  {
   "cell_type": "code",
   "execution_count": 32,
   "id": "253d18b0-be34-416c-b986-cc77bb93bd02",
   "metadata": {},
   "outputs": [
    {
     "data": {
      "application/vnd.plotly.v1+json": {
       "config": {
        "plotlyServerURL": "https://plot.ly"
       },
       "data": [
        {
         "alignmentgroup": "True",
         "bingroup": "x",
         "hovertemplate": "duration_min=%{x}<br>count=%{y}<extra></extra>",
         "legendgroup": "",
         "marker": {
          "color": "#636efa",
          "line": {
           "color": "black",
           "width": 1.5
          },
          "pattern": {
           "shape": ""
          }
         },
         "name": "",
         "nbinsx": 50,
         "offsetgroup": "",
         "orientation": "v",
         "showlegend": false,
         "type": "histogram",
         "x": [
          3.5193333333333334,
          2.7844333333333333,
          4.175766666666667,
          3.74155,
          3.3426666666666667,
          4.228883333333333,
          4.736666666666666,
          4.309333333333333,
          4.522216666666667,
          5.1192166666666665,
          3.9793166666666666,
          4.48105,
          5.10555,
          4.766,
          4.903333333333333,
          4.733333333333333,
          4.09,
          3.581383333333333,
          4.7571,
          2.6917666666666666,
          3.6146666666666665,
          3.53155,
          4.014433333333334,
          4.074433333333333,
          5.86955,
          5.350666666666666,
          3.7582166666666668,
          3.686,
          5.304666666666667,
          3.5131,
          4.4811,
          3.668433333333333,
          3.7662166666666668,
          4.042666666666666,
          4.058883333333333,
          4.604433333333334,
          3.4644333333333335,
          4.717766666666667,
          3.830433333333333,
          4.26,
          3.656,
          4.36555,
          2.93155,
          3.7048833333333335,
          3.5911,
          3.916,
          3.3657666666666666,
          3.9484333333333335,
          3.3057666666666665,
          4.0611,
          4.4171,
          4.6771,
          4.06755,
          4.570433333333333,
          3.7977666666666665,
          4.289333333333333,
          3.3066666666666666,
          4.062216666666667,
          3.5917666666666666,
          4.644433333333334,
          3.654,
          4.982666666666667,
          3.324666666666667,
          4.286666666666667,
          4.561766666666666,
          4.558883333333333,
          4.256216666666667,
          4.184,
          3.9188833333333335,
          4.366216666666666,
          4.058883333333333,
          3.38,
          3.5803166666666666,
          3.9137666666666666,
          3.8023333333333333,
          3.8366666666666664,
          4.022883333333334,
          3.8988833333333335,
          3.779333333333333,
          4.282883333333333,
          3.947766666666667,
          4.2271,
          4.6911,
          3.8626666666666667,
          4.4791,
          3.68555,
          3.184,
          5.814883333333333,
          5.7851,
          4.268883333333333,
          3.65155,
          3.8348833333333334,
          4.58,
          3.4584333333333332,
          4.944883333333333,
          4.0277666666666665,
          3.3888833333333332,
          5.278883333333333,
          3.4371,
          4.783333333333333,
          3.7933333333333334,
          4.233766666666667,
          6.7351,
          3.844,
          4.414883333333333,
          4.052666666666667,
          3.2693333333333334,
          2.7642166666666665,
          4.332216666666667,
          4.244,
          4.178433333333333,
          3.3933333333333335,
          3.2971,
          4.216433333333334,
          4.4311,
          3.70725,
          3.562666666666667,
          3.6828833333333333,
          4.2264333333333335,
          4.016666666666667,
          4.41555,
          3.7257666666666664,
          3.2337666666666665,
          3.612216666666667,
          5.6288833333333335,
          3.83555,
          4.102666666666667,
          4.5271,
          3.7306666666666666,
          5.339283333333333,
          4.5084333333333335,
          3.5557666666666665,
          3.81955,
          3.6393333333333335,
          3.5504333333333333,
          4.270666666666667,
          3.5248833333333334,
          3.518666666666667,
          4.211766666666667,
          3.85355,
          7.5484333333333336,
          5.682,
          4.441766666666667,
          4.756433333333334,
          5.437333333333333,
          3.6871,
          4.923333333333333,
          4.744433333333333,
          3.2182166666666667,
          3.6437666666666666,
          3.552216666666667,
          3.4877666666666665,
          3.7188833333333333,
          5.0751,
          3.51355,
          4.682883333333334,
          3.4593333333333334,
          3.2584333333333335,
          3.8762166666666666,
          3.296,
          3.8937666666666666,
          4.286666666666667,
          4.601766666666666,
          3.9066666666666667,
          3.4566666666666666,
          4.112,
          3.3588833333333334,
          3.6424333333333334,
          3.702,
          3.54955,
          3.4651,
          3.2893333333333334,
          4.930433333333333,
          3.8611,
          2.70555,
          3.8527666666666667,
          5.498883333333334,
          3.08355,
          4.284433333333333,
          3.68555,
          3.6186666666666665,
          4.368883333333334,
          5.077766666666666,
          5.0471,
          5.046,
          3.6248833333333335,
          5.01555,
          3.65155,
          4.863016666666667,
          4.24,
          3.8133333333333335,
          4.010433333333333,
          3.2831,
          4.2904333333333335,
          4.37955,
          4.411766666666667,
          4.390666666666666,
          4.42555,
          4.866666666666666,
          3.606,
          4.819333333333334,
          4.838666666666667,
          4.0751,
          3.9582166666666665,
          3.4766666666666666,
          3.7344333333333335,
          5.045333333333334,
          3.774,
          5.4051,
          4.9631,
          4.759766666666667,
          3.7091,
          4.606,
          2.8706666666666667,
          4.074433333333333,
          3.6146666666666665,
          3.5662166666666666,
          4.5837666666666665,
          3.4066666666666667,
          3.9404333333333335,
          3.3404333333333334,
          4.22,
          3.3413333333333335,
          3.31,
          3.9019333333333335,
          4.822883333333333,
          3.8391,
          4.148883333333333,
          3.4531,
          3.9766666666666666,
          4.32955,
          3.47415,
          3.9877666666666665,
          4.538216666666667,
          3.7093333333333334,
          3.9633333333333334,
          3.4644333333333335,
          3.804,
          3.7977666666666665,
          4.980883333333334,
          3.72155,
          3.2644333333333333,
          7.2024333333333335,
          4.45155,
          3.955983333333333,
          4.0431,
          4.783333333333333,
          4.483333333333333,
          4.24155,
          3.8,
          4.4526666666666666,
          5.30355,
          3.9711,
          4.4108833333333335,
          3.894433333333333,
          4.48,
          3.358,
          3.4506666666666668,
          4.428433333333333,
          3.83355,
          4.7271,
          4.606216666666667,
          3.4411,
          4.964,
          4.370433333333334,
          4.188,
          3.2088833333333335,
          5.05555,
          2.687333333333333,
          5.131316666666667,
          4.3871,
          3.5717666666666665,
          5.59355,
          4.91,
          4.08555,
          3.7897666666666665,
          3.4,
          3.8933333333333335,
          3.8511,
          3.411766666666667,
          3.61555,
          3.5251,
          3.4348833333333335,
          4.226666666666667,
          2.84155,
          4.49,
          4.49,
          4.033333333333333,
          3.96955,
          3.6126666666666667,
          4.9431,
          3.1448833333333335,
          4.4782166666666665,
          3.628,
          4.283766666666667,
          3.4771,
          5.065333333333333,
          3.778,
          4.922433333333333,
          3.51155,
          3.2244333333333333,
          3.5277666666666665,
          5.370433333333334,
          3.93555,
          3.7571,
          4.542216666666667,
          3.1306666666666665,
          4.9364333333333335,
          3.574,
          4.7595,
          5.4051,
          4.077766666666666,
          3.9806666666666666,
          3.426,
          4.158,
          3.5913333333333335,
          2.71,
          3.6264333333333334,
          3.93155,
          3.636216666666667,
          4.7871,
          3.858,
          5.41,
          4.712883333333333,
          3.9837666666666665,
          4.0873333333333335,
          3.72955,
          3.5011,
          4.142433333333333,
          4.454433333333333,
          3.8653333333333335,
          4.976666666666667,
          4.080433333333334,
          5.99955,
          4.254433333333333,
          3.4577666666666667,
          3.7066666666666666,
          4.966,
          4.759483333333334,
          3.3173333333333335,
          3.0817666666666668,
          3.6904333333333335,
          4.894433333333334,
          3.540216666666667,
          2.7417666666666665,
          4.49955,
          3.96155,
          3.6566666666666667,
          3.9417666666666666,
          4.1791,
          5.6591,
          3.9133333333333336,
          3.4922166666666667,
          3.740666666666667,
          5.066666666666666,
          3.9148833333333335,
          3.6726666666666667,
          3.3653333333333335,
          4.099333333333333,
          4.088216666666667,
          4.985766666666667,
          4.472883333333334,
          4.0551,
          3.5766666666666667,
          3.4731,
          3.562666666666667,
          4.228666666666666,
          4.338883333333333,
          4.91155,
          4.80555,
          3.322,
          3.76755,
          3.646,
          4.687333333333333,
          5.131316666666667,
          4.154883333333333,
          4.3871,
          3.485333333333333,
          3.0304333333333333,
          4.899333333333334,
          3.8751,
          4.096216666666667,
          4.2411,
          4.046216666666667,
          4.000666666666667,
          4.46555,
          5.24,
          3.7328833333333336,
          3.57955,
          4.6448833333333335,
          3.8117666666666667,
          3.9,
          4.92955,
          3.3562166666666666,
          4.283766666666667,
          3.16955,
          3.3668833333333335,
          3.6637666666666666,
          3.717766666666667,
          3.578883333333333,
          4.172883333333333,
          3.4366666666666665,
          3.3133333333333335,
          3.9202166666666667,
          3.88,
          4.2904333333333335,
          3.21,
          3.6288833333333335,
          3.590516666666667,
          4.123766666666667,
          3.5377666666666667,
          3.6871,
          3.1051,
          4.298666666666667,
          3.942,
          3.4766666666666666,
          3.0931,
          3.1213333333333333,
          3.9177666666666666,
          4.97955,
          3.1748833333333333,
          4.288883333333334,
          4.03355,
          2.856,
          3.716666666666667,
          3.4351,
          4.455333333333333,
          3.4328833333333333,
          4.430433333333333,
          3.5648833333333334,
          3.8666666666666667,
          3.9837666666666665,
          3.919766666666667,
          4.086216666666667,
          3.6117666666666666,
          3.540216666666667,
          3.8933333333333335,
          3.58155,
          4.207333333333334,
          3.7188833333333333,
          3.0437666666666665,
          3.2817666666666665,
          4.045766666666666,
          3.2864333333333335,
          4.391766666666666,
          4.144666666666667,
          3.96155,
          4.434433333333334,
          4.556,
          3.4511,
          4.158883333333334,
          4.7051,
          3.201766666666667,
          4.613333333333333,
          3.6117666666666666,
          3.7024333333333335,
          3.34955,
          3.8893333333333335,
          3.5631,
          3.838433333333333,
          3.2253333333333334,
          3.9504333333333332,
          4.118433333333333,
          4.4171,
          3.752883333333333,
          3.2288833333333335,
          4.37555,
          5.608433333333333,
          3.818,
          3.76755,
          3.3668833333333335,
          5.26755,
          2.9391,
          3.748883333333333,
          4.434,
          4.736,
          3.6871,
          3.08555,
          4.846,
          4.040216666666667,
          4.000666666666667,
          3.7517666666666667,
          5.018883333333333,
          3.9788833333333335,
          3.7251,
          3.7668833333333334,
          4.207766666666667,
          3.724,
          4.6306666666666665,
          2.8591,
          4.2377666666666665,
          4.136666666666667,
          3.9,
          3.4226666666666667,
          3.1971,
          4.948,
          3.1584333333333334,
          3.624,
          3.578883333333333,
          6.112216666666667,
          3.3566666666666665,
          4.278883333333333,
          3.4604333333333335,
          4.116,
          3.4851,
          3.49155,
          4.354433333333334,
          4.534666666666666,
          3.894,
          3.9748833333333335,
          5.6288833333333335,
          3.9617666666666667,
          2.81465,
          4.424666666666667,
          3.5511,
          3.9368833333333333,
          6.56355,
          3.84155,
          3.5704333333333333,
          3.92555,
          3.8311,
          3.3893333333333335,
          5.449333333333334,
          4.272433333333334,
          4.1251,
          3.6653333333333333,
          3.7588833333333334,
          3.4288833333333333,
          3.44,
          3.7106666666666666,
          3.9962166666666668,
          3.93,
          3.334216666666667,
          3.6348833333333332,
          4.666883333333334,
          4.179333333333333,
          3.548216666666667,
          4.083316666666667,
          3.9468833333333335,
          4.61005,
          3.83555,
          4.724233333333333,
          3.73755,
          3.78105,
          3.7773333333333334,
          3.830433333333333,
          4.3111,
          3.9931,
          3.9622166666666665,
          3.89,
          4.434433333333334,
          3.522,
          5.426216666666667,
          3.370216666666667,
          3.9791,
          4.512433333333333,
          3.5833333333333335,
          3.7108833333333333,
          3.3308833333333334,
          4.000666666666667,
          3.8588833333333334,
          4.266666666666667,
          3.96755,
          4.066433333333333,
          3.286,
          4.343333333333334,
          3.8977666666666666,
          2.986,
          3.2944333333333335,
          3.4306666666666668,
          3.628433333333333,
          3.3162166666666666,
          3.65,
          4.017766666666667,
          5.6273333333333335,
          3.4699833333333334,
          2.8946666666666667,
          3.66,
          4.14155,
          3.886433333333333,
          3.744,
          3.6582166666666667,
          4.050883333333333,
          4.315333333333333,
          3.8506666666666667,
          4.09,
          3.4584333333333332,
          3.4028833333333335,
          4.9571,
          4.948,
          4.232216666666667,
          4.7984333333333336,
          3.3617666666666666,
          3.7357666666666667,
          3.1493333333333333,
          5.084666666666666,
          3.22755,
          3.7973333333333334,
          3.15555,
          4.260433333333333,
          3.6348833333333332,
          3.6428833333333333,
          4.04555,
          3.79755,
          3.5824333333333334,
          3.982,
          2.9577666666666667,
          3.582666666666667,
          4.314883333333333,
          4.0911,
          4.6131,
          4.698,
          5.050883333333333,
          3.5511,
          4.038216666666667,
          2.5088833333333334,
          4.064666666666667,
          3.759333333333333,
          4.3646666666666665,
          4.574,
          3.77155,
          3.54065,
          3.113766666666667,
          3.4944333333333333,
          3.20355,
          3.3786666666666667,
          3.8226666666666667,
          4.5731,
          3.1666666666666665,
          4.7697666666666665,
          4.030666666666667,
          3.717766666666667,
          4.602666666666667,
          3.6553333333333335,
          4.519333333333333,
          3.367766666666667,
          4.021766666666666,
          3.3186666666666667,
          3.73755,
          3.89955,
          4.004666666666667,
          3.286216666666667,
          4.688666666666666,
          4.566216666666667,
          3.4602166666666667,
          3.1633333333333336,
          4.10555,
          3.3598333333333334,
          3.7828833333333334,
          3.9433333333333334,
          3.830216666666667,
          3.5784333333333334,
          3.9022166666666664,
          3.96955,
          3.0044333333333335,
          4.288216666666667,
          4.572216666666667,
          3.84355,
          4.076883333333333,
          3.459766666666667,
          3.3688833333333332,
          4.6128833333333334,
          3.5197666666666665,
          4.25555,
          3.28155,
          3.6808833333333335,
          3.728,
          4.3411,
          4.210883333333333,
          4.2824333333333335,
          3.568433333333333,
          4.7026666666666666,
          4.806,
          3.4531,
          4.350883333333333,
          3.5877666666666665,
          3.588433333333333,
          3.8644333333333334,
          3.4584333333333332,
          3.0931,
          4.310883333333333,
          3.8151,
          3.6517666666666666,
          3.102883333333333,
          2.79155,
          4.4222166666666665,
          2.8728833333333332,
          4.322216666666667,
          4.1626666666666665,
          3.5528833333333334,
          4.55555,
          4.37555,
          2.5273333333333334,
          5.1851,
          3.70755,
          3.22755,
          3.5011,
          3.8173333333333335,
          3.4748833333333335,
          3.391766666666667,
          4.374433333333333,
          4.599766666666667,
          4.187333333333333,
          4.468666666666667,
          3.6568833333333335,
          3.87555,
          7.476216666666667,
          4.107766666666667,
          2.985333333333333,
          3.718,
          2.5328833333333334,
          3.7185166666666665,
          3.4966666666666666,
          3.5393333333333334,
          3.9004333333333334,
          4.132433333333333,
          3.30945,
          2.5088833333333334,
          3.9508833333333335,
          5.197766666666666,
          3.3308833333333334,
          3.9528833333333333,
          4.117766666666666,
          3.6988833333333333,
          4.12355,
          3.5731,
          3.538,
          3.4922166666666667,
          4.526666666666666,
          2.538883333333333,
          3.4268833333333335,
          4.2617666666666665,
          4.177766666666667,
          4.223333333333334,
          3.4684333333333335,
          4.216216666666667,
          4.228433333333333,
          4.226216666666667,
          3.23155,
          3.367766666666667,
          2.8811,
          4.602666666666667,
          4.11,
          2.772883333333333,
          2.6986666666666665,
          5.561333333333334,
          3.54,
          3.61,
          4.447333333333333,
          3.5862166666666666,
          2.884,
          4.552216666666666,
          2.752,
          3.98,
          5.4151,
          4.872883333333333,
          4.273766666666667,
          4.0431,
          4.200666666666667,
          3.391766666666667,
          7.40555,
          3.0471,
          4.02155,
          3.9726666666666666,
          4.456883333333334,
          3.6588833333333333,
          2.9768833333333333,
          4.248666666666667,
          3.518,
          3.534,
          3.525333333333333,
          3.72555,
          4.350433333333333,
          4.48955,
          4.256883333333334,
          3.4033333333333333,
          3.882433333333333,
          3.9711,
          3.9346666666666668,
          3.2,
          3.1288833333333335,
          3.236883333333333,
          3.7562166666666665,
          4.884433333333333,
          4.6671,
          3.3324333333333334,
          4.932216666666666,
          3.7993333333333332,
          4.791333333333333,
          4.008216666666667,
          4.398666666666666,
          3.91955,
          3.9282166666666667,
          4.355333333333333,
          4.018883333333333,
          3.442,
          3.962666666666667,
          4.5851,
          5.577766666666666,
          4.678,
          3.8566666666666665,
          2.994,
          3.82355,
          4.230216666666666,
          3.0733333333333333,
          3.8666666666666667,
          4.202,
          4.152433333333334,
          4.100883333333333,
          3.6024333333333334,
          3.4966666666666666,
          3.9771,
          3.1668833333333333,
          3.26755,
          4.988883333333333,
          2.4697666666666667,
          3.9584333333333332,
          3.16155,
          3.6704333333333334,
          4.451333333333333,
          4.092,
          4.012433333333333,
          3.74,
          2.623866666666667,
          3.465333333333333,
          5.354883333333333,
          4.7984333333333336,
          4.094666666666667,
          5.464666666666667,
          3.6988833333333333,
          3.5351,
          5.64755,
          3.906,
          3.6973333333333334,
          4.050216666666667,
          3.1742166666666667,
          2.9408833333333333,
          4.177766666666667,
          3.4684333333333335,
          3.5113333333333334,
          3.40155,
          3.3688833333333332,
          4.370666666666667,
          3.14155,
          3.64,
          3.9448833333333333,
          3.3906666666666667,
          2.963766666666667,
          3.39155,
          4.74555,
          3.713766666666667,
          5.222433333333333,
          5.348216666666667,
          4.0711,
          3.586,
          4.5051,
          3.6052833333333334,
          3.42,
          4.032666666666667,
          3.1828833333333333,
          3.4122166666666667,
          5.0473333333333334,
          2.8537666666666666,
          4.0771,
          3.707333333333333,
          4.464433333333333,
          2.8413333333333335,
          4.328666666666667,
          3.5393333333333334,
          3.4579333333333335,
          5.176216666666667,
          4.012666666666667,
          4.174216666666666,
          5.245333333333333,
          2.9991,
          4.158883333333334,
          3.4402166666666667,
          3.7308833333333333,
          3.6304333333333334,
          4.03555,
          3.4193333333333333,
          4.03955,
          3.3891,
          3.45,
          3.6653333333333333,
          3.558666666666667,
          3.66755,
          3.433333333333333,
          3.8911,
          3.7108833333333333,
          3.4006666666666665,
          4.168433333333334,
          4.736433333333333,
          2.9182166666666665,
          4.816666666666666,
          4.642883333333334,
          3.5084333333333335,
          3.9028833333333335,
          4.0071,
          4.563766666666667,
          4.818883333333333,
          3.953333333333333,
          4.360666666666667,
          3.2642166666666665,
          3.4106666666666667,
          3.9377666666666666,
          3.9751,
          3.206,
          3.60555,
          2.9668833333333335,
          3.600433333333333,
          4.73955,
          3.5166666666666666,
          3.687333333333333,
          4.032216666666667,
          3.6086666666666667,
          3.952,
          4.036666666666667,
          3.467766666666667,
          4.270216666666666,
          4.190666666666667,
          3.1477666666666666,
          3.4717666666666664,
          4.615333333333333,
          3.966666666666667,
          3.7751,
          3.453333333333333,
          4.476883333333333,
          3.852883333333333,
          4.458666666666667,
          4.90955,
          5.64755,
          4.49355,
          2.95955,
          3.673766666666667,
          3.7922166666666666,
          3.4388833333333335,
          2.132,
          3.5351,
          4.134433333333333,
          3.183333333333333,
          3.7208833333333335,
          3.2231,
          4.958666666666667,
          4.190666666666667,
          3.5462166666666666,
          3.275333333333333,
          3.2773333333333334,
          3.20955,
          3.7066666666666666,
          3.64,
          5.216433333333334,
          3.441333333333333,
          4.150433333333333,
          5.961766666666667,
          3.3764333333333334,
          4.5051,
          4.256,
          3.85955,
          3.68755,
          3.35355,
          4.9957666666666665,
          3.9997666666666665,
          3.3073333333333332,
          3.27355,
          4.1511,
          3.4288833333333333,
          4.20465,
          3.5162166666666668,
          3.597766666666667,
          4.8291,
          4.143766666666667,
          5.080666666666667,
          4.210883333333333,
          4.174216666666666,
          4.158883333333334,
          3.6771,
          3.2202166666666665,
          3.7784333333333335,
          3.6986666666666665,
          3.744883333333333,
          3.2597666666666667,
          3.4033333333333333,
          4.276883333333333,
          3.452,
          3.3891,
          4.312666666666667,
          4.692666666666667,
          3.367766666666667,
          4.032,
          4.242216666666667,
          5.35155,
          5.4364333333333335,
          3.8524333333333334,
          3.7011,
          4.032216666666667,
          3.3197666666666668,
          3.5248833333333334,
          4.086216666666667,
          4.030883333333334,
          3.6789,
          4.38955,
          4.90955,
          3.4344333333333332,
          3.3282166666666666,
          3.5142166666666665,
          3.3768833333333332,
          3.9248833333333333,
          3.9108833333333335,
          3.5866666666666664,
          3.6172666666666666,
          3.6148833333333332,
          3.1333333333333333,
          3.27555,
          3.5664333333333333,
          3.4737666666666667,
          3.874433333333333,
          3.2074333333333334,
          3.076216666666667,
          3.3591,
          4.292666666666666,
          5.339133333333334,
          4.13555,
          4.570216666666667,
          3.715333333333333,
          4.1928833333333335,
          3.3848833333333332,
          5.1273333333333335,
          3.6351,
          2.7207666666666666,
          4.609333333333334,
          3.68,
          3.0384333333333333,
          3.9093333333333335,
          3.3657666666666666,
          4.396216666666667,
          3.4608833333333333,
          3.6311,
          2.80355,
          3.554883333333333,
          3.6773333333333333,
          2.6239666666666666,
          4.176666666666667,
          4.46755,
          3.788666666666667,
          4.03355,
          4.878433333333334,
          3.8562166666666666,
          3.3993333333333333,
          4.49155,
          3.6033333333333335,
          3.5351,
          4.45,
          3.207333333333333,
          3.570666666666667,
          3.958,
          3.441,
          3.675333333333333,
          3.359766666666667,
          2.86755,
          3.8751,
          3.3171,
          4.050883333333333,
          3.008,
          3.61555,
          3.9633333333333334,
          4.386216666666667,
          3.77555,
          4.82265,
          3.4591,
          3.68755,
          3.8926666666666665,
          3.0304333333333333,
          3.4808833333333333,
          3.4602166666666667,
          3.5051,
          3.7348833333333333,
          4.5324333333333335,
          3.42,
          3.1188833333333332,
          2.94355,
          3.4824333333333333,
          3.5957666666666666,
          3.16155,
          4.231766666666666,
          4.802216666666666,
          4.472,
          3.7956833333333333,
          3.5113333333333334,
          3.5193333333333334,
          3.8057666666666665,
          3.608,
          3.9406666666666665,
          4.883766666666666,
          3.5384333333333333,
          3.5417666666666667,
          3.7666666666666666,
          4.811166666666667,
          3.7128833333333335,
          3.268883333333333,
          3.80155,
          3.358216666666667,
          4.3691,
          3.798216666666667,
          3.7015166666666666,
          3.90755,
          3.25175,
          3.3506666666666667,
          4.747766666666666,
          4.058883333333333,
          3.6662166666666667,
          3.2664333333333335,
          3.1271,
          3.6664333333333334,
          3.2577666666666665,
          3.6571,
          3.247333333333333,
          4.6851,
          4.2051,
          3.1408833333333335,
          3.6277666666666666,
          3.826216666666667,
          3.5044333333333335,
          3.516,
          3.076216666666667,
          3.870216666666667,
          3.80755,
          3.5937333333333332,
          3.3711,
          3.324666666666667,
          3.594883333333333,
          3.254,
          3.446266666666667,
          4.396216666666667,
          3.1797666666666666,
          4.066,
          3.9657666666666667,
          4.576666666666667,
          3.4346666666666668,
          4.645316666666667,
          3.8457666666666666,
          4.04955,
          4.728883333333333,
          4.1431,
          4.935766666666667,
          3.709766666666667,
          3.5208833333333334,
          3.2989166666666665,
          3.4126666666666665,
          3.8426666666666667,
          3.5871,
          3.2906666666666666,
          3.7388833333333333,
          4.0277666666666665,
          3.555616666666667,
          4.99355,
          3.2562166666666665,
          3.9782166666666665,
          4.386216666666667,
          3.764683333333333,
          3.6784333333333334,
          3.928916666666667,
          3.894433333333333,
          3.9548833333333335,
          3.2602166666666665,
          3.1141833333333335,
          4.33755,
          3.33355,
          2.7651333333333334,
          3.7031,
          3.4688833333333333,
          3.993333333333333,
          3.9331,
          3.71755,
          3.82355,
          3.7962166666666666,
          4.2217666666666664,
          5.06355,
          3.1518166666666665,
          3.99355,
          3.8217166666666667,
          3.203333333333333,
          4.754,
          4.706666666666667,
          4.065333333333333,
          3.5568833333333334,
          3.512,
          5.342433333333333,
          3.6473333333333335,
          3.3411,
          3.63355,
          4.0132666666666665,
          4.2291,
          3.3826666666666667,
          4.109783333333334,
          3.836533333333333,
          3.7128833333333335,
          4.0051,
          3.29295,
          4.752,
          3.5871,
          3.223333333333333,
          4.1771,
          3.7964333333333333,
          3.788,
          3.7704333333333335,
          4.774666666666667,
          3.328,
          4.044666666666667,
          3.65555,
          3.6591,
          3.58755,
          3.3133333333333335,
          3.7442166666666665,
          4.650433333333333,
          3.7083333333333335,
          3.4273333333333333,
          5.2297666666666665,
          3.6845833333333333,
          5.488666666666667,
          3.038883333333333,
          3.324666666666667,
          3.6582166666666667,
          3.532,
          3.91155,
          3.0931,
          3.83755,
          3.8913,
          3.3317666666666668,
          4.13555,
          3.7524333333333333,
          3.6504333333333334,
          3.6026666666666665,
          3.5104333333333333,
          5.835333333333334,
          3.5393333333333334,
          3.6365,
          3.4159333333333333,
          3.852883333333333,
          3.490666666666667,
          2.7811,
          3.2144333333333335,
          2.6128833333333334,
          3.3866666666666667,
          3.4402166666666667,
          3.9544333333333332,
          4.187766666666667,
          3.7211,
          4.645316666666667,
          3.79955,
          3.90155,
          3.88,
          3.37555,
          3.5477,
          3.69155,
          2.85555,
          4.084,
          3.864,
          3.662,
          3.2855166666666666,
          4.131766666666667,
          3.3508833333333334,
          3.45555,
          3.8244333333333334,
          3.8004333333333333,
          4.276883333333333,
          3.4444333333333335,
          3.258,
          4.168,
          3.788883333333333,
          3.5313333333333334,
          4.0814,
          3.882433333333333,
          3.3331,
          4.770883333333333,
          3.572216666666667,
          3.4322166666666667,
          3.906,
          4.728433333333333,
          3.5142166666666665,
          3.2662166666666668,
          4.260516666666667,
          3.9869166666666667,
          3.3364333333333334,
          3.70355,
          4.0022166666666665,
          3.784666666666667,
          3.7051,
          3.6991,
          3.0262166666666666,
          3.6824333333333334,
          4.1171,
          4.086433333333333,
          4.818,
          4.193766666666667,
          3.422433333333333,
          4.6231,
          3.6622166666666667,
          4.295333333333334,
          3.566883333333333,
          3.16975,
          4.384216666666667,
          3.11355,
          4.123766666666667,
          3.8913,
          3.9268833333333335,
          4.140216666666666,
          4.723333333333334,
          3.8691,
          2.782216666666667,
          3.67965,
          4.072666666666667,
          3.7984333333333336,
          3.35,
          3.8251,
          4.658433333333333,
          4.250883333333333,
          4.3057,
          2.9352833333333335,
          2.9614166666666666,
          3.9982333333333333,
          4.130883333333333,
          4.006666666666667,
          3.687866666666667,
          3.21155,
          3.514,
          2.6853833333333332,
          3.7997666666666667,
          4.1698,
          3.4353333333333333,
          3.866433333333333,
          3.84555,
          4.628116666666667,
          3.73,
          3.13355,
          3.5818666666666665,
          3.9791,
          2.6192,
          3.113766666666667,
          3.217633333333333,
          3.4719333333333333,
          2.9584333333333332,
          2.62155,
          3.662,
          4.5399,
          4.876433333333333,
          3.9686666666666666,
          4.005766666666666,
          3.8964333333333334,
          4.131766666666667,
          3.5618,
          3.8535166666666667,
          3.2777333333333334,
          3.9084333333333334,
          3.40475,
          4.318366666666667,
          2.9142166666666665,
          3.7831,
          2.506666666666667,
          3.542666666666667,
          3.8146333333333335,
          3.9804333333333335,
          3.9006666666666665,
          2.902,
          4.201766666666667,
          3.5700833333333333,
          3.43955,
          3.7257666666666664,
          3.5953333333333335,
          4.132216666666666,
          5.640216666666666,
          3.3491,
          3.6780333333333335,
          3.5691166666666665,
          3.3351,
          3.4911,
          4.523766666666667,
          3.6893333333333334,
          3.5611,
          5.898216666666666,
          3.406,
          8.0691,
          2.976,
          4.443333333333333,
          3.854,
          4.019333333333333,
          3.600216666666667,
          4.178433333333333,
          3.798,
          3.966666666666667,
          3.7511,
          3.9277,
          3.568,
          3.8686666666666665,
          4.214433333333333,
          3.7837666666666667,
          4.0117666666666665,
          5.438,
          3.5637666666666665,
          3.482666666666667,
          3.8786666666666667,
          3.594533333333333,
          4.999333333333333,
          3.3323,
          3.850216666666667,
          2.8787166666666666,
          3.747333333333333,
          3.602,
          4.492666666666667,
          3.7231,
          3.132,
          3.392,
          3.4903833333333334,
          3.486,
          2.7573333333333334,
          4.1211,
          2.9614166666666666,
          3.164,
          2.84375,
          3.783333333333333,
          4.332233333333333,
          3.532216666666667,
          3.8651,
          3.0713333333333335,
          3.9928833333333333,
          3.2215833333333332,
          3.15665,
          4.447333333333333,
          4.3373333333333335,
          3.5493333333333332,
          3.5622166666666666,
          3.4026666666666667,
          4.289766666666667,
          3.2426833333333334,
          3.7417666666666665,
          3.600216666666667,
          4.097766666666667,
          3.4361,
          3.162,
          3.0625,
          3.217633333333333,
          3.2288833333333335,
          3.3604333333333334,
          3.4688833333333333,
          3.88155,
          4.199766666666667,
          3.8535166666666667,
          3.5806666666666667,
          3.63,
          3.9737666666666667,
          4.415766666666666,
          3.7371,
          3.7382166666666667,
          3.8,
          5.228066666666667,
          3.664,
          3.93555,
          4.056433333333334,
          4.25155,
          3.3231,
          4.759933333333334,
          3.3146666666666667,
          3.85,
          2.923766666666667,
          4.260516666666667,
          3.232,
          2.8311,
          3.802216666666667,
          4.398166666666667,
          3.7893333333333334,
          3.3911,
          3.3749333333333333,
          4.0911,
          3.6533333333333333,
          3.776666666666667,
          3.923033333333333,
          3.4977666666666667,
          3.1395166666666667,
          3.3051,
          4.464433333333333,
          3.7972166666666665,
          3.6224333333333334,
          4.286666666666667,
          4.09155,
          3.0866666666666664,
          3.7763333333333335,
          3.9604333333333335,
          3.1651,
          3.4046666666666665,
          5.391333333333334,
          3.9248833333333333,
          3.55355,
          5.014,
          4.070433333333333,
          3.6371166666666666,
          3.094,
          3.2111666666666667,
          3.621766666666667,
          4.4991,
          3.70355,
          4.494433333333333,
          4.692666666666667,
          3.8254166666666665,
          3.428,
          2.9426833333333335,
          4.203766666666667,
          4.2089,
          3.7877666666666667,
          3.2093333333333334,
          3.5791,
          3.863766666666667,
          4.03755,
          4.336216666666667,
          3.5329166666666665,
          2.9443,
          4.1211,
          3.472166666666667,
          3.3346666666666667,
          3.3351,
          3.16975,
          3.650716666666667,
          3.544,
          2.9593333333333334,
          3.8651,
          3.806,
          2.9530666666666665,
          2.314033333333333,
          3.3722166666666666,
          3.7428833333333333,
          3.6593333333333335,
          2.7844166666666665,
          2.7689666666666666,
          2.66155,
          3.84355,
          3.1024333333333334,
          3.674,
          3.92755,
          3.8226666666666667,
          3.78455,
          3.6550833333333332,
          3.370216666666667,
          3.202,
          4.378216666666667,
          3.5893333333333333,
          3.4290833333333333,
          4.509816666666667,
          3.818,
          3.4624333333333333,
          3.2031666666666667,
          3.0855166666666665,
          3.7537666666666665,
          3.394216666666667,
          3.70155,
          3.9737666666666667,
          3.5584333333333333,
          4.292883333333333,
          3.5571166666666665,
          3.972,
          4.4511,
          3.6317666666666666,
          4.679283333333333,
          3.278216666666667,
          3.93555,
          3.558666666666667,
          3.3219,
          3.2533333333333334,
          3.791333333333333,
          3.7197666666666667,
          3.6053333333333333,
          3.6926666666666668,
          3.550883333333333,
          4.028133333333333,
          3.85,
          3.3242166666666666,
          4.649783333333334,
          3.2222166666666667,
          3.7328833333333336,
          4.739766666666666,
          4.527333333333333,
          3.4313166666666666,
          3.9632,
          3.448,
          3.737633333333333,
          3.78955,
          4.1714166666666666,
          3.5574166666666667,
          3.304883333333333,
          2.9445666666666668,
          3.5096666666666665,
          3.98,
          3.5404,
          3.636216666666667,
          3.830216666666667,
          3.346433333333333,
          3.2877666666666667,
          3.52955,
          3.8388833333333334,
          4.2584333333333335,
          3.0444333333333335,
          3.4444333333333335,
          3.840883333333333,
          2.899766666666667,
          3.8953333333333333,
          4.082666666666666,
          4.925033333333333,
          4.112683333333333,
          4.031233333333334,
          3.7468833333333333,
          2.82955,
          3.6553333333333335,
          4.304433333333333,
          3.346433333333333,
          3.93335,
          3.275333333333333,
          3.99755,
          4.1911,
          3.4545333333333335,
          3.4788,
          4.058166666666667,
          3.2653333333333334,
          5.225766666666667,
          3.1521,
          3.4728833333333333,
          3.2666666666666666,
          3.2141,
          3.626716666666667,
          3.806016666666667,
          3.5584333333333333,
          3.132616666666667,
          3.2617666666666665,
          3.5351,
          3.2969166666666667,
          3.4324333333333334,
          3.7026666666666666,
          3.2988833333333334,
          4,
          3.1933333333333334,
          3.7693333333333334,
          4.563366666666667,
          3.7308833333333333,
          3.818,
          3.65265,
          3.2208833333333335,
          3.5751,
          3.2031666666666667,
          3.9324333333333334,
          3.42655,
          3.628433333333333,
          3.4904166666666665,
          3.3282166666666666,
          3.5571166666666665,
          3.0569,
          4.4511,
          4.074216666666667,
          3.1328833333333335,
          3.9631,
          4.396433333333333,
          3.25935,
          3.358216666666667,
          3.2533333333333334,
          3.652433333333333,
          3.6102166666666666,
          4.2648166666666665,
          3.7647,
          3.71355,
          3.574666666666667,
          3.5491,
          3.3947666666666665,
          3.3242166666666666,
          3.6762166666666665,
          3.36915,
          3.4313166666666666,
          3.3188833333333334,
          3.90355,
          3.276883333333333,
          3.089183333333333,
          3.778966666666667,
          3.8106666666666666,
          3.5902166666666666,
          3.304883333333333,
          3.3129,
          3.765233333333333,
          3.5404,
          3.88895,
          3.44155,
          3.5037666666666665,
          3.377683333333333,
          4.183883333333333,
          3.988,
          3.50955,
          3.37035,
          3.303933333333333,
          4.37535,
          3.24355,
          3.9304333333333332,
          3.876,
          4.104,
          2.668283333333333,
          3.075266666666667,
          4.38955,
          3.8952,
          3.6862666666666666,
          3.8033333333333332,
          3.35,
          4.1848,
          3.6149333333333336,
          3.1191,
          3.571083333333333,
          4.1193333333333335,
          4.39,
          4.999333333333333,
          4.063933333333333,
          3.01555,
          3.41,
          4.4811,
          3.905133333333333,
          3.4686666666666666,
          3.8591,
          2.8933333333333335,
          3.89835,
          3.6717666666666666,
          3.3833333333333333,
          3.9833333333333334,
          3.1504833333333333,
          3.5657666666666668,
          4.864883333333333,
          3.733833333333333,
          3.17795,
          3.9764333333333335,
          3.0451,
          3.354,
          2.9530666666666665,
          3.6068,
          4.089766666666667,
          3.0302,
          3.314216666666667,
          3.4604833333333334,
          3.4057666666666666,
          3.8758166666666667,
          2.95,
          3.1018666666666665,
          3.524583333333333,
          3.100433333333333,
          3.3350666666666666,
          3.3364333333333334,
          3.5337833333333335,
          2.0675833333333333,
          3.530883333333333,
          3.461333333333333,
          4.469766666666667,
          3.0991,
          3.487816666666667,
          1.98555,
          5.719166666666666,
          4.60555,
          3.6813833333333332,
          3.0269,
          2.91555,
          3.4697666666666667,
          3.248266666666667,
          5.06735,
          3.324,
          3.7586666666666666,
          3.294,
          3.533333333333333,
          3.7327,
          3.9937666666666667,
          3.7786666666666666,
          3.4028833333333335,
          3.67155,
          3.0278666666666667,
          3.5811,
          3.9622166666666665,
          2.4040666666666666,
          3.72355,
          4.040116666666667,
          3.3542666666666667,
          3.2268833333333333,
          3.6742333333333335,
          3.6216,
          3.4083666666666668,
          4.982333333333333,
          3.157766666666667,
          4.086666666666667,
          3.8371,
          3.5033333333333334,
          3.7006666666666668,
          3.3526666666666665,
          4.400183333333334,
          3.1464333333333334,
          2.91,
          4.486433333333333,
          3.6917666666666666,
          3.706,
          3.4788833333333335,
          3.0302,
          3.72505,
          3.766383333333333,
          3.5709,
          3.679666666666667,
          3.3162166666666666,
          3.6357666666666666,
          2.88,
          4.4811,
          3.076,
          3.99725,
          3.078866666666667,
          3.377,
          4.223166666666667,
          2.2515,
          3.432,
          3.0651,
          3.580766666666667,
          3.88265,
          5.213666666666667,
          3.157766666666667,
          3.5416666666666665,
          2.96,
          3.524,
          3.3364166666666666,
          4.60245,
          3.7108833333333333,
          3.9769,
          2.990066666666667,
          3.806216666666667,
          6.965333333333334,
          5.051266666666667,
          2.8809,
          2.77675,
          3.1426666666666665,
          3.3800666666666666,
          2.6273833333333334,
          3.4604833333333334,
          3.22,
          3.8278333333333334,
          2.9204833333333333,
          3.8697666666666666,
          3.4124333333333334,
          3.12535,
          3.2924333333333333,
          5.538333333333333,
          2.8470833333333334,
          2.61,
          3.0692166666666667,
          3.2998833333333333,
          3.5959833333333333,
          3.0977166666666665,
          3.3587666666666665,
          3.0137,
          3.3902833333333335,
          2.720266666666667,
          4.090883333333333,
          3.5353333333333334,
          2.031433333333333,
          3.078666666666667,
          3.7285333333333335,
          2.3712166666666668,
          3.2401166666666668,
          3.244666666666667,
          2.93555,
          3.34755,
          3.854433333333333,
          3.02105,
          3.68355,
          3.571483333333333,
          3.272883333333333,
          3.0082166666666668,
          3.171466666666667,
          3.954,
          3.6320833333333336,
          2.885883333333333,
          3.1013333333333333,
          3.6942166666666667,
          2.89665,
          2.8953333333333333,
          3.2748166666666667,
          3.5844,
          3.182,
          3.56655,
          3.3413333333333335,
          4.333333333333333,
          3.116433333333333,
          3.6214666666666666,
          3.1724666666666668,
          5.0357666666666665,
          3.021316666666667,
          3.5744333333333334,
          3.7828833333333334,
          3.570883333333333,
          3.632433333333333,
          3.10385,
          2.1844,
          3.610516666666667,
          3.2906,
          3.2991,
          3.92575,
          3.3617833333333333,
          3.5124333333333335,
          3.5566666666666666,
          3.6906666666666665,
          2.617766666666667,
          3.234783333333333,
          3.1799833333333334,
          2.9771,
          2.626,
          3.3682166666666666,
          3.361,
          2.62675,
          3.59555,
          3.624433333333333,
          3.036,
          2.8217166666666667,
          3.2078333333333333,
          2.94385,
          3.81265,
          3.2204333333333333,
          2.82255,
          3.1508666666666665,
          3.43005,
          2.54855,
          2.6957666666666666,
          5.213666666666667,
          2.830216666666667,
          3.369866666666667,
          3.5416666666666665,
          2.9908166666666665,
          2.1074333333333333,
          2.187333333333333,
          4.2151,
          3.3364166666666666,
          2.974666666666667,
          1.8833333333333333,
          3.0087,
          2.4924333333333335,
          3.3722166666666666,
          3.1581,
          2.1868833333333333,
          4.28285,
          3.423766666666667,
          1.9148833333333333,
          3.5061166666666668,
          2.776,
          4.0008333333333335,
          4.8104,
          3.3351,
          5.028566666666666,
          3.450633333333333,
          3.2606166666666665,
          3.0587833333333334,
          3.174,
          4.02155,
          3.1239333333333335,
          3.0548333333333333,
          3.57005,
          3.819733333333333,
          3.1622166666666667,
          3.34815,
          3.2711,
          3.4906333333333333,
          3.101766666666667,
          4.17555,
          3.0504333333333333,
          3.97,
          3.5598833333333335,
          4.4347666666666665,
          3.8235333333333332,
          2.1544,
          2.722,
          3.1756166666666665,
          3.21905,
          3.82955,
          2.9530833333333333,
          3.05,
          2.6248666666666667,
          2.620033333333333,
          3.1677666666666666,
          2.574116666666667,
          2.9611,
          3.42755,
          3.3237833333333335,
          4.3133333333333335,
          2.9074,
          3.3631166666666665,
          3.76555,
          3.854433333333333,
          3.4364333333333335,
          2.7097,
          2.276133333333333,
          3.1824333333333334,
          3.0303833333333334,
          3.3700666666666668,
          4.00135,
          3.2306166666666667,
          3.144,
          2.916,
          3.0171,
          2.9737666666666667,
          3.3432166666666667,
          2.8504833333333335,
          3.588
         ],
         "xaxis": "x",
         "yaxis": "y"
        }
       ],
       "layout": {
        "autosize": true,
        "barmode": "relative",
        "legend": {
         "tracegroupgap": 0
        },
        "margin": {
         "t": 60
        },
        "template": {
         "data": {
          "bar": [
           {
            "error_x": {
             "color": "#2a3f5f"
            },
            "error_y": {
             "color": "#2a3f5f"
            },
            "marker": {
             "line": {
              "color": "#E5ECF6",
              "width": 0.5
             },
             "pattern": {
              "fillmode": "overlay",
              "size": 10,
              "solidity": 0.2
             }
            },
            "type": "bar"
           }
          ],
          "barpolar": [
           {
            "marker": {
             "line": {
              "color": "#E5ECF6",
              "width": 0.5
             },
             "pattern": {
              "fillmode": "overlay",
              "size": 10,
              "solidity": 0.2
             }
            },
            "type": "barpolar"
           }
          ],
          "carpet": [
           {
            "aaxis": {
             "endlinecolor": "#2a3f5f",
             "gridcolor": "white",
             "linecolor": "white",
             "minorgridcolor": "white",
             "startlinecolor": "#2a3f5f"
            },
            "baxis": {
             "endlinecolor": "#2a3f5f",
             "gridcolor": "white",
             "linecolor": "white",
             "minorgridcolor": "white",
             "startlinecolor": "#2a3f5f"
            },
            "type": "carpet"
           }
          ],
          "choropleth": [
           {
            "colorbar": {
             "outlinewidth": 0,
             "ticks": ""
            },
            "type": "choropleth"
           }
          ],
          "contour": [
           {
            "colorbar": {
             "outlinewidth": 0,
             "ticks": ""
            },
            "colorscale": [
             [
              0,
              "#0d0887"
             ],
             [
              0.1111111111111111,
              "#46039f"
             ],
             [
              0.2222222222222222,
              "#7201a8"
             ],
             [
              0.3333333333333333,
              "#9c179e"
             ],
             [
              0.4444444444444444,
              "#bd3786"
             ],
             [
              0.5555555555555556,
              "#d8576b"
             ],
             [
              0.6666666666666666,
              "#ed7953"
             ],
             [
              0.7777777777777778,
              "#fb9f3a"
             ],
             [
              0.8888888888888888,
              "#fdca26"
             ],
             [
              1,
              "#f0f921"
             ]
            ],
            "type": "contour"
           }
          ],
          "contourcarpet": [
           {
            "colorbar": {
             "outlinewidth": 0,
             "ticks": ""
            },
            "type": "contourcarpet"
           }
          ],
          "heatmap": [
           {
            "colorbar": {
             "outlinewidth": 0,
             "ticks": ""
            },
            "colorscale": [
             [
              0,
              "#0d0887"
             ],
             [
              0.1111111111111111,
              "#46039f"
             ],
             [
              0.2222222222222222,
              "#7201a8"
             ],
             [
              0.3333333333333333,
              "#9c179e"
             ],
             [
              0.4444444444444444,
              "#bd3786"
             ],
             [
              0.5555555555555556,
              "#d8576b"
             ],
             [
              0.6666666666666666,
              "#ed7953"
             ],
             [
              0.7777777777777778,
              "#fb9f3a"
             ],
             [
              0.8888888888888888,
              "#fdca26"
             ],
             [
              1,
              "#f0f921"
             ]
            ],
            "type": "heatmap"
           }
          ],
          "heatmapgl": [
           {
            "colorbar": {
             "outlinewidth": 0,
             "ticks": ""
            },
            "colorscale": [
             [
              0,
              "#0d0887"
             ],
             [
              0.1111111111111111,
              "#46039f"
             ],
             [
              0.2222222222222222,
              "#7201a8"
             ],
             [
              0.3333333333333333,
              "#9c179e"
             ],
             [
              0.4444444444444444,
              "#bd3786"
             ],
             [
              0.5555555555555556,
              "#d8576b"
             ],
             [
              0.6666666666666666,
              "#ed7953"
             ],
             [
              0.7777777777777778,
              "#fb9f3a"
             ],
             [
              0.8888888888888888,
              "#fdca26"
             ],
             [
              1,
              "#f0f921"
             ]
            ],
            "type": "heatmapgl"
           }
          ],
          "histogram": [
           {
            "marker": {
             "pattern": {
              "fillmode": "overlay",
              "size": 10,
              "solidity": 0.2
             }
            },
            "type": "histogram"
           }
          ],
          "histogram2d": [
           {
            "colorbar": {
             "outlinewidth": 0,
             "ticks": ""
            },
            "colorscale": [
             [
              0,
              "#0d0887"
             ],
             [
              0.1111111111111111,
              "#46039f"
             ],
             [
              0.2222222222222222,
              "#7201a8"
             ],
             [
              0.3333333333333333,
              "#9c179e"
             ],
             [
              0.4444444444444444,
              "#bd3786"
             ],
             [
              0.5555555555555556,
              "#d8576b"
             ],
             [
              0.6666666666666666,
              "#ed7953"
             ],
             [
              0.7777777777777778,
              "#fb9f3a"
             ],
             [
              0.8888888888888888,
              "#fdca26"
             ],
             [
              1,
              "#f0f921"
             ]
            ],
            "type": "histogram2d"
           }
          ],
          "histogram2dcontour": [
           {
            "colorbar": {
             "outlinewidth": 0,
             "ticks": ""
            },
            "colorscale": [
             [
              0,
              "#0d0887"
             ],
             [
              0.1111111111111111,
              "#46039f"
             ],
             [
              0.2222222222222222,
              "#7201a8"
             ],
             [
              0.3333333333333333,
              "#9c179e"
             ],
             [
              0.4444444444444444,
              "#bd3786"
             ],
             [
              0.5555555555555556,
              "#d8576b"
             ],
             [
              0.6666666666666666,
              "#ed7953"
             ],
             [
              0.7777777777777778,
              "#fb9f3a"
             ],
             [
              0.8888888888888888,
              "#fdca26"
             ],
             [
              1,
              "#f0f921"
             ]
            ],
            "type": "histogram2dcontour"
           }
          ],
          "mesh3d": [
           {
            "colorbar": {
             "outlinewidth": 0,
             "ticks": ""
            },
            "type": "mesh3d"
           }
          ],
          "parcoords": [
           {
            "line": {
             "colorbar": {
              "outlinewidth": 0,
              "ticks": ""
             }
            },
            "type": "parcoords"
           }
          ],
          "pie": [
           {
            "automargin": true,
            "type": "pie"
           }
          ],
          "scatter": [
           {
            "fillpattern": {
             "fillmode": "overlay",
             "size": 10,
             "solidity": 0.2
            },
            "type": "scatter"
           }
          ],
          "scatter3d": [
           {
            "line": {
             "colorbar": {
              "outlinewidth": 0,
              "ticks": ""
             }
            },
            "marker": {
             "colorbar": {
              "outlinewidth": 0,
              "ticks": ""
             }
            },
            "type": "scatter3d"
           }
          ],
          "scattercarpet": [
           {
            "marker": {
             "colorbar": {
              "outlinewidth": 0,
              "ticks": ""
             }
            },
            "type": "scattercarpet"
           }
          ],
          "scattergeo": [
           {
            "marker": {
             "colorbar": {
              "outlinewidth": 0,
              "ticks": ""
             }
            },
            "type": "scattergeo"
           }
          ],
          "scattergl": [
           {
            "marker": {
             "colorbar": {
              "outlinewidth": 0,
              "ticks": ""
             }
            },
            "type": "scattergl"
           }
          ],
          "scattermapbox": [
           {
            "marker": {
             "colorbar": {
              "outlinewidth": 0,
              "ticks": ""
             }
            },
            "type": "scattermapbox"
           }
          ],
          "scatterpolar": [
           {
            "marker": {
             "colorbar": {
              "outlinewidth": 0,
              "ticks": ""
             }
            },
            "type": "scatterpolar"
           }
          ],
          "scatterpolargl": [
           {
            "marker": {
             "colorbar": {
              "outlinewidth": 0,
              "ticks": ""
             }
            },
            "type": "scatterpolargl"
           }
          ],
          "scatterternary": [
           {
            "marker": {
             "colorbar": {
              "outlinewidth": 0,
              "ticks": ""
             }
            },
            "type": "scatterternary"
           }
          ],
          "surface": [
           {
            "colorbar": {
             "outlinewidth": 0,
             "ticks": ""
            },
            "colorscale": [
             [
              0,
              "#0d0887"
             ],
             [
              0.1111111111111111,
              "#46039f"
             ],
             [
              0.2222222222222222,
              "#7201a8"
             ],
             [
              0.3333333333333333,
              "#9c179e"
             ],
             [
              0.4444444444444444,
              "#bd3786"
             ],
             [
              0.5555555555555556,
              "#d8576b"
             ],
             [
              0.6666666666666666,
              "#ed7953"
             ],
             [
              0.7777777777777778,
              "#fb9f3a"
             ],
             [
              0.8888888888888888,
              "#fdca26"
             ],
             [
              1,
              "#f0f921"
             ]
            ],
            "type": "surface"
           }
          ],
          "table": [
           {
            "cells": {
             "fill": {
              "color": "#EBF0F8"
             },
             "line": {
              "color": "white"
             }
            },
            "header": {
             "fill": {
              "color": "#C8D4E3"
             },
             "line": {
              "color": "white"
             }
            },
            "type": "table"
           }
          ]
         },
         "layout": {
          "annotationdefaults": {
           "arrowcolor": "#2a3f5f",
           "arrowhead": 0,
           "arrowwidth": 1
          },
          "autotypenumbers": "strict",
          "coloraxis": {
           "colorbar": {
            "outlinewidth": 0,
            "ticks": ""
           }
          },
          "colorscale": {
           "diverging": [
            [
             0,
             "#8e0152"
            ],
            [
             0.1,
             "#c51b7d"
            ],
            [
             0.2,
             "#de77ae"
            ],
            [
             0.3,
             "#f1b6da"
            ],
            [
             0.4,
             "#fde0ef"
            ],
            [
             0.5,
             "#f7f7f7"
            ],
            [
             0.6,
             "#e6f5d0"
            ],
            [
             0.7,
             "#b8e186"
            ],
            [
             0.8,
             "#7fbc41"
            ],
            [
             0.9,
             "#4d9221"
            ],
            [
             1,
             "#276419"
            ]
           ],
           "sequential": [
            [
             0,
             "#0d0887"
            ],
            [
             0.1111111111111111,
             "#46039f"
            ],
            [
             0.2222222222222222,
             "#7201a8"
            ],
            [
             0.3333333333333333,
             "#9c179e"
            ],
            [
             0.4444444444444444,
             "#bd3786"
            ],
            [
             0.5555555555555556,
             "#d8576b"
            ],
            [
             0.6666666666666666,
             "#ed7953"
            ],
            [
             0.7777777777777778,
             "#fb9f3a"
            ],
            [
             0.8888888888888888,
             "#fdca26"
            ],
            [
             1,
             "#f0f921"
            ]
           ],
           "sequentialminus": [
            [
             0,
             "#0d0887"
            ],
            [
             0.1111111111111111,
             "#46039f"
            ],
            [
             0.2222222222222222,
             "#7201a8"
            ],
            [
             0.3333333333333333,
             "#9c179e"
            ],
            [
             0.4444444444444444,
             "#bd3786"
            ],
            [
             0.5555555555555556,
             "#d8576b"
            ],
            [
             0.6666666666666666,
             "#ed7953"
            ],
            [
             0.7777777777777778,
             "#fb9f3a"
            ],
            [
             0.8888888888888888,
             "#fdca26"
            ],
            [
             1,
             "#f0f921"
            ]
           ]
          },
          "colorway": [
           "#636efa",
           "#EF553B",
           "#00cc96",
           "#ab63fa",
           "#FFA15A",
           "#19d3f3",
           "#FF6692",
           "#B6E880",
           "#FF97FF",
           "#FECB52"
          ],
          "font": {
           "color": "#2a3f5f"
          },
          "geo": {
           "bgcolor": "white",
           "lakecolor": "white",
           "landcolor": "#E5ECF6",
           "showlakes": true,
           "showland": true,
           "subunitcolor": "white"
          },
          "hoverlabel": {
           "align": "left"
          },
          "hovermode": "closest",
          "mapbox": {
           "style": "light"
          },
          "paper_bgcolor": "white",
          "plot_bgcolor": "#E5ECF6",
          "polar": {
           "angularaxis": {
            "gridcolor": "white",
            "linecolor": "white",
            "ticks": ""
           },
           "bgcolor": "#E5ECF6",
           "radialaxis": {
            "gridcolor": "white",
            "linecolor": "white",
            "ticks": ""
           }
          },
          "scene": {
           "xaxis": {
            "backgroundcolor": "#E5ECF6",
            "gridcolor": "white",
            "gridwidth": 2,
            "linecolor": "white",
            "showbackground": true,
            "ticks": "",
            "zerolinecolor": "white"
           },
           "yaxis": {
            "backgroundcolor": "#E5ECF6",
            "gridcolor": "white",
            "gridwidth": 2,
            "linecolor": "white",
            "showbackground": true,
            "ticks": "",
            "zerolinecolor": "white"
           },
           "zaxis": {
            "backgroundcolor": "#E5ECF6",
            "gridcolor": "white",
            "gridwidth": 2,
            "linecolor": "white",
            "showbackground": true,
            "ticks": "",
            "zerolinecolor": "white"
           }
          },
          "shapedefaults": {
           "line": {
            "color": "#2a3f5f"
           }
          },
          "ternary": {
           "aaxis": {
            "gridcolor": "white",
            "linecolor": "white",
            "ticks": ""
           },
           "baxis": {
            "gridcolor": "white",
            "linecolor": "white",
            "ticks": ""
           },
           "bgcolor": "#E5ECF6",
           "caxis": {
            "gridcolor": "white",
            "linecolor": "white",
            "ticks": ""
           }
          },
          "title": {
           "x": 0.05
          },
          "xaxis": {
           "automargin": true,
           "gridcolor": "white",
           "linecolor": "white",
           "ticks": "",
           "title": {
            "standoff": 15
           },
           "zerolinecolor": "white",
           "zerolinewidth": 2
          },
          "yaxis": {
           "automargin": true,
           "gridcolor": "white",
           "linecolor": "white",
           "ticks": "",
           "title": {
            "standoff": 15
           },
           "zerolinecolor": "white",
           "zerolinewidth": 2
          }
         }
        },
        "xaxis": {
         "anchor": "y",
         "autorange": true,
         "domain": [
          0,
          1
         ],
         "range": [
          1.8000000000000003,
          8.2
         ],
         "title": {
          "text": "duration_min"
         },
         "type": "linear"
        },
        "yaxis": {
         "anchor": "x",
         "autorange": true,
         "domain": [
          0,
          1
         ],
         "range": [
          0,
          323.1578947368421
         ],
         "title": {
          "text": "count"
         }
        }
       }
      },
      "image/png": "[encoded data removed]",
      "text/html": [
       "<div>                            <div id=\"46785c14-2dc5-4fcd-bcb7-1deffe58707d\" class=\"plotly-graph-div\" style=\"height:525px; width:100%;\"></div>            <script type=\"text/javascript\">                require([\"plotly\"], function(Plotly) {                    window.PLOTLYENV=window.PLOTLYENV || {};                                    if (document.getElementById(\"46785c14-2dc5-4fcd-bcb7-1deffe58707d\")) {                    Plotly.newPlot(                        \"46785c14-2dc5-4fcd-bcb7-1deffe58707d\",                        [{\"alignmentgroup\":\"True\",\"bingroup\":\"x\",\"hovertemplate\":\"duration_min=%{x}\\u003cbr\\u003ecount=%{y}\\u003cextra\\u003e\\u003c\\u002fextra\\u003e\",\"legendgroup\":\"\",\"marker\":{\"color\":\"#636efa\",\"pattern\":{\"shape\":\"\"},\"line\":{\"color\":\"black\",\"width\":1.5}},\"name\":\"\",\"nbinsx\":50,\"offsetgroup\":\"\",\"orientation\":\"v\",\"showlegend\":false,\"x\":[3.5193333333333334,2.7844333333333333,4.175766666666667,3.74155,3.3426666666666667,4.228883333333333,4.736666666666666,4.309333333333333,4.522216666666667,5.1192166666666665,3.9793166666666666,4.48105,5.10555,4.766,4.903333333333333,4.733333333333333,4.09,3.581383333333333,4.7571,2.6917666666666666,3.6146666666666665,3.53155,4.014433333333334,4.074433333333333,5.86955,5.350666666666666,3.7582166666666668,3.686,5.304666666666667,3.5131,4.4811,3.668433333333333,3.7662166666666668,4.042666666666666,4.058883333333333,4.604433333333334,3.4644333333333335,4.717766666666667,3.830433333333333,4.26,3.656,4.36555,2.93155,3.7048833333333335,3.5911,3.916,3.3657666666666666,3.9484333333333335,3.3057666666666665,4.0611,4.4171,4.6771,4.06755,4.570433333333333,3.7977666666666665,4.289333333333333,3.3066666666666666,4.062216666666667,3.5917666666666666,4.644433333333334,3.654,4.982666666666667,3.324666666666667,4.286666666666667,4.561766666666666,4.558883333333333,4.256216666666667,4.184,3.9188833333333335,4.366216666666666,4.058883333333333,3.38,3.5803166666666666,3.9137666666666666,3.8023333333333333,3.8366666666666664,4.022883333333334,3.8988833333333335,3.779333333333333,4.282883333333333,3.947766666666667,4.2271,4.6911,3.8626666666666667,4.4791,3.68555,3.184,5.814883333333333,5.7851,4.268883333333333,3.65155,3.8348833333333334,4.58,3.4584333333333332,4.944883333333333,4.0277666666666665,3.3888833333333332,5.278883333333333,3.4371,4.783333333333333,3.7933333333333334,4.233766666666667,6.7351,3.844,4.414883333333333,4.052666666666667,3.2693333333333334,2.7642166666666665,4.332216666666667,4.244,4.178433333333333,3.3933333333333335,3.2971,4.216433333333334,4.4311,3.70725,3.562666666666667,3.6828833333333333,4.2264333333333335,4.016666666666667,4.41555,3.7257666666666664,3.2337666666666665,3.612216666666667,5.6288833333333335,3.83555,4.102666666666667,4.5271,3.7306666666666666,5.339283333333333,4.5084333333333335,3.5557666666666665,3.81955,3.6393333333333335,3.5504333333333333,4.270666666666667,3.5248833333333334,3.518666666666667,4.211766666666667,3.85355,7.5484333333333336,5.682,4.441766666666667,4.756433333333334,5.437333333333333,3.6871,4.923333333333333,4.744433333333333,3.2182166666666667,3.6437666666666666,3.552216666666667,3.4877666666666665,3.7188833333333333,5.0751,3.51355,4.682883333333334,3.4593333333333334,3.2584333333333335,3.8762166666666666,3.296,3.8937666666666666,4.286666666666667,4.601766666666666,3.9066666666666667,3.4566666666666666,4.112,3.3588833333333334,3.6424333333333334,3.702,3.54955,3.4651,3.2893333333333334,4.930433333333333,3.8611,2.70555,3.8527666666666667,5.498883333333334,3.08355,4.284433333333333,3.68555,3.6186666666666665,4.368883333333334,5.077766666666666,5.0471,5.046,3.6248833333333335,5.01555,3.65155,4.863016666666667,4.24,3.8133333333333335,4.010433333333333,3.2831,4.2904333333333335,4.37955,4.411766666666667,4.390666666666666,4.42555,4.866666666666666,3.606,4.819333333333334,4.838666666666667,4.0751,3.9582166666666665,3.4766666666666666,3.7344333333333335,5.045333333333334,3.774,5.4051,4.9631,4.759766666666667,3.7091,4.606,2.8706666666666667,4.074433333333333,3.6146666666666665,3.5662166666666666,4.5837666666666665,3.4066666666666667,3.9404333333333335,3.3404333333333334,4.22,3.3413333333333335,3.31,3.9019333333333335,4.822883333333333,3.8391,4.148883333333333,3.4531,3.9766666666666666,4.32955,3.47415,3.9877666666666665,4.538216666666667,3.7093333333333334,3.9633333333333334,3.4644333333333335,3.804,3.7977666666666665,4.980883333333334,3.72155,3.2644333333333333,7.2024333333333335,4.45155,3.955983333333333,4.0431,4.783333333333333,4.483333333333333,4.24155,3.8,4.4526666666666666,5.30355,3.9711,4.4108833333333335,3.894433333333333,4.48,3.358,3.4506666666666668,4.428433333333333,3.83355,4.7271,4.606216666666667,3.4411,4.964,4.370433333333334,4.188,3.2088833333333335,5.05555,2.687333333333333,5.131316666666667,4.3871,3.5717666666666665,5.59355,4.91,4.08555,3.7897666666666665,3.4,3.8933333333333335,3.8511,3.411766666666667,3.61555,3.5251,3.4348833333333335,4.226666666666667,2.84155,4.49,4.49,4.033333333333333,3.96955,3.6126666666666667,4.9431,3.1448833333333335,4.4782166666666665,3.628,4.283766666666667,3.4771,5.065333333333333,3.778,4.922433333333333,3.51155,3.2244333333333333,3.5277666666666665,5.370433333333334,3.93555,3.7571,4.542216666666667,3.1306666666666665,4.9364333333333335,3.574,4.7595,5.4051,4.077766666666666,3.9806666666666666,3.426,4.158,3.5913333333333335,2.71,3.6264333333333334,3.93155,3.636216666666667,4.7871,3.858,5.41,4.712883333333333,3.9837666666666665,4.0873333333333335,3.72955,3.5011,4.142433333333333,4.454433333333333,3.8653333333333335,4.976666666666667,4.080433333333334,5.99955,4.254433333333333,3.4577666666666667,3.7066666666666666,4.966,4.759483333333334,3.3173333333333335,3.0817666666666668,3.6904333333333335,4.894433333333334,3.540216666666667,2.7417666666666665,4.49955,3.96155,3.6566666666666667,3.9417666666666666,4.1791,5.6591,3.9133333333333336,3.4922166666666667,3.740666666666667,5.066666666666666,3.9148833333333335,3.6726666666666667,3.3653333333333335,4.099333333333333,4.088216666666667,4.985766666666667,4.472883333333334,4.0551,3.5766666666666667,3.4731,3.562666666666667,4.228666666666666,4.338883333333333,4.91155,4.80555,3.322,3.76755,3.646,4.687333333333333,5.131316666666667,4.154883333333333,4.3871,3.485333333333333,3.0304333333333333,4.899333333333334,3.8751,4.096216666666667,4.2411,4.046216666666667,4.000666666666667,4.46555,5.24,3.7328833333333336,3.57955,4.6448833333333335,3.8117666666666667,3.9,4.92955,3.3562166666666666,4.283766666666667,3.16955,3.3668833333333335,3.6637666666666666,3.717766666666667,3.578883333333333,4.172883333333333,3.4366666666666665,3.3133333333333335,3.9202166666666667,3.88,4.2904333333333335,3.21,3.6288833333333335,3.590516666666667,4.123766666666667,3.5377666666666667,3.6871,3.1051,4.298666666666667,3.942,3.4766666666666666,3.0931,3.1213333333333333,3.9177666666666666,4.97955,3.1748833333333333,4.288883333333334,4.03355,2.856,3.716666666666667,3.4351,4.455333333333333,3.4328833333333333,4.430433333333333,3.5648833333333334,3.8666666666666667,3.9837666666666665,3.919766666666667,4.086216666666667,3.6117666666666666,3.540216666666667,3.8933333333333335,3.58155,4.207333333333334,3.7188833333333333,3.0437666666666665,3.2817666666666665,4.045766666666666,3.2864333333333335,4.391766666666666,4.144666666666667,3.96155,4.434433333333334,4.556,3.4511,4.158883333333334,4.7051,3.201766666666667,4.613333333333333,3.6117666666666666,3.7024333333333335,3.34955,3.8893333333333335,3.5631,3.838433333333333,3.2253333333333334,3.9504333333333332,4.118433333333333,4.4171,3.752883333333333,3.2288833333333335,4.37555,5.608433333333333,3.818,3.76755,3.3668833333333335,5.26755,2.9391,3.748883333333333,4.434,4.736,3.6871,3.08555,4.846,4.040216666666667,4.000666666666667,3.7517666666666667,5.018883333333333,3.9788833333333335,3.7251,3.7668833333333334,4.207766666666667,3.724,4.6306666666666665,2.8591,4.2377666666666665,4.136666666666667,3.9,3.4226666666666667,3.1971,4.948,3.1584333333333334,3.624,3.578883333333333,6.112216666666667,3.3566666666666665,4.278883333333333,3.4604333333333335,4.116,3.4851,3.49155,4.354433333333334,4.534666666666666,3.894,3.9748833333333335,5.6288833333333335,3.9617666666666667,2.81465,4.424666666666667,3.5511,3.9368833333333333,6.56355,3.84155,3.5704333333333333,3.92555,3.8311,3.3893333333333335,5.449333333333334,4.272433333333334,4.1251,3.6653333333333333,3.7588833333333334,3.4288833333333333,3.44,3.7106666666666666,3.9962166666666668,3.93,3.334216666666667,3.6348833333333332,4.666883333333334,4.179333333333333,3.548216666666667,4.083316666666667,3.9468833333333335,4.61005,3.83555,4.724233333333333,3.73755,3.78105,3.7773333333333334,3.830433333333333,4.3111,3.9931,3.9622166666666665,3.89,4.434433333333334,3.522,5.426216666666667,3.370216666666667,3.9791,4.512433333333333,3.5833333333333335,3.7108833333333333,3.3308833333333334,4.000666666666667,3.8588833333333334,4.266666666666667,3.96755,4.066433333333333,3.286,4.343333333333334,3.8977666666666666,2.986,3.2944333333333335,3.4306666666666668,3.628433333333333,3.3162166666666666,3.65,4.017766666666667,5.6273333333333335,3.4699833333333334,2.8946666666666667,3.66,4.14155,3.886433333333333,3.744,3.6582166666666667,4.050883333333333,4.315333333333333,3.8506666666666667,4.09,3.4584333333333332,3.4028833333333335,4.9571,4.948,4.232216666666667,4.7984333333333336,3.3617666666666666,3.7357666666666667,3.1493333333333333,5.084666666666666,3.22755,3.7973333333333334,3.15555,4.260433333333333,3.6348833333333332,3.6428833333333333,4.04555,3.79755,3.5824333333333334,3.982,2.9577666666666667,3.582666666666667,4.314883333333333,4.0911,4.6131,4.698,5.050883333333333,3.5511,4.038216666666667,2.5088833333333334,4.064666666666667,3.759333333333333,4.3646666666666665,4.574,3.77155,3.54065,3.113766666666667,3.4944333333333333,3.20355,3.3786666666666667,3.8226666666666667,4.5731,3.1666666666666665,4.7697666666666665,4.030666666666667,3.717766666666667,4.602666666666667,3.6553333333333335,4.519333333333333,3.367766666666667,4.021766666666666,3.3186666666666667,3.73755,3.89955,4.004666666666667,3.286216666666667,4.688666666666666,4.566216666666667,3.4602166666666667,3.1633333333333336,4.10555,3.3598333333333334,3.7828833333333334,3.9433333333333334,3.830216666666667,3.5784333333333334,3.9022166666666664,3.96955,3.0044333333333335,4.288216666666667,4.572216666666667,3.84355,4.076883333333333,3.459766666666667,3.3688833333333332,4.6128833333333334,3.5197666666666665,4.25555,3.28155,3.6808833333333335,3.728,4.3411,4.210883333333333,4.2824333333333335,3.568433333333333,4.7026666666666666,4.806,3.4531,4.350883333333333,3.5877666666666665,3.588433333333333,3.8644333333333334,3.4584333333333332,3.0931,4.310883333333333,3.8151,3.6517666666666666,3.102883333333333,2.79155,4.4222166666666665,2.8728833333333332,4.322216666666667,4.1626666666666665,3.5528833333333334,4.55555,4.37555,2.5273333333333334,5.1851,3.70755,3.22755,3.5011,3.8173333333333335,3.4748833333333335,3.391766666666667,4.374433333333333,4.599766666666667,4.187333333333333,4.468666666666667,3.6568833333333335,3.87555,7.476216666666667,4.107766666666667,2.985333333333333,3.718,2.5328833333333334,3.7185166666666665,3.4966666666666666,3.5393333333333334,3.9004333333333334,4.132433333333333,3.30945,2.5088833333333334,3.9508833333333335,5.197766666666666,3.3308833333333334,3.9528833333333333,4.117766666666666,3.6988833333333333,4.12355,3.5731,3.538,3.4922166666666667,4.526666666666666,2.538883333333333,3.4268833333333335,4.2617666666666665,4.177766666666667,4.223333333333334,3.4684333333333335,4.216216666666667,4.228433333333333,4.226216666666667,3.23155,3.367766666666667,2.8811,4.602666666666667,4.11,2.772883333333333,2.6986666666666665,5.561333333333334,3.54,3.61,4.447333333333333,3.5862166666666666,2.884,4.552216666666666,2.752,3.98,5.4151,4.872883333333333,4.273766666666667,4.0431,4.200666666666667,3.391766666666667,7.40555,3.0471,4.02155,3.9726666666666666,4.456883333333334,3.6588833333333333,2.9768833333333333,4.248666666666667,3.518,3.534,3.525333333333333,3.72555,4.350433333333333,4.48955,4.256883333333334,3.4033333333333333,3.882433333333333,3.9711,3.9346666666666668,3.2,3.1288833333333335,3.236883333333333,3.7562166666666665,4.884433333333333,4.6671,3.3324333333333334,4.932216666666666,3.7993333333333332,4.791333333333333,4.008216666666667,4.398666666666666,3.91955,3.9282166666666667,4.355333333333333,4.018883333333333,3.442,3.962666666666667,4.5851,5.577766666666666,4.678,3.8566666666666665,2.994,3.82355,4.230216666666666,3.0733333333333333,3.8666666666666667,4.202,4.152433333333334,4.100883333333333,3.6024333333333334,3.4966666666666666,3.9771,3.1668833333333333,3.26755,4.988883333333333,2.4697666666666667,3.9584333333333332,3.16155,3.6704333333333334,4.451333333333333,4.092,4.012433333333333,3.74,2.623866666666667,3.465333333333333,5.354883333333333,4.7984333333333336,4.094666666666667,5.464666666666667,3.6988833333333333,3.5351,5.64755,3.906,3.6973333333333334,4.050216666666667,3.1742166666666667,2.9408833333333333,4.177766666666667,3.4684333333333335,3.5113333333333334,3.40155,3.3688833333333332,4.370666666666667,3.14155,3.64,3.9448833333333333,3.3906666666666667,2.963766666666667,3.39155,4.74555,3.713766666666667,5.222433333333333,5.348216666666667,4.0711,3.586,4.5051,3.6052833333333334,3.42,4.032666666666667,3.1828833333333333,3.4122166666666667,5.0473333333333334,2.8537666666666666,4.0771,3.707333333333333,4.464433333333333,2.8413333333333335,4.328666666666667,3.5393333333333334,3.4579333333333335,5.176216666666667,4.012666666666667,4.174216666666666,5.245333333333333,2.9991,4.158883333333334,3.4402166666666667,3.7308833333333333,3.6304333333333334,4.03555,3.4193333333333333,4.03955,3.3891,3.45,3.6653333333333333,3.558666666666667,3.66755,3.433333333333333,3.8911,3.7108833333333333,3.4006666666666665,4.168433333333334,4.736433333333333,2.9182166666666665,4.816666666666666,4.642883333333334,3.5084333333333335,3.9028833333333335,4.0071,4.563766666666667,4.818883333333333,3.953333333333333,4.360666666666667,3.2642166666666665,3.4106666666666667,3.9377666666666666,3.9751,3.206,3.60555,2.9668833333333335,3.600433333333333,4.73955,3.5166666666666666,3.687333333333333,4.032216666666667,3.6086666666666667,3.952,4.036666666666667,3.467766666666667,4.270216666666666,4.190666666666667,3.1477666666666666,3.4717666666666664,4.615333333333333,3.966666666666667,3.7751,3.453333333333333,4.476883333333333,3.852883333333333,4.458666666666667,4.90955,5.64755,4.49355,2.95955,3.673766666666667,3.7922166666666666,3.4388833333333335,2.132,3.5351,4.134433333333333,3.183333333333333,3.7208833333333335,3.2231,4.958666666666667,4.190666666666667,3.5462166666666666,3.275333333333333,3.2773333333333334,3.20955,3.7066666666666666,3.64,5.216433333333334,3.441333333333333,4.150433333333333,5.961766666666667,3.3764333333333334,4.5051,4.256,3.85955,3.68755,3.35355,4.9957666666666665,3.9997666666666665,3.3073333333333332,3.27355,4.1511,3.4288833333333333,4.20465,3.5162166666666668,3.597766666666667,4.8291,4.143766666666667,5.080666666666667,4.210883333333333,4.174216666666666,4.158883333333334,3.6771,3.2202166666666665,3.7784333333333335,3.6986666666666665,3.744883333333333,3.2597666666666667,3.4033333333333333,4.276883333333333,3.452,3.3891,4.312666666666667,4.692666666666667,3.367766666666667,4.032,4.242216666666667,5.35155,5.4364333333333335,3.8524333333333334,3.7011,4.032216666666667,3.3197666666666668,3.5248833333333334,4.086216666666667,4.030883333333334,3.6789,4.38955,4.90955,3.4344333333333332,3.3282166666666666,3.5142166666666665,3.3768833333333332,3.9248833333333333,3.9108833333333335,3.5866666666666664,3.6172666666666666,3.6148833333333332,3.1333333333333333,3.27555,3.5664333333333333,3.4737666666666667,3.874433333333333,3.2074333333333334,3.076216666666667,3.3591,4.292666666666666,5.339133333333334,4.13555,4.570216666666667,3.715333333333333,4.1928833333333335,3.3848833333333332,5.1273333333333335,3.6351,2.7207666666666666,4.609333333333334,3.68,3.0384333333333333,3.9093333333333335,3.3657666666666666,4.396216666666667,3.4608833333333333,3.6311,2.80355,3.554883333333333,3.6773333333333333,2.6239666666666666,4.176666666666667,4.46755,3.788666666666667,4.03355,4.878433333333334,3.8562166666666666,3.3993333333333333,4.49155,3.6033333333333335,3.5351,4.45,3.207333333333333,3.570666666666667,3.958,3.441,3.675333333333333,3.359766666666667,2.86755,3.8751,3.3171,4.050883333333333,3.008,3.61555,3.9633333333333334,4.386216666666667,3.77555,4.82265,3.4591,3.68755,3.8926666666666665,3.0304333333333333,3.4808833333333333,3.4602166666666667,3.5051,3.7348833333333333,4.5324333333333335,3.42,3.1188833333333332,2.94355,3.4824333333333333,3.5957666666666666,3.16155,4.231766666666666,4.802216666666666,4.472,3.7956833333333333,3.5113333333333334,3.5193333333333334,3.8057666666666665,3.608,3.9406666666666665,4.883766666666666,3.5384333333333333,3.5417666666666667,3.7666666666666666,4.811166666666667,3.7128833333333335,3.268883333333333,3.80155,3.358216666666667,4.3691,3.798216666666667,3.7015166666666666,3.90755,3.25175,3.3506666666666667,4.747766666666666,4.058883333333333,3.6662166666666667,3.2664333333333335,3.1271,3.6664333333333334,3.2577666666666665,3.6571,3.247333333333333,4.6851,4.2051,3.1408833333333335,3.6277666666666666,3.826216666666667,3.5044333333333335,3.516,3.076216666666667,3.870216666666667,3.80755,3.5937333333333332,3.3711,3.324666666666667,3.594883333333333,3.254,3.446266666666667,4.396216666666667,3.1797666666666666,4.066,3.9657666666666667,4.576666666666667,3.4346666666666668,4.645316666666667,3.8457666666666666,4.04955,4.728883333333333,4.1431,4.935766666666667,3.709766666666667,3.5208833333333334,3.2989166666666665,3.4126666666666665,3.8426666666666667,3.5871,3.2906666666666666,3.7388833333333333,4.0277666666666665,3.555616666666667,4.99355,3.2562166666666665,3.9782166666666665,4.386216666666667,3.764683333333333,3.6784333333333334,3.928916666666667,3.894433333333333,3.9548833333333335,3.2602166666666665,3.1141833333333335,4.33755,3.33355,2.7651333333333334,3.7031,3.4688833333333333,3.993333333333333,3.9331,3.71755,3.82355,3.7962166666666666,4.2217666666666664,5.06355,3.1518166666666665,3.99355,3.8217166666666667,3.203333333333333,4.754,4.706666666666667,4.065333333333333,3.5568833333333334,3.512,5.342433333333333,3.6473333333333335,3.3411,3.63355,4.0132666666666665,4.2291,3.3826666666666667,4.109783333333334,3.836533333333333,3.7128833333333335,4.0051,3.29295,4.752,3.5871,3.223333333333333,4.1771,3.7964333333333333,3.788,3.7704333333333335,4.774666666666667,3.328,4.044666666666667,3.65555,3.6591,3.58755,3.3133333333333335,3.7442166666666665,4.650433333333333,3.7083333333333335,3.4273333333333333,5.2297666666666665,3.6845833333333333,5.488666666666667,3.038883333333333,3.324666666666667,3.6582166666666667,3.532,3.91155,3.0931,3.83755,3.8913,3.3317666666666668,4.13555,3.7524333333333333,3.6504333333333334,3.6026666666666665,3.5104333333333333,5.835333333333334,3.5393333333333334,3.6365,3.4159333333333333,3.852883333333333,3.490666666666667,2.7811,3.2144333333333335,2.6128833333333334,3.3866666666666667,3.4402166666666667,3.9544333333333332,4.187766666666667,3.7211,4.645316666666667,3.79955,3.90155,3.88,3.37555,3.5477,3.69155,2.85555,4.084,3.864,3.662,3.2855166666666666,4.131766666666667,3.3508833333333334,3.45555,3.8244333333333334,3.8004333333333333,4.276883333333333,3.4444333333333335,3.258,4.168,3.788883333333333,3.5313333333333334,4.0814,3.882433333333333,3.3331,4.770883333333333,3.572216666666667,3.4322166666666667,3.906,4.728433333333333,3.5142166666666665,3.2662166666666668,4.260516666666667,3.9869166666666667,3.3364333333333334,3.70355,4.0022166666666665,3.784666666666667,3.7051,3.6991,3.0262166666666666,3.6824333333333334,4.1171,4.086433333333333,4.818,4.193766666666667,3.422433333333333,4.6231,3.6622166666666667,4.295333333333334,3.566883333333333,3.16975,4.384216666666667,3.11355,4.123766666666667,3.8913,3.9268833333333335,4.140216666666666,4.723333333333334,3.8691,2.782216666666667,3.67965,4.072666666666667,3.7984333333333336,3.35,3.8251,4.658433333333333,4.250883333333333,4.3057,2.9352833333333335,2.9614166666666666,3.9982333333333333,4.130883333333333,4.006666666666667,3.687866666666667,3.21155,3.514,2.6853833333333332,3.7997666666666667,4.1698,3.4353333333333333,3.866433333333333,3.84555,4.628116666666667,3.73,3.13355,3.5818666666666665,3.9791,2.6192,3.113766666666667,3.217633333333333,3.4719333333333333,2.9584333333333332,2.62155,3.662,4.5399,4.876433333333333,3.9686666666666666,4.005766666666666,3.8964333333333334,4.131766666666667,3.5618,3.8535166666666667,3.2777333333333334,3.9084333333333334,3.40475,4.318366666666667,2.9142166666666665,3.7831,2.506666666666667,3.542666666666667,3.8146333333333335,3.9804333333333335,3.9006666666666665,2.902,4.201766666666667,3.5700833333333333,3.43955,3.7257666666666664,3.5953333333333335,4.132216666666666,5.640216666666666,3.3491,3.6780333333333335,3.5691166666666665,3.3351,3.4911,4.523766666666667,3.6893333333333334,3.5611,5.898216666666666,3.406,8.0691,2.976,4.443333333333333,3.854,4.019333333333333,3.600216666666667,4.178433333333333,3.798,3.966666666666667,3.7511,3.9277,3.568,3.8686666666666665,4.214433333333333,3.7837666666666667,4.0117666666666665,5.438,3.5637666666666665,3.482666666666667,3.8786666666666667,3.594533333333333,4.999333333333333,3.3323,3.850216666666667,2.8787166666666666,3.747333333333333,3.602,4.492666666666667,3.7231,3.132,3.392,3.4903833333333334,3.486,2.7573333333333334,4.1211,2.9614166666666666,3.164,2.84375,3.783333333333333,4.332233333333333,3.532216666666667,3.8651,3.0713333333333335,3.9928833333333333,3.2215833333333332,3.15665,4.447333333333333,4.3373333333333335,3.5493333333333332,3.5622166666666666,3.4026666666666667,4.289766666666667,3.2426833333333334,3.7417666666666665,3.600216666666667,4.097766666666667,3.4361,3.162,3.0625,3.217633333333333,3.2288833333333335,3.3604333333333334,3.4688833333333333,3.88155,4.199766666666667,3.8535166666666667,3.5806666666666667,3.63,3.9737666666666667,4.415766666666666,3.7371,3.7382166666666667,3.8,5.228066666666667,3.664,3.93555,4.056433333333334,4.25155,3.3231,4.759933333333334,3.3146666666666667,3.85,2.923766666666667,4.260516666666667,3.232,2.8311,3.802216666666667,4.398166666666667,3.7893333333333334,3.3911,3.3749333333333333,4.0911,3.6533333333333333,3.776666666666667,3.923033333333333,3.4977666666666667,3.1395166666666667,3.3051,4.464433333333333,3.7972166666666665,3.6224333333333334,4.286666666666667,4.09155,3.0866666666666664,3.7763333333333335,3.9604333333333335,3.1651,3.4046666666666665,5.391333333333334,3.9248833333333333,3.55355,5.014,4.070433333333333,3.6371166666666666,3.094,3.2111666666666667,3.621766666666667,4.4991,3.70355,4.494433333333333,4.692666666666667,3.8254166666666665,3.428,2.9426833333333335,4.203766666666667,4.2089,3.7877666666666667,3.2093333333333334,3.5791,3.863766666666667,4.03755,4.336216666666667,3.5329166666666665,2.9443,4.1211,3.472166666666667,3.3346666666666667,3.3351,3.16975,3.650716666666667,3.544,2.9593333333333334,3.8651,3.806,2.9530666666666665,2.314033333333333,3.3722166666666666,3.7428833333333333,3.6593333333333335,2.7844166666666665,2.7689666666666666,2.66155,3.84355,3.1024333333333334,3.674,3.92755,3.8226666666666667,3.78455,3.6550833333333332,3.370216666666667,3.202,4.378216666666667,3.5893333333333333,3.4290833333333333,4.509816666666667,3.818,3.4624333333333333,3.2031666666666667,3.0855166666666665,3.7537666666666665,3.394216666666667,3.70155,3.9737666666666667,3.5584333333333333,4.292883333333333,3.5571166666666665,3.972,4.4511,3.6317666666666666,4.679283333333333,3.278216666666667,3.93555,3.558666666666667,3.3219,3.2533333333333334,3.791333333333333,3.7197666666666667,3.6053333333333333,3.6926666666666668,3.550883333333333,4.028133333333333,3.85,3.3242166666666666,4.649783333333334,3.2222166666666667,3.7328833333333336,4.739766666666666,4.527333333333333,3.4313166666666666,3.9632,3.448,3.737633333333333,3.78955,4.1714166666666666,3.5574166666666667,3.304883333333333,2.9445666666666668,3.5096666666666665,3.98,3.5404,3.636216666666667,3.830216666666667,3.346433333333333,3.2877666666666667,3.52955,3.8388833333333334,4.2584333333333335,3.0444333333333335,3.4444333333333335,3.840883333333333,2.899766666666667,3.8953333333333333,4.082666666666666,4.925033333333333,4.112683333333333,4.031233333333334,3.7468833333333333,2.82955,3.6553333333333335,4.304433333333333,3.346433333333333,3.93335,3.275333333333333,3.99755,4.1911,3.4545333333333335,3.4788,4.058166666666667,3.2653333333333334,5.225766666666667,3.1521,3.4728833333333333,3.2666666666666666,3.2141,3.626716666666667,3.806016666666667,3.5584333333333333,3.132616666666667,3.2617666666666665,3.5351,3.2969166666666667,3.4324333333333334,3.7026666666666666,3.2988833333333334,4.0,3.1933333333333334,3.7693333333333334,4.563366666666667,3.7308833333333333,3.818,3.65265,3.2208833333333335,3.5751,3.2031666666666667,3.9324333333333334,3.42655,3.628433333333333,3.4904166666666665,3.3282166666666666,3.5571166666666665,3.0569,4.4511,4.074216666666667,3.1328833333333335,3.9631,4.396433333333333,3.25935,3.358216666666667,3.2533333333333334,3.652433333333333,3.6102166666666666,4.2648166666666665,3.7647,3.71355,3.574666666666667,3.5491,3.3947666666666665,3.3242166666666666,3.6762166666666665,3.36915,3.4313166666666666,3.3188833333333334,3.90355,3.276883333333333,3.089183333333333,3.778966666666667,3.8106666666666666,3.5902166666666666,3.304883333333333,3.3129,3.765233333333333,3.5404,3.88895,3.44155,3.5037666666666665,3.377683333333333,4.183883333333333,3.988,3.50955,3.37035,3.303933333333333,4.37535,3.24355,3.9304333333333332,3.876,4.104,2.668283333333333,3.075266666666667,4.38955,3.8952,3.6862666666666666,3.8033333333333332,3.35,4.1848,3.6149333333333336,3.1191,3.571083333333333,4.1193333333333335,4.39,4.999333333333333,4.063933333333333,3.01555,3.41,4.4811,3.905133333333333,3.4686666666666666,3.8591,2.8933333333333335,3.89835,3.6717666666666666,3.3833333333333333,3.9833333333333334,3.1504833333333333,3.5657666666666668,4.864883333333333,3.733833333333333,3.17795,3.9764333333333335,3.0451,3.354,2.9530666666666665,3.6068,4.089766666666667,3.0302,3.314216666666667,3.4604833333333334,3.4057666666666666,3.8758166666666667,2.95,3.1018666666666665,3.524583333333333,3.100433333333333,3.3350666666666666,3.3364333333333334,3.5337833333333335,2.0675833333333333,3.530883333333333,3.461333333333333,4.469766666666667,3.0991,3.487816666666667,1.98555,5.719166666666666,4.60555,3.6813833333333332,3.0269,2.91555,3.4697666666666667,3.248266666666667,5.06735,3.324,3.7586666666666666,3.294,3.533333333333333,3.7327,3.9937666666666667,3.7786666666666666,3.4028833333333335,3.67155,3.0278666666666667,3.5811,3.9622166666666665,2.4040666666666666,3.72355,4.040116666666667,3.3542666666666667,3.2268833333333333,3.6742333333333335,3.6216,3.4083666666666668,4.982333333333333,3.157766666666667,4.086666666666667,3.8371,3.5033333333333334,3.7006666666666668,3.3526666666666665,4.400183333333334,3.1464333333333334,2.91,4.486433333333333,3.6917666666666666,3.706,3.4788833333333335,3.0302,3.72505,3.766383333333333,3.5709,3.679666666666667,3.3162166666666666,3.6357666666666666,2.88,4.4811,3.076,3.99725,3.078866666666667,3.377,4.223166666666667,2.2515,3.432,3.0651,3.580766666666667,3.88265,5.213666666666667,3.157766666666667,3.5416666666666665,2.96,3.524,3.3364166666666666,4.60245,3.7108833333333333,3.9769,2.990066666666667,3.806216666666667,6.965333333333334,5.051266666666667,2.8809,2.77675,3.1426666666666665,3.3800666666666666,2.6273833333333334,3.4604833333333334,3.22,3.8278333333333334,2.9204833333333333,3.8697666666666666,3.4124333333333334,3.12535,3.2924333333333333,5.538333333333333,2.8470833333333334,2.61,3.0692166666666667,3.2998833333333333,3.5959833333333333,3.0977166666666665,3.3587666666666665,3.0137,3.3902833333333335,2.720266666666667,4.090883333333333,3.5353333333333334,2.031433333333333,3.078666666666667,3.7285333333333335,2.3712166666666668,3.2401166666666668,3.244666666666667,2.93555,3.34755,3.854433333333333,3.02105,3.68355,3.571483333333333,3.272883333333333,3.0082166666666668,3.171466666666667,3.954,3.6320833333333336,2.885883333333333,3.1013333333333333,3.6942166666666667,2.89665,2.8953333333333333,3.2748166666666667,3.5844,3.182,3.56655,3.3413333333333335,4.333333333333333,3.116433333333333,3.6214666666666666,3.1724666666666668,5.0357666666666665,3.021316666666667,3.5744333333333334,3.7828833333333334,3.570883333333333,3.632433333333333,3.10385,2.1844,3.610516666666667,3.2906,3.2991,3.92575,3.3617833333333333,3.5124333333333335,3.5566666666666666,3.6906666666666665,2.617766666666667,3.234783333333333,3.1799833333333334,2.9771,2.626,3.3682166666666666,3.361,2.62675,3.59555,3.624433333333333,3.036,2.8217166666666667,3.2078333333333333,2.94385,3.81265,3.2204333333333333,2.82255,3.1508666666666665,3.43005,2.54855,2.6957666666666666,5.213666666666667,2.830216666666667,3.369866666666667,3.5416666666666665,2.9908166666666665,2.1074333333333333,2.187333333333333,4.2151,3.3364166666666666,2.974666666666667,1.8833333333333333,3.0087,2.4924333333333335,3.3722166666666666,3.1581,2.1868833333333333,4.28285,3.423766666666667,1.9148833333333333,3.5061166666666668,2.776,4.0008333333333335,4.8104,3.3351,5.028566666666666,3.450633333333333,3.2606166666666665,3.0587833333333334,3.174,4.02155,3.1239333333333335,3.0548333333333333,3.57005,3.819733333333333,3.1622166666666667,3.34815,3.2711,3.4906333333333333,3.101766666666667,4.17555,3.0504333333333333,3.97,3.5598833333333335,4.4347666666666665,3.8235333333333332,2.1544,2.722,3.1756166666666665,3.21905,3.82955,2.9530833333333333,3.05,2.6248666666666667,2.620033333333333,3.1677666666666666,2.574116666666667,2.9611,3.42755,3.3237833333333335,4.3133333333333335,2.9074,3.3631166666666665,3.76555,3.854433333333333,3.4364333333333335,2.7097,2.276133333333333,3.1824333333333334,3.0303833333333334,3.3700666666666668,4.00135,3.2306166666666667,3.144,2.916,3.0171,2.9737666666666667,3.3432166666666667,2.8504833333333335,3.588],\"xaxis\":\"x\",\"yaxis\":\"y\",\"type\":\"histogram\"}],                        {\"template\":{\"data\":{\"histogram2dcontour\":[{\"type\":\"histogram2dcontour\",\"colorbar\":{\"outlinewidth\":0,\"ticks\":\"\"},\"colorscale\":[[0.0,\"#0d0887\"],[0.1111111111111111,\"#46039f\"],[0.2222222222222222,\"#7201a8\"],[0.3333333333333333,\"#9c179e\"],[0.4444444444444444,\"#bd3786\"],[0.5555555555555556,\"#d8576b\"],[0.6666666666666666,\"#ed7953\"],[0.7777777777777778,\"#fb9f3a\"],[0.8888888888888888,\"#fdca26\"],[1.0,\"#f0f921\"]]}],\"choropleth\":[{\"type\":\"choropleth\",\"colorbar\":{\"outlinewidth\":0,\"ticks\":\"\"}}],\"histogram2d\":[{\"type\":\"histogram2d\",\"colorbar\":{\"outlinewidth\":0,\"ticks\":\"\"},\"colorscale\":[[0.0,\"#0d0887\"],[0.1111111111111111,\"#46039f\"],[0.2222222222222222,\"#7201a8\"],[0.3333333333333333,\"#9c179e\"],[0.4444444444444444,\"#bd3786\"],[0.5555555555555556,\"#d8576b\"],[0.6666666666666666,\"#ed7953\"],[0.7777777777777778,\"#fb9f3a\"],[0.8888888888888888,\"#fdca26\"],[1.0,\"#f0f921\"]]}],\"heatmap\":[{\"type\":\"heatmap\",\"colorbar\":{\"outlinewidth\":0,\"ticks\":\"\"},\"colorscale\":[[0.0,\"#0d0887\"],[0.1111111111111111,\"#46039f\"],[0.2222222222222222,\"#7201a8\"],[0.3333333333333333,\"#9c179e\"],[0.4444444444444444,\"#bd3786\"],[0.5555555555555556,\"#d8576b\"],[0.6666666666666666,\"#ed7953\"],[0.7777777777777778,\"#fb9f3a\"],[0.8888888888888888,\"#fdca26\"],[1.0,\"#f0f921\"]]}],\"heatmapgl\":[{\"type\":\"heatmapgl\",\"colorbar\":{\"outlinewidth\":0,\"ticks\":\"\"},\"colorscale\":[[0.0,\"#0d0887\"],[0.1111111111111111,\"#46039f\"],[0.2222222222222222,\"#7201a8\"],[0.3333333333333333,\"#9c179e\"],[0.4444444444444444,\"#bd3786\"],[0.5555555555555556,\"#d8576b\"],[0.6666666666666666,\"#ed7953\"],[0.7777777777777778,\"#fb9f3a\"],[0.8888888888888888,\"#fdca26\"],[1.0,\"#f0f921\"]]}],\"contourcarpet\":[{\"type\":\"contourcarpet\",\"colorbar\":{\"outlinewidth\":0,\"ticks\":\"\"}}],\"contour\":[{\"type\":\"contour\",\"colorbar\":{\"outlinewidth\":0,\"ticks\":\"\"},\"colorscale\":[[0.0,\"#0d0887\"],[0.1111111111111111,\"#46039f\"],[0.2222222222222222,\"#7201a8\"],[0.3333333333333333,\"#9c179e\"],[0.4444444444444444,\"#bd3786\"],[0.5555555555555556,\"#d8576b\"],[0.6666666666666666,\"#ed7953\"],[0.7777777777777778,\"#fb9f3a\"],[0.8888888888888888,\"#fdca26\"],[1.0,\"#f0f921\"]]}],\"surface\":[{\"type\":\"surface\",\"colorbar\":{\"outlinewidth\":0,\"ticks\":\"\"},\"colorscale\":[[0.0,\"#0d0887\"],[0.1111111111111111,\"#46039f\"],[0.2222222222222222,\"#7201a8\"],[0.3333333333333333,\"#9c179e\"],[0.4444444444444444,\"#bd3786\"],[0.5555555555555556,\"#d8576b\"],[0.6666666666666666,\"#ed7953\"],[0.7777777777777778,\"#fb9f3a\"],[0.8888888888888888,\"#fdca26\"],[1.0,\"#f0f921\"]]}],\"mesh3d\":[{\"type\":\"mesh3d\",\"colorbar\":{\"outlinewidth\":0,\"ticks\":\"\"}}],\"scatter\":[{\"fillpattern\":{\"fillmode\":\"overlay\",\"size\":10,\"solidity\":0.2},\"type\":\"scatter\"}],\"parcoords\":[{\"type\":\"parcoords\",\"line\":{\"colorbar\":{\"outlinewidth\":0,\"ticks\":\"\"}}}],\"scatterpolargl\":[{\"type\":\"scatterpolargl\",\"marker\":{\"colorbar\":{\"outlinewidth\":0,\"ticks\":\"\"}}}],\"bar\":[{\"error_x\":{\"color\":\"#2a3f5f\"},\"error_y\":{\"color\":\"#2a3f5f\"},\"marker\":{\"line\":{\"color\":\"#E5ECF6\",\"width\":0.5},\"pattern\":{\"fillmode\":\"overlay\",\"size\":10,\"solidity\":0.2}},\"type\":\"bar\"}],\"scattergeo\":[{\"type\":\"scattergeo\",\"marker\":{\"colorbar\":{\"outlinewidth\":0,\"ticks\":\"\"}}}],\"scatterpolar\":[{\"type\":\"scatterpolar\",\"marker\":{\"colorbar\":{\"outlinewidth\":0,\"ticks\":\"\"}}}],\"histogram\":[{\"marker\":{\"pattern\":{\"fillmode\":\"overlay\",\"size\":10,\"solidity\":0.2}},\"type\":\"histogram\"}],\"scattergl\":[{\"type\":\"scattergl\",\"marker\":{\"colorbar\":{\"outlinewidth\":0,\"ticks\":\"\"}}}],\"scatter3d\":[{\"type\":\"scatter3d\",\"line\":{\"colorbar\":{\"outlinewidth\":0,\"ticks\":\"\"}},\"marker\":{\"colorbar\":{\"outlinewidth\":0,\"ticks\":\"\"}}}],\"scattermapbox\":[{\"type\":\"scattermapbox\",\"marker\":{\"colorbar\":{\"outlinewidth\":0,\"ticks\":\"\"}}}],\"scatterternary\":[{\"type\":\"scatterternary\",\"marker\":{\"colorbar\":{\"outlinewidth\":0,\"ticks\":\"\"}}}],\"scattercarpet\":[{\"type\":\"scattercarpet\",\"marker\":{\"colorbar\":{\"outlinewidth\":0,\"ticks\":\"\"}}}],\"carpet\":[{\"aaxis\":{\"endlinecolor\":\"#2a3f5f\",\"gridcolor\":\"white\",\"linecolor\":\"white\",\"minorgridcolor\":\"white\",\"startlinecolor\":\"#2a3f5f\"},\"baxis\":{\"endlinecolor\":\"#2a3f5f\",\"gridcolor\":\"white\",\"linecolor\":\"white\",\"minorgridcolor\":\"white\",\"startlinecolor\":\"#2a3f5f\"},\"type\":\"carpet\"}],\"table\":[{\"cells\":{\"fill\":{\"color\":\"#EBF0F8\"},\"line\":{\"color\":\"white\"}},\"header\":{\"fill\":{\"color\":\"#C8D4E3\"},\"line\":{\"color\":\"white\"}},\"type\":\"table\"}],\"barpolar\":[{\"marker\":{\"line\":{\"color\":\"#E5ECF6\",\"width\":0.5},\"pattern\":{\"fillmode\":\"overlay\",\"size\":10,\"solidity\":0.2}},\"type\":\"barpolar\"}],\"pie\":[{\"automargin\":true,\"type\":\"pie\"}]},\"layout\":{\"autotypenumbers\":\"strict\",\"colorway\":[\"#636efa\",\"#EF553B\",\"#00cc96\",\"#ab63fa\",\"#FFA15A\",\"#19d3f3\",\"#FF6692\",\"#B6E880\",\"#FF97FF\",\"#FECB52\"],\"font\":{\"color\":\"#2a3f5f\"},\"hovermode\":\"closest\",\"hoverlabel\":{\"align\":\"left\"},\"paper_bgcolor\":\"white\",\"plot_bgcolor\":\"#E5ECF6\",\"polar\":{\"bgcolor\":\"#E5ECF6\",\"angularaxis\":{\"gridcolor\":\"white\",\"linecolor\":\"white\",\"ticks\":\"\"},\"radialaxis\":{\"gridcolor\":\"white\",\"linecolor\":\"white\",\"ticks\":\"\"}},\"ternary\":{\"bgcolor\":\"#E5ECF6\",\"aaxis\":{\"gridcolor\":\"white\",\"linecolor\":\"white\",\"ticks\":\"\"},\"baxis\":{\"gridcolor\":\"white\",\"linecolor\":\"white\",\"ticks\":\"\"},\"caxis\":{\"gridcolor\":\"white\",\"linecolor\":\"white\",\"ticks\":\"\"}},\"coloraxis\":{\"colorbar\":{\"outlinewidth\":0,\"ticks\":\"\"}},\"colorscale\":{\"sequential\":[[0.0,\"#0d0887\"],[0.1111111111111111,\"#46039f\"],[0.2222222222222222,\"#7201a8\"],[0.3333333333333333,\"#9c179e\"],[0.4444444444444444,\"#bd3786\"],[0.5555555555555556,\"#d8576b\"],[0.6666666666666666,\"#ed7953\"],[0.7777777777777778,\"#fb9f3a\"],[0.8888888888888888,\"#fdca26\"],[1.0,\"#f0f921\"]],\"sequentialminus\":[[0.0,\"#0d0887\"],[0.1111111111111111,\"#46039f\"],[0.2222222222222222,\"#7201a8\"],[0.3333333333333333,\"#9c179e\"],[0.4444444444444444,\"#bd3786\"],[0.5555555555555556,\"#d8576b\"],[0.6666666666666666,\"#ed7953\"],[0.7777777777777778,\"#fb9f3a\"],[0.8888888888888888,\"#fdca26\"],[1.0,\"#f0f921\"]],\"diverging\":[[0,\"#8e0152\"],[0.1,\"#c51b7d\"],[0.2,\"#de77ae\"],[0.3,\"#f1b6da\"],[0.4,\"#fde0ef\"],[0.5,\"#f7f7f7\"],[0.6,\"#e6f5d0\"],[0.7,\"#b8e186\"],[0.8,\"#7fbc41\"],[0.9,\"#4d9221\"],[1,\"#276419\"]]},\"xaxis\":{\"gridcolor\":\"white\",\"linecolor\":\"white\",\"ticks\":\"\",\"title\":{\"standoff\":15},\"zerolinecolor\":\"white\",\"automargin\":true,\"zerolinewidth\":2},\"yaxis\":{\"gridcolor\":\"white\",\"linecolor\":\"white\",\"ticks\":\"\",\"title\":{\"standoff\":15},\"zerolinecolor\":\"white\",\"automargin\":true,\"zerolinewidth\":2},\"scene\":{\"xaxis\":{\"backgroundcolor\":\"#E5ECF6\",\"gridcolor\":\"white\",\"linecolor\":\"white\",\"showbackground\":true,\"ticks\":\"\",\"zerolinecolor\":\"white\",\"gridwidth\":2},\"yaxis\":{\"backgroundcolor\":\"#E5ECF6\",\"gridcolor\":\"white\",\"linecolor\":\"white\",\"showbackground\":true,\"ticks\":\"\",\"zerolinecolor\":\"white\",\"gridwidth\":2},\"zaxis\":{\"backgroundcolor\":\"#E5ECF6\",\"gridcolor\":\"white\",\"linecolor\":\"white\",\"showbackground\":true,\"ticks\":\"\",\"zerolinecolor\":\"white\",\"gridwidth\":2}},\"shapedefaults\":{\"line\":{\"color\":\"#2a3f5f\"}},\"annotationdefaults\":{\"arrowcolor\":\"#2a3f5f\",\"arrowhead\":0,\"arrowwidth\":1},\"geo\":{\"bgcolor\":\"white\",\"landcolor\":\"#E5ECF6\",\"subunitcolor\":\"white\",\"showland\":true,\"showlakes\":true,\"lakecolor\":\"white\"},\"title\":{\"x\":0.05},\"mapbox\":{\"style\":\"light\"}}},\"xaxis\":{\"anchor\":\"y\",\"domain\":[0.0,1.0],\"title\":{\"text\":\"duration_min\"}},\"yaxis\":{\"anchor\":\"x\",\"domain\":[0.0,1.0],\"title\":{\"text\":\"count\"}},\"legend\":{\"tracegroupgap\":0},\"margin\":{\"t\":60},\"barmode\":\"relative\"},                        {\"responsive\": true}                    ).then(function(){\n",
       "                            \n",
       "var gd = document.getElementById('46785c14-2dc5-4fcd-bcb7-1deffe58707d');\n",
       "var x = new MutationObserver(function (mutations, observer) {{\n",
       "        var display = window.getComputedStyle(gd).display;\n",
       "        if (!display || display === 'none') {{\n",
       "            console.log([gd, 'removed!']);\n",
       "            Plotly.purge(gd);\n",
       "            observer.disconnect();\n",
       "        }}\n",
       "}});\n",
       "\n",
       "// Listen for the removal of the full notebook cells\n",
       "var notebookContainer = gd.closest('#notebook-container');\n",
       "if (notebookContainer) {{\n",
       "    x.observe(notebookContainer, {childList: true});\n",
       "}}\n",
       "\n",
       "// Listen for the clearing of the current output cell\n",
       "var outputEl = gd.closest('.output');\n",
       "if (outputEl) {{\n",
       "    x.observe(outputEl, {childList: true});\n",
       "}}\n",
       "\n",
       "                        })                };                });            </script>        </div>"
      ]
     },
     "metadata": {},
     "output_type": "display_data"
    }
   ],
   "source": [
    "df['duration_min'] = df['duration_ms']/60000\n",
    "fig_duration = px.histogram(df, x='duration_min', nbins=50)\n",
    "fig_duration.update_traces(marker_line_color='black', marker_line_width=1.5)\n",
    "fig_duration.show()"
   ]
  },
  {
   "cell_type": "code",
   "execution_count": null,
   "id": "65da57b7-9816-44a0-8638-8dcacb8f3f21",
   "metadata": {},
   "outputs": [],
   "source": []
  }
 ],
 "metadata": {
  "kernelspec": {
   "display_name": "Python 3 (ipykernel)",
   "language": "python",
   "name": "python3"
  },
  "language_info": {
   "codemirror_mode": {
    "name": "ipython",
    "version": 3
   },
   "file_extension": ".py",
   "mimetype": "text/x-python",
   "name": "python",
   "nbconvert_exporter": "python",
   "pygments_lexer": "ipython3",
   "version": "3.11.5"
  }
 },
 "nbformat": 4,
 "nbformat_minor": 5
}
