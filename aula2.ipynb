{
 "cells": [
  {
   "cell_type": "markdown",
   "id": "c5aeb29e-25fb-4d99-9356-6d3a0f178f21",
   "metadata": {},
   "source": [
    "## Estruturas Condicionais"
   ]
  },
  {
   "cell_type": "code",
   "execution_count": 23,
   "id": "c4c75f00-e4b3-4f83-b49a-50849a4b8840",
   "metadata": {},
   "outputs": [
    {
     "name": "stdout",
     "output_type": "stream",
     "text": [
      "pode tirar a cnh\n",
      "comando fora do if\n"
     ]
    }
   ],
   "source": [
    "idade = 50\n",
    "tem_habilitacao = False\n",
    "\n",
    "if tem_habilitacao and idade >= 18:\n",
    "    print(\"pode dirigir\")\n",
    "elif idade >= 18:\n",
    "    print(\"pode tirar a cnh\")\n",
    "else:\n",
    "    print(\"de menor, espere alguns anos\")\n",
    "\n",
    "print(\"comando fora do if\")"
   ]
  },
  {
   "cell_type": "markdown",
   "id": "04be4acf-2b2a-497b-b2c2-1e4f6fc08df8",
   "metadata": {},
   "source": [
    "## Estrutura de repetição"
   ]
  },
  {
   "cell_type": "code",
   "execution_count": 32,
   "id": "cf378841-e34d-489f-ade8-1c8ba691e6a4",
   "metadata": {},
   "outputs": [
    {
     "name": "stdout",
     "output_type": "stream",
     "text": [
      "1 de menor\n",
      "2 de menor\n",
      "3 de menor\n",
      "4 de menor\n",
      "5 de menor\n",
      "6 de menor\n",
      "7 de menor\n",
      "8 de menor\n",
      "9 de menor\n",
      "10 de menor\n",
      "11 de menor\n",
      "12 de menor\n",
      "13 de menor\n",
      "14 de menor\n",
      "15 de menor\n",
      "16 de menor\n",
      "17 de menor\n"
     ]
    }
   ],
   "source": [
    "#incremento\n",
    "\n",
    "idade = 1\n",
    "\n",
    "while idade < 18:\n",
    "    print(idade, \"de menor\")\n",
    "    idade = idade + 1\n",
    "    "
   ]
  },
  {
   "cell_type": "code",
   "execution_count": 33,
   "id": "ed881ef1-568e-49e6-9446-b86a60664d05",
   "metadata": {},
   "outputs": [
    {
     "name": "stdin",
     "output_type": "stream",
     "text": [
      "Você deseja sair? (s) n\n",
      "Você deseja sair? (s) n\n",
      "Você deseja sair? (s) n\n",
      "Você deseja sair? (s) n\n",
      "Você deseja sair? (s) nn\n",
      "Você deseja sair? (s) s\n"
     ]
    }
   ],
   "source": [
    "#perguntando algo\n",
    "\n",
    "continuar = True\n",
    "while continuar:\n",
    "    resposta = input(\"Você deseja sair? (s)\")\n",
    "    if resposta == 's':\n",
    "        break"
   ]
  },
  {
   "cell_type": "code",
   "execution_count": 42,
   "id": "e13f9a73-2dfd-4330-90bd-6947a640386b",
   "metadata": {},
   "outputs": [
    {
     "name": "stdout",
     "output_type": "stream",
     "text": [
      "A chave é nome, e o valor é Poliana\n",
      "A chave é idade, e o valor é 25\n",
      "A chave é profissao, e o valor é professora\n"
     ]
    }
   ],
   "source": [
    "lista = [1,2,3,4,5,9,8,7,6]\n",
    "soma = 0\n",
    "\n",
    "dicionario = {'nome':'Poliana', 'idade': 25, 'profissao':'professora'}\n",
    "\n",
    "for elemento in lista:\n",
    "    if(elemento > 5):\n",
    "        soma = soma + 1\n",
    "\n",
    "#print(soma)\n",
    "\n",
    "for chave, valor in dicionario.items():\n",
    "    print(f\"A chave é {chave}, e o valor é {valor}\")"
   ]
  },
  {
   "cell_type": "code",
   "execution_count": 52,
   "id": "f3968124-35a6-421a-8e3c-54d97177c16f",
   "metadata": {},
   "outputs": [
    {
     "name": "stdout",
     "output_type": "stream",
     "text": [
      "4\n",
      "6\n",
      "8\n",
      "10\n"
     ]
    }
   ],
   "source": [
    "# objeto iterável range - inicial (incluso), final (n incluso), incremento\n",
    "for i in range(4, 11, 2):\n",
    "    print(i)"
   ]
  },
  {
   "cell_type": "markdown",
   "id": "7bf03754-667b-45ec-b874-c103b38a8354",
   "metadata": {},
   "source": [
    "## Funções"
   ]
  },
  {
   "cell_type": "code",
   "execution_count": 55,
   "id": "8ce8d497-0c5a-49d5-9f9d-b243a34cfb62",
   "metadata": {},
   "outputs": [],
   "source": [
    "def multiplica_e_soma(num1, b, c):\n",
    "    mult = num1*b\n",
    "    soma = mult+c\n",
    "    return soma"
   ]
  },
  {
   "cell_type": "code",
   "execution_count": 56,
   "id": "e0f84a62-1896-4760-a382-8ceb8411c04e",
   "metadata": {},
   "outputs": [
    {
     "data": {
      "text/plain": [
       "8"
      ]
     },
     "execution_count": 56,
     "metadata": {},
     "output_type": "execute_result"
    }
   ],
   "source": [
    "multiplica_e_soma(2, 2, 4)"
   ]
  },
  {
   "cell_type": "code",
   "execution_count": 57,
   "id": "959b2221-5f8d-4f71-8c7a-02725e31942b",
   "metadata": {},
   "outputs": [],
   "source": [
    "pessoas = []\n",
    "\n",
    "def cadastro():\n",
    "    nome = input(\"Qual o seu nome? \")\n",
    "    cpf = input(\"Qual o seu cpf? \")\n",
    "    idade = input(\"Qual a sua idade? \")\n",
    "    dic = {'nome':nome, 'cpf':cpf, 'idade':idade}\n",
    "    pessoas.append(dic)"
   ]
  },
  {
   "cell_type": "code",
   "execution_count": 60,
   "id": "dc028afd-cb2b-4dc0-a454-ecbbea2a8f94",
   "metadata": {},
   "outputs": [
    {
     "name": "stdin",
     "output_type": "stream",
     "text": [
      "Qual o seu nome?  Regina\n",
      "Qual o seu cpf?  5848905483\n",
      "Qual a sua idade?  26\n"
     ]
    }
   ],
   "source": [
    "cadastro()"
   ]
  },
  {
   "cell_type": "code",
   "execution_count": 61,
   "id": "ba914a1f-834e-4c20-a15c-0c9b78297b9a",
   "metadata": {},
   "outputs": [
    {
     "data": {
      "text/plain": [
       "[{'nome': 'Poliana', 'cpf': '549859403589', 'idade': '25'},\n",
       " {'nome': 'Washington ', 'cpf': '578439578493', 'idade': '40'},\n",
       " {'nome': 'Regina', 'cpf': '5848905483', 'idade': '26'}]"
      ]
     },
     "execution_count": 61,
     "metadata": {},
     "output_type": "execute_result"
    }
   ],
   "source": [
    "pessoas"
   ]
  },
  {
   "cell_type": "code",
   "execution_count": 62,
   "id": "5049ff3c-2c99-48b3-b829-8ef779e07049",
   "metadata": {},
   "outputs": [],
   "source": [
    "matriz = [[1, 2], [3, 4]]"
   ]
  },
  {
   "cell_type": "code",
   "execution_count": null,
   "id": "9a7d550d-86b9-434f-921a-a2f192793989",
   "metadata": {},
   "outputs": [],
   "source": []
  },
  {
   "cell_type": "markdown",
   "id": "2c9d5e4d-7dcb-4cb3-a2df-7b7e331fb031",
   "metadata": {},
   "source": [
    "## APIs"
   ]
  },
  {
   "cell_type": "code",
   "execution_count": 64,
   "id": "0e6eb893-cd6d-48fd-a891-ab84149ab563",
   "metadata": {},
   "outputs": [
    {
     "name": "stdout",
     "output_type": "stream",
     "text": [
      "Requirement already satisfied: requests in /Users/pnferreira-m1/anaconda3/envs/koru/lib/python3.11/site-packages (2.31.0)\n",
      "Requirement already satisfied: charset-normalizer<4,>=2 in /Users/pnferreira-m1/anaconda3/envs/koru/lib/python3.11/site-packages (from requests) (3.3.2)\n",
      "Requirement already satisfied: idna<4,>=2.5 in /Users/pnferreira-m1/anaconda3/envs/koru/lib/python3.11/site-packages (from requests) (3.6)\n",
      "Requirement already satisfied: urllib3<3,>=1.21.1 in /Users/pnferreira-m1/anaconda3/envs/koru/lib/python3.11/site-packages (from requests) (2.2.1)\n",
      "Requirement already satisfied: certifi>=2017.4.17 in /Users/pnferreira-m1/anaconda3/envs/koru/lib/python3.11/site-packages (from requests) (2024.2.2)\n",
      "Note: you may need to restart the kernel to use updated packages.\n"
     ]
    }
   ],
   "source": [
    "#pip install requests"
   ]
  },
  {
   "cell_type": "code",
   "execution_count": 1,
   "id": "afca5b1c-69bb-42e0-9864-984bb6ba3fd4",
   "metadata": {},
   "outputs": [],
   "source": [
    "import requests"
   ]
  },
  {
   "cell_type": "code",
   "execution_count": 2,
   "id": "d9cd7c35-1cc4-42d0-8c07-c3eaf081eee9",
   "metadata": {},
   "outputs": [],
   "source": [
    "url = 'https://api.brasilaberto.com/v1/zipcode/45028170'\n",
    "\n",
    "resposta = requests.get(url)"
   ]
  },
  {
   "cell_type": "code",
   "execution_count": 6,
   "id": "e9575f35-ca52-4b4e-b99a-5433c6aedeb1",
   "metadata": {},
   "outputs": [
    {
     "data": {
      "text/plain": [
       "'Vitória da Conquista'"
      ]
     },
     "execution_count": 6,
     "metadata": {},
     "output_type": "execute_result"
    }
   ],
   "source": [
    "resposta.json()['result']['city']"
   ]
  },
  {
   "cell_type": "markdown",
   "id": "8c80be9a-f500-4048-8033-fa0bfba755de",
   "metadata": {},
   "source": [
    "### Big Query"
   ]
  },
  {
   "cell_type": "code",
   "execution_count": 1,
   "id": "fa76f2a8-cd75-4c12-860e-d0a218171a8f",
   "metadata": {},
   "outputs": [],
   "source": [
    "#pip install google-cloud-bigquery"
   ]
  },
  {
   "cell_type": "code",
   "execution_count": 1,
   "id": "eaf1b6f9-136f-4b35-822a-121ff85540ed",
   "metadata": {},
   "outputs": [],
   "source": [
    "from google.cloud import bigquery\n",
    "from google.oauth2 import service_account"
   ]
  },
  {
   "cell_type": "code",
   "execution_count": 2,
   "id": "c5e795ac-d554-41d8-b9b4-57a13ccde2bf",
   "metadata": {},
   "outputs": [],
   "source": [
    "credenciais = service_account.Credentials.from_service_account_file(filename='koru-419914-1307a43ad7ad.json',\n",
    "                                                                   scopes=['https://www.googleapis.com/auth/cloud-platform'])"
   ]
  },
  {
   "cell_type": "code",
   "execution_count": 3,
   "id": "a1241e57-0079-4ba3-8cad-77289a6b0d2d",
   "metadata": {},
   "outputs": [],
   "source": [
    "client = bigquery.Client(credentials=credenciais)"
   ]
  },
  {
   "cell_type": "code",
   "execution_count": 4,
   "id": "b6348626-970a-41c2-89f9-ef8e34d4d68c",
   "metadata": {},
   "outputs": [],
   "source": [
    "dataset_id = 'koru-419914.iristeste'\n",
    "table_id = 'koru-419914.iristeste.iris'"
   ]
  },
  {
   "cell_type": "code",
   "execution_count": 5,
   "id": "3eed6a43-138f-423f-b60d-b1cef08f22b1",
   "metadata": {},
   "outputs": [],
   "source": [
    "dataset = bigquery.Dataset(dataset_id)\n",
    "dataset.location = 'US'\n",
    "dataset = client.create_dataset(dataset, exists_ok=True)"
   ]
  },
  {
   "cell_type": "code",
   "execution_count": 6,
   "id": "81579fbb-30fa-4ac6-a201-01e61cc8ef44",
   "metadata": {},
   "outputs": [],
   "source": [
    "schema = [\n",
    "    bigquery.SchemaField(\"species\", \"STRING\", mode=\"REQUIRED\"),\n",
    "    bigquery.SchemaField(\"petal_width\", \"FLOAT64\", mode=\"REQUIRED\"),\n",
    "    bigquery.SchemaField(\"sepal_width\", \"FLOAT64\", mode=\"REQUIRED\"),\n",
    "    bigquery.SchemaField(\"petal_length\", \"FLOAT64\", mode=\"REQUIRED\"),\n",
    "    bigquery.SchemaField(\"sepal_length\", \"FLOAT64\", mode=\"REQUIRED\"),\n",
    "]"
   ]
  },
  {
   "cell_type": "code",
   "execution_count": 7,
   "id": "c54e58b0-a5ae-4b54-934f-97e40886fa4c",
   "metadata": {},
   "outputs": [],
   "source": [
    "tabela = bigquery.Table(table_id, schema=schema)\n",
    "tabela = client.create_table(tabela, exists_ok=True)"
   ]
  },
  {
   "cell_type": "code",
   "execution_count": 8,
   "id": "0dd86c29-3bef-4e11-9800-9d20d164d899",
   "metadata": {},
   "outputs": [],
   "source": [
    "import pandas as pd\n",
    "\n",
    "df = pd.read_csv('IRIS.csv')"
   ]
  },
  {
   "cell_type": "code",
   "execution_count": 9,
   "id": "bd2b1ab5-f8de-4419-a277-46d860947d1f",
   "metadata": {},
   "outputs": [
    {
     "data": {
      "text/plain": [
       "LoadJob<project=koru-419914, location=US, id=7289c3cf-4a39-4f24-93f4-4f744cb38e6f>"
      ]
     },
     "execution_count": 9,
     "metadata": {},
     "output_type": "execute_result"
    }
   ],
   "source": [
    "job = client.load_table_from_dataframe(df, table_id)\n",
    "job.result()"
   ]
  },
  {
   "cell_type": "code",
   "execution_count": 10,
   "id": "62b9e474-82fb-4710-aac7-0e3730d88f97",
   "metadata": {},
   "outputs": [],
   "source": [
    "query = 'SELECT * FROM `iristeste.iris`'"
   ]
  },
  {
   "cell_type": "code",
   "execution_count": 11,
   "id": "f9c151ff-480c-4de0-aae6-41cf7d162ba7",
   "metadata": {},
   "outputs": [
    {
     "data": {
      "text/html": [
       "<div>\n",
       "<style scoped>\n",
       "    .dataframe tbody tr th:only-of-type {\n",
       "        vertical-align: middle;\n",
       "    }\n",
       "\n",
       "    .dataframe tbody tr th {\n",
       "        vertical-align: top;\n",
       "    }\n",
       "\n",
       "    .dataframe thead th {\n",
       "        text-align: right;\n",
       "    }\n",
       "</style>\n",
       "<table border=\"1\" class=\"dataframe\">\n",
       "  <thead>\n",
       "    <tr style=\"text-align: right;\">\n",
       "      <th></th>\n",
       "      <th>species</th>\n",
       "      <th>petal_width</th>\n",
       "      <th>sepal_width</th>\n",
       "      <th>petal_length</th>\n",
       "      <th>sepal_length</th>\n",
       "    </tr>\n",
       "  </thead>\n",
       "  <tbody>\n",
       "    <tr>\n",
       "      <th>0</th>\n",
       "      <td>Iris-versicolor</td>\n",
       "      <td>1.1</td>\n",
       "      <td>2.5</td>\n",
       "      <td>3.0</td>\n",
       "      <td>5.1</td>\n",
       "    </tr>\n",
       "    <tr>\n",
       "      <th>1</th>\n",
       "      <td>Iris-versicolor</td>\n",
       "      <td>1.0</td>\n",
       "      <td>2.0</td>\n",
       "      <td>3.5</td>\n",
       "      <td>5.0</td>\n",
       "    </tr>\n",
       "    <tr>\n",
       "      <th>2</th>\n",
       "      <td>Iris-versicolor</td>\n",
       "      <td>1.0</td>\n",
       "      <td>2.6</td>\n",
       "      <td>3.5</td>\n",
       "      <td>5.7</td>\n",
       "    </tr>\n",
       "    <tr>\n",
       "      <th>3</th>\n",
       "      <td>Iris-versicolor</td>\n",
       "      <td>1.0</td>\n",
       "      <td>2.2</td>\n",
       "      <td>4.0</td>\n",
       "      <td>6.0</td>\n",
       "    </tr>\n",
       "    <tr>\n",
       "      <th>4</th>\n",
       "      <td>Iris-versicolor</td>\n",
       "      <td>1.2</td>\n",
       "      <td>2.6</td>\n",
       "      <td>4.0</td>\n",
       "      <td>5.8</td>\n",
       "    </tr>\n",
       "    <tr>\n",
       "      <th>...</th>\n",
       "      <td>...</td>\n",
       "      <td>...</td>\n",
       "      <td>...</td>\n",
       "      <td>...</td>\n",
       "      <td>...</td>\n",
       "    </tr>\n",
       "    <tr>\n",
       "      <th>145</th>\n",
       "      <td>Iris-setosa</td>\n",
       "      <td>0.2</td>\n",
       "      <td>3.2</td>\n",
       "      <td>1.3</td>\n",
       "      <td>4.7</td>\n",
       "    </tr>\n",
       "    <tr>\n",
       "      <th>146</th>\n",
       "      <td>Iris-setosa</td>\n",
       "      <td>0.2</td>\n",
       "      <td>3.5</td>\n",
       "      <td>1.3</td>\n",
       "      <td>5.5</td>\n",
       "    </tr>\n",
       "    <tr>\n",
       "      <th>147</th>\n",
       "      <td>Iris-setosa</td>\n",
       "      <td>0.2</td>\n",
       "      <td>3.0</td>\n",
       "      <td>1.3</td>\n",
       "      <td>4.4</td>\n",
       "    </tr>\n",
       "    <tr>\n",
       "      <th>148</th>\n",
       "      <td>Iris-setosa</td>\n",
       "      <td>0.2</td>\n",
       "      <td>3.2</td>\n",
       "      <td>1.3</td>\n",
       "      <td>4.4</td>\n",
       "    </tr>\n",
       "    <tr>\n",
       "      <th>149</th>\n",
       "      <td>Iris-setosa</td>\n",
       "      <td>0.4</td>\n",
       "      <td>3.9</td>\n",
       "      <td>1.3</td>\n",
       "      <td>5.4</td>\n",
       "    </tr>\n",
       "  </tbody>\n",
       "</table>\n",
       "<p>150 rows × 5 columns</p>\n",
       "</div>"
      ],
      "text/plain": [
       "             species  petal_width  sepal_width  petal_length  sepal_length\n",
       "0    Iris-versicolor          1.1          2.5           3.0           5.1\n",
       "1    Iris-versicolor          1.0          2.0           3.5           5.0\n",
       "2    Iris-versicolor          1.0          2.6           3.5           5.7\n",
       "3    Iris-versicolor          1.0          2.2           4.0           6.0\n",
       "4    Iris-versicolor          1.2          2.6           4.0           5.8\n",
       "..               ...          ...          ...           ...           ...\n",
       "145      Iris-setosa          0.2          3.2           1.3           4.7\n",
       "146      Iris-setosa          0.2          3.5           1.3           5.5\n",
       "147      Iris-setosa          0.2          3.0           1.3           4.4\n",
       "148      Iris-setosa          0.2          3.2           1.3           4.4\n",
       "149      Iris-setosa          0.4          3.9           1.3           5.4\n",
       "\n",
       "[150 rows x 5 columns]"
      ]
     },
     "execution_count": 11,
     "metadata": {},
     "output_type": "execute_result"
    }
   ],
   "source": [
    "client.query(query).to_dataframe()"
   ]
  },
  {
   "cell_type": "code",
   "execution_count": null,
   "id": "58e6c4a8-f075-4b5d-a5f2-e7d6d8368914",
   "metadata": {},
   "outputs": [],
   "source": []
  }
 ],
 "metadata": {
  "kernelspec": {
   "display_name": "Python 3 (ipykernel)",
   "language": "python",
   "name": "python3"
  },
  "language_info": {
   "codemirror_mode": {
    "name": "ipython",
    "version": 3
   },
   "file_extension": ".py",
   "mimetype": "text/x-python",
   "name": "python",
   "nbconvert_exporter": "python",
   "pygments_lexer": "ipython3",
   "version": "3.11.5"
  }
 },
 "nbformat": 4,
 "nbformat_minor": 5
}
