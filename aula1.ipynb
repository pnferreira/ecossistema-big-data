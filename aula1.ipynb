{
 "cells": [
  {
   "cell_type": "markdown",
   "id": "f36702cf-9941-4735-bab1-f43e320d4b6a",
   "metadata": {},
   "source": [
    "## Introdução"
   ]
  },
  {
   "cell_type": "code",
   "execution_count": 1,
   "id": "1d0c7fd5-78c4-4e3d-b100-c74a70061d1e",
   "metadata": {},
   "outputs": [
    {
     "name": "stdout",
     "output_type": "stream",
     "text": [
      "Olá, mundo!\n"
     ]
    }
   ],
   "source": [
    "print(\"Olá, mundo!\")"
   ]
  },
  {
   "cell_type": "code",
   "execution_count": 19,
   "id": "adfd537f-7084-4787-a8e1-b7e8f21c1d3a",
   "metadata": {},
   "outputs": [
    {
     "name": "stdout",
     "output_type": "stream",
     "text": [
      "10\n",
      "15\n",
      "5\n",
      "5216215\n",
      "2.2\n",
      "1\n",
      "2\n"
     ]
    }
   ],
   "source": [
    "#Operações aritméticas\n",
    "print(10)\n",
    "print(10+5)\n",
    "print(10-5)\n",
    "print(1043243*5)\n",
    "print(11/5)\n",
    "print(11%5)\n",
    "print(11//5)"
   ]
  },
  {
   "cell_type": "code",
   "execution_count": 154,
   "id": "b74e1d92-483d-4676-868d-2805facf8a24",
   "metadata": {},
   "outputs": [
    {
     "name": "stdout",
     "output_type": "stream",
     "text": [
      "64\n",
      "2.8284271247461903\n"
     ]
    }
   ],
   "source": [
    "print(8**2)\n",
    "print(8**(1/2))"
   ]
  },
  {
   "cell_type": "code",
   "execution_count": 20,
   "id": "b3be279d-429f-4b13-b2d7-a85b8a169de6",
   "metadata": {},
   "outputs": [
    {
     "name": "stdin",
     "output_type": "stream",
     "text": [
      "Digite seu nome:  Poliana\n"
     ]
    },
    {
     "data": {
      "text/plain": [
       "'Poliana'"
      ]
     },
     "execution_count": 20,
     "metadata": {},
     "output_type": "execute_result"
    }
   ],
   "source": [
    "input(\"Digite seu nome: \")"
   ]
  },
  {
   "cell_type": "code",
   "execution_count": 35,
   "id": "387d51e8-c747-4f5f-be7f-58c7e18915c0",
   "metadata": {},
   "outputs": [
    {
     "name": "stdout",
     "output_type": "stream",
     "text": [
      "Oi, Poliana. Você tem 25 anos\n"
     ]
    }
   ],
   "source": [
    "nome = \"Poliana\"\n",
    "idade = 25\n",
    "\n",
    "print(f\"Oi, {nome}. Você tem {idade} anos\")"
   ]
  },
  {
   "cell_type": "code",
   "execution_count": 32,
   "id": "3f76206d-fe61-4198-be4d-490e2269b308",
   "metadata": {},
   "outputs": [
    {
     "name": "stdout",
     "output_type": "stream",
     "text": [
      "50\n"
     ]
    }
   ],
   "source": [
    "num1 = 10\n",
    "num2 = 5\n",
    "\n",
    "mult = num1*num2\n",
    "\n",
    "print(mult)"
   ]
  },
  {
   "cell_type": "code",
   "execution_count": 44,
   "id": "3fc2c005-3c15-4f52-965e-ced45f06ff61",
   "metadata": {},
   "outputs": [
    {
     "name": "stdout",
     "output_type": "stream",
     "text": [
      "31\n",
      "32\n"
     ]
    }
   ],
   "source": [
    "print(idade)\n",
    "idade = idade + 1\n",
    "print(idade)"
   ]
  },
  {
   "cell_type": "code",
   "execution_count": 45,
   "id": "501581cf-8c9c-4033-a974-99433355bc0b",
   "metadata": {},
   "outputs": [],
   "source": [
    "texto_num = '1'"
   ]
  },
  {
   "cell_type": "code",
   "execution_count": 70,
   "id": "129eda6f-4f1e-4545-bc0f-aca3099210f6",
   "metadata": {},
   "outputs": [
    {
     "name": "stdin",
     "output_type": "stream",
     "text": [
      "Digite sua idade:  25\n"
     ]
    }
   ],
   "source": [
    "idade = input(\"Digite sua idade: \")"
   ]
  },
  {
   "cell_type": "code",
   "execution_count": 72,
   "id": "7729ed59-45c5-44b1-a9cd-f6a0fb379586",
   "metadata": {},
   "outputs": [
    {
     "name": "stdout",
     "output_type": "stream",
     "text": [
      "<class 'str'>\n"
     ]
    },
    {
     "ename": "TypeError",
     "evalue": "can only concatenate str (not \"int\") to str",
     "output_type": "error",
     "traceback": [
      "\u001b[0;31m---------------------------------------------------------------------------\u001b[0m",
      "\u001b[0;31mTypeError\u001b[0m                                 Traceback (most recent call last)",
      "Cell \u001b[0;32mIn[72], line 2\u001b[0m\n\u001b[1;32m      1\u001b[0m \u001b[38;5;28mprint\u001b[39m(\u001b[38;5;28mtype\u001b[39m(idade))\n\u001b[0;32m----> 2\u001b[0m \u001b[38;5;28mprint\u001b[39m(\u001b[43midade\u001b[49m\u001b[38;5;241;43m+\u001b[39;49m\u001b[38;5;241;43m50\u001b[39;49m)\n",
      "\u001b[0;31mTypeError\u001b[0m: can only concatenate str (not \"int\") to str"
     ]
    }
   ],
   "source": [
    "print(type(idade))\n",
    "print(idade+50)"
   ]
  },
  {
   "cell_type": "code",
   "execution_count": 73,
   "id": "82142833-f4ab-499b-a872-b56fab9eaf78",
   "metadata": {},
   "outputs": [
    {
     "data": {
      "text/plain": [
       "75"
      ]
     },
     "execution_count": 73,
     "metadata": {},
     "output_type": "execute_result"
    }
   ],
   "source": [
    "int(idade)+50"
   ]
  },
  {
   "cell_type": "code",
   "execution_count": 61,
   "id": "b058bb59-c3d5-46c3-a8cc-758e09d3d2e9",
   "metadata": {},
   "outputs": [
    {
     "data": {
      "text/plain": [
       "int"
      ]
     },
     "execution_count": 61,
     "metadata": {},
     "output_type": "execute_result"
    }
   ],
   "source": [
    "type(idade)"
   ]
  },
  {
   "cell_type": "code",
   "execution_count": 66,
   "id": "4471f1ae-e997-4d76-a085-badd266677bb",
   "metadata": {},
   "outputs": [
    {
     "data": {
      "text/plain": [
       "'101'"
      ]
     },
     "execution_count": 66,
     "metadata": {},
     "output_type": "execute_result"
    }
   ],
   "source": [
    "str(num1)+'1'"
   ]
  },
  {
   "cell_type": "code",
   "execution_count": 75,
   "id": "ad1ebb32-3142-469d-a3f7-b457e9d058e1",
   "metadata": {},
   "outputs": [
    {
     "data": {
      "text/plain": [
       "bool"
      ]
     },
     "execution_count": 75,
     "metadata": {},
     "output_type": "execute_result"
    }
   ],
   "source": [
    "booleana = False\n",
    "type(booleana)"
   ]
  },
  {
   "cell_type": "markdown",
   "id": "18676734-8dc2-4dbd-bfd6-c18d3c7db0e5",
   "metadata": {},
   "source": [
    "## Tipos de dados complexos"
   ]
  },
  {
   "cell_type": "code",
   "execution_count": 81,
   "id": "b2e8abf7-a36b-45c8-9942-c733f265861a",
   "metadata": {},
   "outputs": [],
   "source": [
    "# strings\n",
    "texto = \"      Olá, eu sou a Poliana e estarei aqui com vocês nesse módulo falando sobre Python e ecossistema de big data   \""
   ]
  },
  {
   "cell_type": "code",
   "execution_count": 82,
   "id": "9f09c1f6-b3bf-43ac-8d78-c200d925e911",
   "metadata": {},
   "outputs": [
    {
     "data": {
      "text/plain": [
       "'      OLÁ, EU SOU A POLIANA E ESTAREI AQUI COM VOCÊS NESSE MÓDULO FALANDO SOBRE PYTHON E ECOSSISTEMA DE BIG DATA   '"
      ]
     },
     "execution_count": 82,
     "metadata": {},
     "output_type": "execute_result"
    }
   ],
   "source": [
    "texto.upper()"
   ]
  },
  {
   "cell_type": "code",
   "execution_count": 83,
   "id": "8eb8aa01-fce0-49fa-a784-3760d760547b",
   "metadata": {},
   "outputs": [
    {
     "data": {
      "text/plain": [
       "'      olá, eu sou a poliana e estarei aqui com vocês nesse módulo falando sobre python e ecossistema de big data   '"
      ]
     },
     "execution_count": 83,
     "metadata": {},
     "output_type": "execute_result"
    }
   ],
   "source": [
    "texto.lower()"
   ]
  },
  {
   "cell_type": "code",
   "execution_count": 84,
   "id": "5ac9e852-8f64-4cd0-bea4-d226a7e310a7",
   "metadata": {},
   "outputs": [
    {
     "data": {
      "text/plain": [
       "'      olá, eu sou a poliana e estarei aqui com vocês nesse módulo falando sobre python e ecossistema de big data   '"
      ]
     },
     "execution_count": 84,
     "metadata": {},
     "output_type": "execute_result"
    }
   ],
   "source": [
    "texto.capitalize()"
   ]
  },
  {
   "cell_type": "code",
   "execution_count": 87,
   "id": "31a299de-8193-4d9e-8875-5f84a2996c62",
   "metadata": {},
   "outputs": [
    {
     "data": {
      "text/plain": [
       "'Olá, eu sou a Poliana e estarei aqui com vocês nesse módulo falando sobre Python e ecossistema de big data'"
      ]
     },
     "execution_count": 87,
     "metadata": {},
     "output_type": "execute_result"
    }
   ],
   "source": [
    "texto = texto.strip()\n",
    "texto"
   ]
  },
  {
   "cell_type": "code",
   "execution_count": 92,
   "id": "5471a153-10c5-4bc3-b62e-4e08fd91f853",
   "metadata": {},
   "outputs": [
    {
     "data": {
      "text/plain": [
       "8"
      ]
     },
     "execution_count": 92,
     "metadata": {},
     "output_type": "execute_result"
    }
   ],
   "source": [
    "texto.find('sou')"
   ]
  },
  {
   "cell_type": "code",
   "execution_count": 102,
   "id": "d7768779-88fa-4d7a-b913-8e731a00c827",
   "metadata": {},
   "outputs": [],
   "source": [
    "lista = texto.split()"
   ]
  },
  {
   "cell_type": "code",
   "execution_count": 121,
   "id": "c25d3bcb-24eb-4898-9c46-61cba4ae5112",
   "metadata": {},
   "outputs": [
    {
     "data": {
      "text/plain": [
       "['Olá,',\n",
       " 'eu',\n",
       " 'sou',\n",
       " 'a',\n",
       " 'Poliana',\n",
       " 'e',\n",
       " 'estarei',\n",
       " 'aqui',\n",
       " 'com',\n",
       " 'vocês',\n",
       " 'nesse',\n",
       " 'módulo',\n",
       " 'falando',\n",
       " 'sobre',\n",
       " 'Python',\n",
       " 'e',\n",
       " 'ecossistema',\n",
       " 'de',\n",
       " 'big',\n",
       " 'data']"
      ]
     },
     "execution_count": 121,
     "metadata": {},
     "output_type": "execute_result"
    }
   ],
   "source": [
    "lista"
   ]
  },
  {
   "cell_type": "code",
   "execution_count": 101,
   "id": "fb410be2-d550-48af-9158-518764c3670c",
   "metadata": {},
   "outputs": [
    {
     "data": {
      "text/plain": [
       "11"
      ]
     },
     "execution_count": 101,
     "metadata": {},
     "output_type": "execute_result"
    }
   ],
   "source": [
    "texto.count('e')"
   ]
  },
  {
   "cell_type": "code",
   "execution_count": 139,
   "id": "68bbada3-0ffb-4a83-9e6b-643b522bbd4c",
   "metadata": {},
   "outputs": [
    {
     "data": {
      "text/plain": [
       "'aqui'"
      ]
     },
     "execution_count": 139,
     "metadata": {},
     "output_type": "execute_result"
    }
   ],
   "source": [
    "#listas\n",
    "lista[4]"
   ]
  },
  {
   "cell_type": "code",
   "execution_count": 111,
   "id": "0526b997-ebd3-4160-84f7-ed9f29cbd955",
   "metadata": {},
   "outputs": [],
   "source": [
    "lista_numeros = [4, 5, 3, 2, 7, 6, 1, 8, 9, 0, 1]"
   ]
  },
  {
   "cell_type": "code",
   "execution_count": 123,
   "id": "ce257fd5-bffc-4534-bcfb-7e23ac6f819f",
   "metadata": {},
   "outputs": [
    {
     "data": {
      "text/plain": [
       "4"
      ]
     },
     "execution_count": 123,
     "metadata": {},
     "output_type": "execute_result"
    }
   ],
   "source": [
    "lista.index('Poliana')"
   ]
  },
  {
   "cell_type": "code",
   "execution_count": 124,
   "id": "3237835c-5f27-48f8-8042-0249dcc2d031",
   "metadata": {},
   "outputs": [
    {
     "data": {
      "text/plain": [
       "1"
      ]
     },
     "execution_count": 124,
     "metadata": {},
     "output_type": "execute_result"
    }
   ],
   "source": [
    "lista.count('Poliana')"
   ]
  },
  {
   "cell_type": "code",
   "execution_count": 126,
   "id": "f126863b-ee9d-4836-8a72-14abb812fa6d",
   "metadata": {},
   "outputs": [
    {
     "name": "stdout",
     "output_type": "stream",
     "text": [
      "['Olá,', 'eu', 'sou', 'a', 'Poliana', 'e', 'estarei', 'aqui', 'com', 'vocês', 'nesse', 'módulo', 'falando', 'sobre', 'Python', 'e', 'ecossistema', 'de', 'big', 'data']\n",
      "['Olá,', 'eu', 'sou', 'a', 'Poliana', 'e', 'estarei', 'aqui', 'com', 'vocês', 'nesse', 'módulo', 'falando', 'sobre', 'Python', 'e', 'ecossistema', 'de', 'big', 'data', 'lista']\n"
     ]
    }
   ],
   "source": [
    "print(lista)\n",
    "lista.append('lista')\n",
    "print(lista)"
   ]
  },
  {
   "cell_type": "code",
   "execution_count": 127,
   "id": "53245e1e-497f-4609-bf3a-e20cadcfbecd",
   "metadata": {},
   "outputs": [],
   "source": [
    "lista.remove('sou')"
   ]
  },
  {
   "cell_type": "code",
   "execution_count": 128,
   "id": "d347a223-e7e4-4929-87f6-089d0ac35884",
   "metadata": {},
   "outputs": [
    {
     "data": {
      "text/plain": [
       "['Olá,',\n",
       " 'eu',\n",
       " 'a',\n",
       " 'Poliana',\n",
       " 'e',\n",
       " 'estarei',\n",
       " 'aqui',\n",
       " 'com',\n",
       " 'vocês',\n",
       " 'nesse',\n",
       " 'módulo',\n",
       " 'falando',\n",
       " 'sobre',\n",
       " 'Python',\n",
       " 'e',\n",
       " 'ecossistema',\n",
       " 'de',\n",
       " 'big',\n",
       " 'data',\n",
       " 'lista']"
      ]
     },
     "execution_count": 128,
     "metadata": {},
     "output_type": "execute_result"
    }
   ],
   "source": [
    "lista"
   ]
  },
  {
   "cell_type": "code",
   "execution_count": 117,
   "id": "1c18244c-3c40-4803-a795-e1bc23af0b03",
   "metadata": {},
   "outputs": [],
   "source": [
    "ultimo = lista_numeros.pop()"
   ]
  },
  {
   "cell_type": "code",
   "execution_count": 118,
   "id": "20f3ae3b-1041-422a-a873-ccb7efcd8685",
   "metadata": {},
   "outputs": [
    {
     "name": "stdout",
     "output_type": "stream",
     "text": [
      "7 [4, 5, 2, 7, 6, 1, 8, 9, 0, 1]\n"
     ]
    }
   ],
   "source": [
    "print(ultimo, lista_numeros)"
   ]
  },
  {
   "cell_type": "code",
   "execution_count": 129,
   "id": "44e1d0fe-5b5e-428e-ba80-d53a825fd946",
   "metadata": {},
   "outputs": [
    {
     "data": {
      "text/plain": [
       "[4, 5, 2, 7, 6, 1, 8, 9, 0, 1, 'lista']"
      ]
     },
     "execution_count": 129,
     "metadata": {},
     "output_type": "execute_result"
    }
   ],
   "source": [
    "lista_numeros"
   ]
  },
  {
   "cell_type": "code",
   "execution_count": 134,
   "id": "8356e8e5-dc34-4456-89c1-e8b0ab688245",
   "metadata": {},
   "outputs": [],
   "source": [
    "lista_numeros.reverse()"
   ]
  },
  {
   "cell_type": "code",
   "execution_count": 135,
   "id": "a93028f9-99a8-4cb5-acfc-b6c0eae64a5a",
   "metadata": {},
   "outputs": [
    {
     "data": {
      "text/plain": [
       "'lista'"
      ]
     },
     "execution_count": 135,
     "metadata": {},
     "output_type": "execute_result"
    }
   ],
   "source": [
    "lista_numeros.reverse()\n",
    "lista_numeros.pop()"
   ]
  },
  {
   "cell_type": "code",
   "execution_count": 136,
   "id": "a9376b70-860d-4683-8972-f7284f0fb44c",
   "metadata": {},
   "outputs": [
    {
     "data": {
      "text/plain": [
       "[0, 1, 1, 2, 4, 5, 6, 7, 8, 9]"
      ]
     },
     "execution_count": 136,
     "metadata": {},
     "output_type": "execute_result"
    }
   ],
   "source": [
    "lista_numeros.sort()\n",
    "lista_numeros"
   ]
  },
  {
   "cell_type": "code",
   "execution_count": 138,
   "id": "2e32e9d5-2ea0-4cae-9e1f-8025ffe57d00",
   "metadata": {},
   "outputs": [
    {
     "data": {
      "text/plain": [
       "['Olá,',\n",
       " 'Poliana',\n",
       " 'Python',\n",
       " 'a',\n",
       " 'aqui',\n",
       " 'big',\n",
       " 'com',\n",
       " 'data',\n",
       " 'de',\n",
       " 'e',\n",
       " 'e',\n",
       " 'ecossistema',\n",
       " 'estarei',\n",
       " 'eu',\n",
       " 'falando',\n",
       " 'lista',\n",
       " 'módulo',\n",
       " 'nesse',\n",
       " 'sobre',\n",
       " 'vocês']"
      ]
     },
     "execution_count": 138,
     "metadata": {},
     "output_type": "execute_result"
    }
   ],
   "source": [
    "lista.sort()\n",
    "lista"
   ]
  },
  {
   "cell_type": "code",
   "execution_count": 140,
   "id": "07b5bb55-45bd-4119-a43d-f99dd1dcdc43",
   "metadata": {},
   "outputs": [],
   "source": [
    "# dicionários\n",
    "dicionario = {'nome':'Poliana', 'idade':24, 'profissao':'professora'}"
   ]
  },
  {
   "cell_type": "code",
   "execution_count": 145,
   "id": "cf62fdec-b6f8-4e5e-b220-e845f07cd3ba",
   "metadata": {},
   "outputs": [
    {
     "data": {
      "text/plain": [
       "'Poliana'"
      ]
     },
     "execution_count": 145,
     "metadata": {},
     "output_type": "execute_result"
    }
   ],
   "source": [
    "dicionario['nome']"
   ]
  },
  {
   "cell_type": "code",
   "execution_count": 150,
   "id": "d3dc2a1c-782c-436f-bad4-a4830c5f1e12",
   "metadata": {},
   "outputs": [
    {
     "name": "stdout",
     "output_type": "stream",
     "text": [
      "dict_keys(['nome', 'idade', 'profissao'])\n",
      "dict_values(['Poliana', 24, 'professora'])\n",
      "dict_items([('nome', 'Poliana'), ('idade', 24), ('profissao', 'professora')])\n"
     ]
    }
   ],
   "source": [
    "print(dicionario.keys())\n",
    "print(dicionario.values())\n",
    "print(dicionario.items())"
   ]
  },
  {
   "cell_type": "code",
   "execution_count": 151,
   "id": "dd0de617-af0a-4829-846a-63aaf9e48e8f",
   "metadata": {},
   "outputs": [
    {
     "data": {
      "text/plain": [
       "24"
      ]
     },
     "execution_count": 151,
     "metadata": {},
     "output_type": "execute_result"
    }
   ],
   "source": [
    "dicionario.pop('idade')"
   ]
  },
  {
   "cell_type": "code",
   "execution_count": 152,
   "id": "13d5f6c5-116c-4862-b8c3-966a5ff00c58",
   "metadata": {},
   "outputs": [
    {
     "data": {
      "text/plain": [
       "{'nome': 'Poliana', 'profissao': 'professora'}"
      ]
     },
     "execution_count": 152,
     "metadata": {},
     "output_type": "execute_result"
    }
   ],
   "source": [
    "dicionario"
   ]
  },
  {
   "cell_type": "markdown",
   "id": "66d28e39-9958-44ca-bbd8-742e28607bf8",
   "metadata": {},
   "source": [
    "## Operações"
   ]
  },
  {
   "cell_type": "code",
   "execution_count": 158,
   "id": "9e298afb-25b7-43b8-a626-4d3241dddc12",
   "metadata": {},
   "outputs": [
    {
     "name": "stdout",
     "output_type": "stream",
     "text": [
      "False\n",
      "True\n",
      "True\n",
      "True\n",
      "False\n",
      "True\n"
     ]
    }
   ],
   "source": [
    "# relacionais\n",
    "print(3<2)\n",
    "print(3>2)\n",
    "print(3>=3)\n",
    "print(3<=3)\n",
    "print(3==2)\n",
    "print(3!=2)"
   ]
  },
  {
   "cell_type": "code",
   "execution_count": 162,
   "id": "64db5dfa-449f-4dc6-adc6-79f9cc68baea",
   "metadata": {},
   "outputs": [
    {
     "data": {
      "text/plain": [
       "False"
      ]
     },
     "execution_count": 162,
     "metadata": {},
     "output_type": "execute_result"
    }
   ],
   "source": [
    "30<20 and 20>30"
   ]
  },
  {
   "cell_type": "code",
   "execution_count": 165,
   "id": "b0bbec0e-049d-4aaf-b7ad-6c655a621515",
   "metadata": {},
   "outputs": [
    {
     "data": {
      "text/plain": [
       "True"
      ]
     },
     "execution_count": 165,
     "metadata": {},
     "output_type": "execute_result"
    }
   ],
   "source": [
    "30>20 or 20<30"
   ]
  },
  {
   "cell_type": "code",
   "execution_count": 168,
   "id": "b6d4234b-1e22-48fc-acea-b7c9d48b418f",
   "metadata": {},
   "outputs": [
    {
     "data": {
      "text/plain": [
       "False"
      ]
     },
     "execution_count": 168,
     "metadata": {},
     "output_type": "execute_result"
    }
   ],
   "source": [
    "not 30>20"
   ]
  },
  {
   "cell_type": "code",
   "execution_count": null,
   "id": "d46a8ac6-e3ad-4c5c-a866-4114efc53267",
   "metadata": {},
   "outputs": [],
   "source": []
  }
 ],
 "metadata": {
  "kernelspec": {
   "display_name": "Python 3 (ipykernel)",
   "language": "python",
   "name": "python3"
  },
  "language_info": {
   "codemirror_mode": {
    "name": "ipython",
    "version": 3
   },
   "file_extension": ".py",
   "mimetype": "text/x-python",
   "name": "python",
   "nbconvert_exporter": "python",
   "pygments_lexer": "ipython3",
   "version": "3.11.5"
  }
 },
 "nbformat": 4,
 "nbformat_minor": 5
}
